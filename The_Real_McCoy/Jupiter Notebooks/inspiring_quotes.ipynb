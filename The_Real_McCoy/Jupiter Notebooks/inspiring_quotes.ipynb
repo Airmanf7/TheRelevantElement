{
 "cells": [
  {
   "cell_type": "markdown",
   "metadata": {},
   "source": [
    "# Inspiring Quotes"
   ]
  },
  {
   "cell_type": "code",
   "execution_count": 2,
   "metadata": {},
   "outputs": [],
   "source": [
    "import requests\n",
    "import json\n",
    "import pandas as pd\n",
    "from random import randint"
   ]
  },
  {
   "cell_type": "markdown",
   "metadata": {},
   "source": [
    "## Call the API to get Inspiring Quotes"
   ]
  },
  {
   "cell_type": "code",
   "execution_count": 3,
   "metadata": {},
   "outputs": [],
   "source": [
    "\n",
    "url = \"https://inspiring-quotes.p.rapidapi.com/multiple\"\n",
    "\n",
    "querystring = {\"count\":\"50\"}\n",
    "\n",
    "headers = {\n",
    "    'x-rapidapi-host': \"inspiring-quotes.p.rapidapi.com\",\n",
    "    'x-rapidapi-key': \"2075772920msh129b70e8d2ba5a2p1048b0jsn1be03d3f1b6d\"\n",
    "    }\n",
    "\n",
    "response = requests.request(\"GET\", url, headers=headers, params=querystring)\n",
    "\n",
    "results = (response.text)\n",
    "results = json.loads(results)"
   ]
  },
  {
   "cell_type": "code",
   "execution_count": 4,
   "metadata": {},
   "outputs": [],
   "source": [
    "results = pd.DataFrame(results)\n",
    "inspiring_quotes = results['data'][0:len(results['data'])]\n"
   ]
  },
  {
   "cell_type": "markdown",
   "metadata": {},
   "source": [
    "## Return an Inspiring Quote"
   ]
  },
  {
   "cell_type": "code",
   "execution_count": 23,
   "metadata": {},
   "outputs": [
    {
     "data": {
      "text/plain": [
       "'A life spent making mistakes is not only more honourable but more useful than a life spent in doing nothing. - Bernard Shaw'"
      ]
     },
     "execution_count": 23,
     "metadata": {},
     "output_type": "execute_result"
    }
   ],
   "source": [
    "random_int = randint(0, len(inspiring_quotes))\n",
    "\n",
    "quote = results['data'][random_int]['quote']\n",
    "auth = results['data'][random_int]['author']\n",
    "\n",
    "inspiring_quote = f\"{quote} - {auth}\"\n",
    "\n",
    "inspiring_quote\n"
   ]
  }
 ],
 "metadata": {
  "interpreter": {
   "hash": "a69dba933c6b8185488e89e7a06f7aca9551140e90f608799b32574f8ad3faa0"
  },
  "kernelspec": {
   "display_name": "Python 3.8.12 64-bit ('FinTech': conda)",
   "language": "python",
   "name": "python3"
  },
  "language_info": {
   "codemirror_mode": {
    "name": "ipython",
    "version": 3
   },
   "file_extension": ".py",
   "mimetype": "text/x-python",
   "name": "python",
   "nbconvert_exporter": "python",
   "pygments_lexer": "ipython3",
   "version": "3.8.12"
  },
  "orig_nbformat": 4
 },
 "nbformat": 4,
 "nbformat_minor": 2
}
