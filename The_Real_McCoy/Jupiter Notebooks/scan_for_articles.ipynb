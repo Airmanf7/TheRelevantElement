{
 "cells": [
  {
   "cell_type": "markdown",
   "metadata": {},
   "source": [
    "# Scan for Articles\n",
    "<p> This script will use NewsAPI to scan for articles based on keywords\n",
    "<p> Then it will apply the Flair sentiment model and add the results to a dataframe"
   ]
  },
  {
   "cell_type": "markdown",
   "metadata": {},
   "source": [
    "## Initial Imports"
   ]
  },
  {
   "cell_type": "code",
   "execution_count": 75,
   "metadata": {},
   "outputs": [],
   "source": [
    "# Initial Imports\n",
    "\n",
    "import streamlit as st\n",
    "import os\n",
    "from newsapi import NewsApiClient\n",
    "from datetime import date, timedelta\n",
    "import pandas as pd\n",
    "from fpdf import FPDF\n",
    "news_api_key = os.getenv(\"news_api_key\")\n",
    "import flair\n",
    "from flair.data import Sentence\n",
    "import requests"
   ]
  },
  {
   "cell_type": "markdown",
   "metadata": {},
   "source": [
    "## Function to scan for articles based on keywords"
   ]
  },
  {
   "cell_type": "code",
   "execution_count": 76,
   "metadata": {},
   "outputs": [],
   "source": [
    "def scan_for_articles(keyword):\n",
    "    newsapi = NewsApiClient(api_key=news_api_key)\n",
    "    relevant_articles = newsapi.get_everything(q=keyword,\n",
    "                                        language='en', \n",
    "                                        sort_by='relevancy', \n",
    "                                        page_size=100)\n",
    "    return relevant_articles\n"
   ]
  },
  {
   "cell_type": "markdown",
   "metadata": {},
   "source": [
    "## Pass in keywords into the scan function and return a dataframe"
   ]
  },
  {
   "cell_type": "code",
   "execution_count": 82,
   "metadata": {},
   "outputs": [],
   "source": [
    "\n",
    "all_relevant_articles = pd.DataFrame(columns = [\"source\", \"author\",\t\"title\", \"description\",\t\"url\",\"urlToImage\", \"publishedAt\", \"content\", \"keyword\",\"article_sentiment\", \"article_confidence\"])\n",
    "\n",
    "keywords = ['Helping', 'Forgiveness']\n",
    "\n",
    "for word in keywords:\n",
    "    relevant_articles = scan_for_articles(word)\n",
    "    df = pd.DataFrame(relevant_articles['articles'])\n",
    "    df[\"keyword\"] = word\n",
    "    all_relevant_articles = pd.concat([all_relevant_articles, df],ignore_index=True)\n",
    "\n",
    "# Clean the data in the source column\n",
    "#     \n",
    "all_relevant_articles[\"source\"] = all_relevant_articles[\"source\"].apply(lambda x: x['name'])\n"
   ]
  },
  {
   "cell_type": "markdown",
   "metadata": {},
   "source": [
    "# Apply Sentiment model"
   ]
  },
  {
   "cell_type": "code",
   "execution_count": 89,
   "metadata": {},
   "outputs": [
    {
     "name": "stdout",
     "output_type": "stream",
     "text": [
      "2022-02-12 14:54:30,213 loading file C:\\Users\\Airma\\.flair\\models\\sentiment-en-mix-distillbert_4.pt\n"
     ]
    }
   ],
   "source": [
    "article_sentiment_model = flair.models.TextClassifier.load('en-sentiment')\n",
    "\n",
    "# Initialize lists\n",
    "\n",
    "article_sentiment = []\n",
    "article_confidence = []\n",
    "\n",
    "\n",
    "# Run Sentiment analysis on collected news sentences\n",
    "\n",
    "\n",
    "for sentence in all_relevant_articles[\"description\"]:\n",
    "        if sentence.strip() == \"\":\n",
    "                article_confidence.append(\"\")\n",
    "                article_sentiment.append(\"\")\n",
    "                \n",
    "        else:\n",
    "                sample = flair.data.Sentence(sentence)\n",
    "                article_sentiment_model.predict(sample)\n",
    "                article_sentiment.append(sample.labels[0].value)\n",
    "                article_confidence.append(sample.labels[0].score)\n",
    "\n",
    "# Add Results to Dataframe\n",
    "\n",
    "all_relevant_articles['sentiment'] = article_sentiment\n",
    "all_relevant_articles['confidence'] = article_confidence"
   ]
  },
  {
   "cell_type": "code",
   "execution_count": 105,
   "metadata": {},
   "outputs": [
    {
     "data": {
      "text/html": [
       "<div>\n",
       "<style scoped>\n",
       "    .dataframe tbody tr th:only-of-type {\n",
       "        vertical-align: middle;\n",
       "    }\n",
       "\n",
       "    .dataframe tbody tr th {\n",
       "        vertical-align: top;\n",
       "    }\n",
       "\n",
       "    .dataframe thead th {\n",
       "        text-align: right;\n",
       "    }\n",
       "</style>\n",
       "<table border=\"1\" class=\"dataframe\">\n",
       "  <thead>\n",
       "    <tr style=\"text-align: right;\">\n",
       "      <th></th>\n",
       "      <th>source</th>\n",
       "      <th>author</th>\n",
       "      <th>title</th>\n",
       "      <th>description</th>\n",
       "      <th>url</th>\n",
       "      <th>urlToImage</th>\n",
       "      <th>publishedAt</th>\n",
       "      <th>content</th>\n",
       "      <th>keyword</th>\n",
       "      <th>sentiment</th>\n",
       "      <th>confidence</th>\n",
       "    </tr>\n",
       "  </thead>\n",
       "  <tbody>\n",
       "    <tr>\n",
       "      <th>0</th>\n",
       "      <td>New York Times</td>\n",
       "      <td>Annie Karni</td>\n",
       "      <td>Clyburn Pushes Childs for Supreme Court, Testi...</td>\n",
       "      <td>The highest-ranking Black member of Congress i...</td>\n",
       "      <td>https://www.nytimes.com/2022/02/03/us/politics...</td>\n",
       "      <td>https://static01.nyt.com/images/2022/02/03/us/...</td>\n",
       "      <td>2022-02-03T21:58:17Z</td>\n",
       "      <td>I decided that Joe Biden needed to do somethin...</td>\n",
       "      <td>Helping</td>\n",
       "      <td>POSITIVE</td>\n",
       "      <td>0.992109</td>\n",
       "    </tr>\n",
       "  </tbody>\n",
       "</table>\n",
       "</div>"
      ],
      "text/plain": [
       "           source       author  \\\n",
       "0  New York Times  Annie Karni   \n",
       "\n",
       "                                               title  \\\n",
       "0  Clyburn Pushes Childs for Supreme Court, Testi...   \n",
       "\n",
       "                                         description  \\\n",
       "0  The highest-ranking Black member of Congress i...   \n",
       "\n",
       "                                                 url  \\\n",
       "0  https://www.nytimes.com/2022/02/03/us/politics...   \n",
       "\n",
       "                                          urlToImage           publishedAt  \\\n",
       "0  https://static01.nyt.com/images/2022/02/03/us/...  2022-02-03T21:58:17Z   \n",
       "\n",
       "                                             content  keyword sentiment  \\\n",
       "0  I decided that Joe Biden needed to do somethin...  Helping  POSITIVE   \n",
       "\n",
       "  confidence  \n",
       "0   0.992109  "
      ]
     },
     "execution_count": 105,
     "metadata": {},
     "output_type": "execute_result"
    }
   ],
   "source": [
    "all_relevant_articles.head(1)"
   ]
  },
  {
   "cell_type": "code",
   "execution_count": 111,
   "metadata": {},
   "outputs": [],
   "source": [
    "def make_clickable(url, name):\n",
    "    return '<a href=\"{}\" rel=\"noopener noreferrer\" target=\"_blank\">{}</a>'.format(url,name)\n",
    "\n",
    "all_relevant_articles['url_clickable'] = all_relevant_articles.apply(lambda x: make_clickable(x['url'], x['description']), axis=1)\n",
    "\n",
    "\n"
   ]
  },
  {
   "cell_type": "code",
   "execution_count": 113,
   "metadata": {},
   "outputs": [
    {
     "data": {
      "text/html": [
       "<div>\n",
       "<style scoped>\n",
       "    .dataframe tbody tr th:only-of-type {\n",
       "        vertical-align: middle;\n",
       "    }\n",
       "\n",
       "    .dataframe tbody tr th {\n",
       "        vertical-align: top;\n",
       "    }\n",
       "\n",
       "    .dataframe thead th {\n",
       "        text-align: right;\n",
       "    }\n",
       "</style>\n",
       "<table border=\"1\" class=\"dataframe\">\n",
       "  <thead>\n",
       "    <tr style=\"text-align: right;\">\n",
       "      <th></th>\n",
       "      <th>source</th>\n",
       "      <th>author</th>\n",
       "      <th>title</th>\n",
       "      <th>description</th>\n",
       "      <th>url</th>\n",
       "      <th>urlToImage</th>\n",
       "      <th>publishedAt</th>\n",
       "      <th>content</th>\n",
       "      <th>keyword</th>\n",
       "      <th>sentiment</th>\n",
       "      <th>confidence</th>\n",
       "      <th>url_clickable</th>\n",
       "    </tr>\n",
       "  </thead>\n",
       "  <tbody>\n",
       "    <tr>\n",
       "      <th>0</th>\n",
       "      <td>New York Times</td>\n",
       "      <td>Annie Karni</td>\n",
       "      <td>Clyburn Pushes Childs for Supreme Court, Testi...</td>\n",
       "      <td>The highest-ranking Black member of Congress i...</td>\n",
       "      <td>&lt;a href=\"https://www.nytimes.com/2022/02/03/us...</td>\n",
       "      <td>https://static01.nyt.com/images/2022/02/03/us/...</td>\n",
       "      <td>2022-02-03T21:58:17Z</td>\n",
       "      <td>I decided that Joe Biden needed to do somethin...</td>\n",
       "      <td>Helping</td>\n",
       "      <td>POSITIVE</td>\n",
       "      <td>0.992109</td>\n",
       "      <td>&lt;a href=\"&lt;a href=\"https://www.nytimes.com/2022...</td>\n",
       "    </tr>\n",
       "    <tr>\n",
       "      <th>1</th>\n",
       "      <td>Gizmodo.com</td>\n",
       "      <td>Justin Carter</td>\n",
       "      <td>M. Night Shyamalan Thanks Blade Runner 2049 fo...</td>\n",
       "      <td>Guardians of the Galaxy is typically credited ...</td>\n",
       "      <td>&lt;a href=\"https://gizmodo.com/m-night-shyamalan...</td>\n",
       "      <td>https://i.kinja-img.com/gawker-media/image/upl...</td>\n",
       "      <td>2022-01-29T17:45:00Z</td>\n",
       "      <td>Guardians of the Galaxyis typically credited w...</td>\n",
       "      <td>Helping</td>\n",
       "      <td>POSITIVE</td>\n",
       "      <td>0.99732</td>\n",
       "      <td>&lt;a href=\"&lt;a href=\"https://gizmodo.com/m-night-...</td>\n",
       "    </tr>\n",
       "    <tr>\n",
       "      <th>2</th>\n",
       "      <td>New York Times</td>\n",
       "      <td>Andy Newman</td>\n",
       "      <td>How $1,000 a Month in Guaranteed Income Is Hel...</td>\n",
       "      <td>A new, privately funded program offers familie...</td>\n",
       "      <td>&lt;a href=\"https://www.nytimes.com/2022/01/18/ny...</td>\n",
       "      <td>https://static01.nyt.com/images/2022/01/17/nyr...</td>\n",
       "      <td>2022-01-18T16:15:31Z</td>\n",
       "      <td>The Bridge Project sprang from Nido de Esperan...</td>\n",
       "      <td>Helping</td>\n",
       "      <td>POSITIVE</td>\n",
       "      <td>0.928812</td>\n",
       "      <td>&lt;a href=\"&lt;a href=\"https://www.nytimes.com/2022...</td>\n",
       "    </tr>\n",
       "    <tr>\n",
       "      <th>3</th>\n",
       "      <td>New York Times</td>\n",
       "      <td>Stanley Reed</td>\n",
       "      <td>What Happens if Russia Cuts Off Europe’s Natur...</td>\n",
       "      <td>Europe is a huge customer of Russia’s fossil f...</td>\n",
       "      <td>&lt;a href=\"https://www.nytimes.com/2022/01/25/bu...</td>\n",
       "      <td>https://static01.nyt.com/images/2022/01/25/bus...</td>\n",
       "      <td>2022-01-25T22:24:32Z</td>\n",
       "      <td>But while storage levels remain low and prices...</td>\n",
       "      <td>Helping</td>\n",
       "      <td>POSITIVE</td>\n",
       "      <td>0.996027</td>\n",
       "      <td>&lt;a href=\"&lt;a href=\"https://www.nytimes.com/2022...</td>\n",
       "    </tr>\n",
       "    <tr>\n",
       "      <th>4</th>\n",
       "      <td>New York Times</td>\n",
       "      <td>None</td>\n",
       "      <td>‘I Asked a Woman on the Platform if She Had An...</td>\n",
       "      <td>Helping hands in the subway, a tug of war on t...</td>\n",
       "      <td>&lt;a href=\"https://www.nytimes.com/2022/01/23/ny...</td>\n",
       "      <td>https://static01.nyt.com/images/2022/01/23/nyr...</td>\n",
       "      <td>2022-01-23T08:00:07Z</td>\n",
       "      <td>Another woman called out to me.\\r\\nI overheard...</td>\n",
       "      <td>Helping</td>\n",
       "      <td>POSITIVE</td>\n",
       "      <td>0.981947</td>\n",
       "      <td>&lt;a href=\"&lt;a href=\"https://www.nytimes.com/2022...</td>\n",
       "    </tr>\n",
       "  </tbody>\n",
       "</table>\n",
       "</div>"
      ],
      "text/plain": [
       "           source         author  \\\n",
       "0  New York Times    Annie Karni   \n",
       "1     Gizmodo.com  Justin Carter   \n",
       "2  New York Times    Andy Newman   \n",
       "3  New York Times   Stanley Reed   \n",
       "4  New York Times           None   \n",
       "\n",
       "                                               title  \\\n",
       "0  Clyburn Pushes Childs for Supreme Court, Testi...   \n",
       "1  M. Night Shyamalan Thanks Blade Runner 2049 fo...   \n",
       "2  How $1,000 a Month in Guaranteed Income Is Hel...   \n",
       "3  What Happens if Russia Cuts Off Europe’s Natur...   \n",
       "4  ‘I Asked a Woman on the Platform if She Had An...   \n",
       "\n",
       "                                         description  \\\n",
       "0  The highest-ranking Black member of Congress i...   \n",
       "1  Guardians of the Galaxy is typically credited ...   \n",
       "2  A new, privately funded program offers familie...   \n",
       "3  Europe is a huge customer of Russia’s fossil f...   \n",
       "4  Helping hands in the subway, a tug of war on t...   \n",
       "\n",
       "                                                 url  \\\n",
       "0  <a href=\"https://www.nytimes.com/2022/02/03/us...   \n",
       "1  <a href=\"https://gizmodo.com/m-night-shyamalan...   \n",
       "2  <a href=\"https://www.nytimes.com/2022/01/18/ny...   \n",
       "3  <a href=\"https://www.nytimes.com/2022/01/25/bu...   \n",
       "4  <a href=\"https://www.nytimes.com/2022/01/23/ny...   \n",
       "\n",
       "                                          urlToImage           publishedAt  \\\n",
       "0  https://static01.nyt.com/images/2022/02/03/us/...  2022-02-03T21:58:17Z   \n",
       "1  https://i.kinja-img.com/gawker-media/image/upl...  2022-01-29T17:45:00Z   \n",
       "2  https://static01.nyt.com/images/2022/01/17/nyr...  2022-01-18T16:15:31Z   \n",
       "3  https://static01.nyt.com/images/2022/01/25/bus...  2022-01-25T22:24:32Z   \n",
       "4  https://static01.nyt.com/images/2022/01/23/nyr...  2022-01-23T08:00:07Z   \n",
       "\n",
       "                                             content  keyword sentiment  \\\n",
       "0  I decided that Joe Biden needed to do somethin...  Helping  POSITIVE   \n",
       "1  Guardians of the Galaxyis typically credited w...  Helping  POSITIVE   \n",
       "2  The Bridge Project sprang from Nido de Esperan...  Helping  POSITIVE   \n",
       "3  But while storage levels remain low and prices...  Helping  POSITIVE   \n",
       "4  Another woman called out to me.\\r\\nI overheard...  Helping  POSITIVE   \n",
       "\n",
       "  confidence                                      url_clickable  \n",
       "0   0.992109  <a href=\"<a href=\"https://www.nytimes.com/2022...  \n",
       "1    0.99732  <a href=\"<a href=\"https://gizmodo.com/m-night-...  \n",
       "2   0.928812  <a href=\"<a href=\"https://www.nytimes.com/2022...  \n",
       "3   0.996027  <a href=\"<a href=\"https://www.nytimes.com/2022...  \n",
       "4   0.981947  <a href=\"<a href=\"https://www.nytimes.com/2022...  "
      ]
     },
     "execution_count": 113,
     "metadata": {},
     "output_type": "execute_result"
    }
   ],
   "source": [
    "all_relevant_articles.head()\n"
   ]
  }
 ],
 "metadata": {
  "interpreter": {
   "hash": "a69dba933c6b8185488e89e7a06f7aca9551140e90f608799b32574f8ad3faa0"
  },
  "kernelspec": {
   "display_name": "Python 3.8.12 ('FinTech')",
   "language": "python",
   "name": "python3"
  },
  "language_info": {
   "codemirror_mode": {
    "name": "ipython",
    "version": 3
   },
   "file_extension": ".py",
   "mimetype": "text/x-python",
   "name": "python",
   "nbconvert_exporter": "python",
   "pygments_lexer": "ipython3",
   "version": "3.8.12"
  },
  "orig_nbformat": 4
 },
 "nbformat": 4,
 "nbformat_minor": 2
}
