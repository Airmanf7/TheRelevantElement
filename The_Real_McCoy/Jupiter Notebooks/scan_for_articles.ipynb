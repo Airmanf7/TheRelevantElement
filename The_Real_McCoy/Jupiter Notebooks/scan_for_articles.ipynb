{
 "cells": [
  {
   "cell_type": "markdown",
   "metadata": {},
   "source": [
    "# Scan for Articles\n",
    "<p> This script will use NewsAPI to scan for articles based on keywords\n",
    "<p> Then it will apply the Flair sentiment model and add the results to a dataframe"
   ]
  },
  {
   "cell_type": "markdown",
   "metadata": {},
   "source": [
    "## Initial Imports"
   ]
  },
  {
   "cell_type": "code",
   "execution_count": 1,
   "metadata": {},
   "outputs": [
    {
     "name": "stderr",
     "output_type": "stream",
     "text": [
      "2022-02-17 19:27:30.150 INFO    numexpr.utils: NumExpr defaulting to 8 threads.\n"
     ]
    }
   ],
   "source": [
    "# Initial Imports\n",
    "\n",
    "import streamlit as st\n",
    "import os\n",
    "from newsapi import NewsApiClient\n",
    "from datetime import date, timedelta\n",
    "import pandas as pd\n",
    "from fpdf import FPDF\n",
    "news_api_key = os.getenv(\"news_api_key\")\n",
    "import flair\n",
    "from flair.data import Sentence\n",
    "import requests\n",
    "import helium"
   ]
  },
  {
   "cell_type": "markdown",
   "metadata": {},
   "source": [
    "## Function to scan for articles based on keywords"
   ]
  },
  {
   "cell_type": "code",
   "execution_count": 2,
   "metadata": {},
   "outputs": [],
   "source": [
    "def scan_for_articles(keyword):\n",
    "    newsapi = NewsApiClient(api_key=news_api_key)\n",
    "    relevant_articles = newsapi.get_everything(q=keyword,\n",
    "                                        language='en', \n",
    "                                        sort_by='relevancy', \n",
    "                                        page_size=100)\n",
    "    return relevant_articles\n"
   ]
  },
  {
   "cell_type": "code",
   "execution_count": 2,
   "metadata": {},
   "outputs": [],
   "source": [
    "# from selenium import webdriver\n",
    "  \n",
    "# # Create object\n",
    "# driver = webdriver.Chrome()\n",
    "  \n",
    "# # Assign URL\n",
    "# url = \"https://www.geeksforgeeks.org/\"\n",
    "  \n",
    "# # New Url\n",
    "# new_url = [\"https://www.wombo.art\", \"https://www.foxnews.com/media/fox-news-crushes-competition-cnn-draws-smallest-weekly-audience-seven-years\"]\n",
    "\n",
    "# # New Url\n",
    "# another_new_url = \"https://www.wombo.art\"\n",
    "  \n",
    "# # Opening first url\n",
    "# driver.get(url)\n",
    "  \n",
    "# # Open a new window\n",
    "# driver.execute_script(\"window.open('');\")\n",
    "  \n",
    "# # Switch to the new window and open new URL\n",
    "# driver.switch_to.window(driver.window_handles[1])\n",
    "# driver.get(new_url[0])\n",
    "\n",
    "# driver.execute_script(\"window.open('');\")\n",
    "# driver.switch_to.window(driver.window_handles[2])\n",
    "# driver.get(new_url[1])"
   ]
  },
  {
   "cell_type": "markdown",
   "metadata": {},
   "source": [
    "## Pass in keywords into the scan function and return a dataframe"
   ]
  },
  {
   "cell_type": "code",
   "execution_count": 3,
   "metadata": {},
   "outputs": [],
   "source": [
    "\n",
    "all_relevant_articles = pd.DataFrame(columns = [\"source\", \"author\",\t\"title\", \"description\",\t\"url\",\"urlToImage\", \"publishedAt\", \"content\", \"keyword\",\"article_sentiment\", \"article_confidence\"])\n",
    "\n",
    "keywords = ['Helping', 'Forgiveness', 'Positive']\n",
    "\n",
    "for word in keywords:\n",
    "    relevant_articles = scan_for_articles(word)\n",
    "    df = pd.DataFrame(relevant_articles['articles'])\n",
    "    df[\"keyword\"] = word\n",
    "    all_relevant_articles = pd.concat([all_relevant_articles, df],ignore_index=True)\n",
    "\n",
    "# Clean the data in the source column\n",
    "#     \n",
    "all_relevant_articles[\"source\"] = all_relevant_articles[\"source\"].apply(lambda x: x['name'])\n"
   ]
  },
  {
   "cell_type": "markdown",
   "metadata": {},
   "source": [
    "# Apply Sentiment model"
   ]
  },
  {
   "cell_type": "code",
   "execution_count": 4,
   "metadata": {},
   "outputs": [
    {
     "name": "stdout",
     "output_type": "stream",
     "text": [
      "2022-02-17 19:28:10,522 loading file C:\\Users\\Airma\\.flair\\models\\sentiment-en-mix-distillbert_4.pt\n"
     ]
    }
   ],
   "source": [
    "article_sentiment_model = flair.models.TextClassifier.load('en-sentiment')\n",
    "\n",
    "# Initialize lists\n",
    "\n",
    "article_sentiment = []\n",
    "article_confidence = []\n",
    "\n",
    "\n",
    "# Run Sentiment analysis on collected news sentences\n",
    "\n",
    "\n",
    "for sentence in all_relevant_articles[\"description\"]:\n",
    "        if sentence.strip() == \"\":\n",
    "                article_confidence.append(\"\")\n",
    "                article_sentiment.append(\"\")\n",
    "                \n",
    "        else:\n",
    "                sample = flair.data.Sentence(sentence)\n",
    "                article_sentiment_model.predict(sample)\n",
    "                article_sentiment.append(sample.labels[0].value)\n",
    "                article_confidence.append(sample.labels[0].score)\n",
    "\n",
    "# Add Results to Dataframe\n",
    "\n",
    "all_relevant_articles['sentiment'] = article_sentiment\n",
    "all_relevant_articles['confidence'] = article_confidence"
   ]
  },
  {
   "cell_type": "code",
   "execution_count": 6,
   "metadata": {},
   "outputs": [],
   "source": [
    "all_relevant_articles.to_csv(\"all_relevant_articles.csv\")"
   ]
  }
 ],
 "metadata": {
  "interpreter": {
   "hash": "a69dba933c6b8185488e89e7a06f7aca9551140e90f608799b32574f8ad3faa0"
  },
  "kernelspec": {
   "display_name": "Python 3.8.12 ('FinTech')",
   "language": "python",
   "name": "python3"
  },
  "language_info": {
   "codemirror_mode": {
    "name": "ipython",
    "version": 3
   },
   "file_extension": ".py",
   "mimetype": "text/x-python",
   "name": "python",
   "nbconvert_exporter": "python",
   "pygments_lexer": "ipython3",
   "version": "3.8.12"
  },
  "orig_nbformat": 4
 },
 "nbformat": 4,
 "nbformat_minor": 2
}
