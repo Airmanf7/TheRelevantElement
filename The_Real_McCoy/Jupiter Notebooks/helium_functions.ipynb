{
 "cells": [
  {
   "cell_type": "code",
   "execution_count": 1,
   "metadata": {},
   "outputs": [],
   "source": [
    "from helium import *\n",
    "import shutil\n",
    "import time\n",
    "from selenium import webdriver\n",
    "from fpdf import FPDF\n",
    "\n"
   ]
  },
  {
   "cell_type": "markdown",
   "metadata": {},
   "source": [
    "# Using Helium Module to interact with Google Chrome"
   ]
  },
  {
   "cell_type": "code",
   "execution_count": 4,
   "metadata": {},
   "outputs": [],
   "source": [
    "def create_wombo_art(description, title, art_style):\n",
    "\n",
    "    helium.start_chrome('https://app.wombo.art')\n",
    "    helium.write(description, into=\"Type anything\")\n",
    "    helium.click(Image(alt = art_style))\n",
    "    helium.click(\"Create\")\n",
    "    helium.wait_until(Text(\"Name artwork\").exists,timeout_secs=60)\n",
    "    title = title.replace(\" \" , \"_\") \n",
    "    helium.write(title, into=\"Enter title\")\n",
    "    helium.click(\"Save\")\n",
    "    time.sleep(10)\n",
    "    original = r\"C://Users//Airma//Downloads//\" + title + \"_TradingCard.jpg\"\n",
    "    target = r\"C://Users//Airma//FinTechClass//MiamiClasswork//other_projects//relevant_element//resources//Images//\" + title + \".jpg\"\n",
    "    shutil.move(original,target)\n",
    "    # helium.kill_browser()\n",
    "    \n",
    "    return title\n"
   ]
  },
  {
   "cell_type": "code",
   "execution_count": 5,
   "metadata": {},
   "outputs": [
    {
     "data": {
      "text/plain": [
       "'Cars'"
      ]
     },
     "execution_count": 5,
     "metadata": {},
     "output_type": "execute_result"
    }
   ],
   "source": [
    "create_wombo_art(\"I love stuff\", \"Cars\", \"Baroque\")\n",
    "\n"
   ]
  }
 ],
 "metadata": {
  "interpreter": {
   "hash": "a69dba933c6b8185488e89e7a06f7aca9551140e90f608799b32574f8ad3faa0"
  },
  "kernelspec": {
   "display_name": "Python 3.8.12 64-bit ('FinTech': conda)",
   "language": "python",
   "name": "python3"
  },
  "language_info": {
   "codemirror_mode": {
    "name": "ipython",
    "version": 3
   },
   "file_extension": ".py",
   "mimetype": "text/x-python",
   "name": "python",
   "nbconvert_exporter": "python",
   "pygments_lexer": "ipython3",
   "version": "3.8.12"
  },
  "orig_nbformat": 4
 },
 "nbformat": 4,
 "nbformat_minor": 2
}
