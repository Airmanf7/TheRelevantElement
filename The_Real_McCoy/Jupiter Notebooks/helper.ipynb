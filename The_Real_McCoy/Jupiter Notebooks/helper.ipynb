{
 "cells": [
  {
   "cell_type": "code",
   "execution_count": 5,
   "metadata": {},
   "outputs": [],
   "source": [
    "top_headlines_df = [\"1\", \"2\", \"3\", \"4\", \"5\", \"6\", \"7\", \"8\", \"9\", \"10\"]\n",
    "thru_6 =[]"
   ]
  },
  {
   "cell_type": "code",
   "execution_count": 6,
   "metadata": {},
   "outputs": [
    {
     "name": "stdout",
     "output_type": "stream",
     "text": [
      "[]\n"
     ]
    }
   ],
   "source": [
    "\n",
    "while index < 6:\n",
    "    index = 0\n",
    "    for row in top_headlines_df:\n",
    "        thru_6.append(row)\n",
    "        index += 1\n",
    "print(thru_6)"
   ]
  }
 ],
 "metadata": {
  "interpreter": {
   "hash": "a69dba933c6b8185488e89e7a06f7aca9551140e90f608799b32574f8ad3faa0"
  },
  "kernelspec": {
   "display_name": "Python 3.8.12 ('FinTech')",
   "language": "python",
   "name": "python3"
  },
  "language_info": {
   "codemirror_mode": {
    "name": "ipython",
    "version": 3
   },
   "file_extension": ".py",
   "mimetype": "text/x-python",
   "name": "python",
   "nbconvert_exporter": "python",
   "pygments_lexer": "ipython3",
   "version": "3.8.12"
  },
  "orig_nbformat": 4
 },
 "nbformat": 4,
 "nbformat_minor": 2
}
