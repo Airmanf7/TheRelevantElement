{
 "cells": [
  {
   "cell_type": "code",
   "execution_count": 1,
   "metadata": {},
   "outputs": [],
   "source": [
    "# Initial Imports\n",
    "\n",
    "import os\n",
    "from newsapi import NewsApiClient\n",
    "from datetime import date, timedelta\n",
    "import pandas as pd\n",
    "import pdfkit\n",
    "import flair\n",
    "\n",
    "news_api_key = os.getenv(\"news_api_key\")"
   ]
  },
  {
   "cell_type": "code",
   "execution_count": 2,
   "metadata": {},
   "outputs": [],
   "source": [
    "def top_headlines():\n",
    "    newsapi = NewsApiClient(api_key=news_api_key)\n",
    "    top_articles = newsapi.get_top_headlines(country=\"us\", language='en')\n",
    "\n",
    "    return top_articles\n",
    "\n"
   ]
  },
  {
   "cell_type": "code",
   "execution_count": 18,
   "metadata": {},
   "outputs": [],
   "source": []
  },
  {
   "cell_type": "code",
   "execution_count": 3,
   "metadata": {},
   "outputs": [],
   "source": [
    "top_headlines_df = pd.DataFrame.from_dict(top_headlines()['articles'])\n",
    "    "
   ]
  },
  {
   "cell_type": "code",
   "execution_count": 5,
   "metadata": {},
   "outputs": [
    {
     "ename": "SyntaxError",
     "evalue": "invalid syntax (Temp/ipykernel_15248/2359533594.py, line 9)",
     "output_type": "error",
     "traceback": [
      "\u001b[1;36m  File \u001b[1;32m\"C:\\Users\\Airma\\AppData\\Local\\Temp/ipykernel_15248/2359533594.py\"\u001b[1;36m, line \u001b[1;32m9\u001b[0m\n\u001b[1;33m    return all_articles\u001b[0m\n\u001b[1;37m    ^\u001b[0m\n\u001b[1;31mSyntaxError\u001b[0m\u001b[1;31m:\u001b[0m invalid syntax\n"
     ]
    }
   ],
   "source": [
    "# search_terms = []\n",
    "\n",
    "# def get_all_articles(search_term):\n",
    "    \n",
    "#     newsapi = NewsApiClient(api_key=news_api_key)\n",
    "#     all_articles = newsapi.get_everything(q=search_term,                                \n",
    "                                    \n",
    "    \n",
    "#     return all_articles"
   ]
  },
  {
   "cell_type": "code",
   "execution_count": 4,
   "metadata": {},
   "outputs": [],
   "source": [
    "top_headlines_df[\"source\"] = top_headlines_df[\"source\"].apply(lambda x: x['name'])"
   ]
  },
  {
   "cell_type": "code",
   "execution_count": 23,
   "metadata": {},
   "outputs": [
    {
     "data": {
      "text/plain": [
       "'https://www.washingtonpost.com/world/2022/02/14/ukraine-russia-putin-nato/'"
      ]
     },
     "execution_count": 23,
     "metadata": {},
     "output_type": "execute_result"
    }
   ],
   "source": [
    "import helium\n",
    "\n",
    "top_headlines_df['url'][0]"
   ]
  },
  {
   "cell_type": "code",
   "execution_count": 24,
   "metadata": {},
   "outputs": [
    {
     "data": {
      "text/plain": [
       "<selenium.webdriver.chrome.webdriver.WebDriver (session=\"db94f955e77b787d62734406d095da64\")>"
      ]
     },
     "execution_count": 24,
     "metadata": {},
     "output_type": "execute_result"
    }
   ],
   "source": [
    "helium.start_chrome(top_headlines_df['url'][0])"
   ]
  },
  {
   "cell_type": "code",
   "execution_count": 12,
   "metadata": {},
   "outputs": [],
   "source": [
    "summary_top_headlines_df = top_headlines_df.loc[:, ['source', 'title', 'description']]"
   ]
  },
  {
   "cell_type": "code",
   "execution_count": 22,
   "metadata": {},
   "outputs": [
    {
     "ename": "KeyError",
     "evalue": "'url'",
     "output_type": "error",
     "traceback": [
      "\u001b[1;31m---------------------------------------------------------------------------\u001b[0m",
      "\u001b[1;31mKeyError\u001b[0m                                  Traceback (most recent call last)",
      "\u001b[1;32m~\\anaconda3\\envs\\FinTech\\lib\\site-packages\\pandas\\core\\indexes\\base.py\u001b[0m in \u001b[0;36mget_loc\u001b[1;34m(self, key, method, tolerance)\u001b[0m\n\u001b[0;32m   3360\u001b[0m             \u001b[1;32mtry\u001b[0m\u001b[1;33m:\u001b[0m\u001b[1;33m\u001b[0m\u001b[1;33m\u001b[0m\u001b[0m\n\u001b[1;32m-> 3361\u001b[1;33m                 \u001b[1;32mreturn\u001b[0m \u001b[0mself\u001b[0m\u001b[1;33m.\u001b[0m\u001b[0m_engine\u001b[0m\u001b[1;33m.\u001b[0m\u001b[0mget_loc\u001b[0m\u001b[1;33m(\u001b[0m\u001b[0mcasted_key\u001b[0m\u001b[1;33m)\u001b[0m\u001b[1;33m\u001b[0m\u001b[1;33m\u001b[0m\u001b[0m\n\u001b[0m\u001b[0;32m   3362\u001b[0m             \u001b[1;32mexcept\u001b[0m \u001b[0mKeyError\u001b[0m \u001b[1;32mas\u001b[0m \u001b[0merr\u001b[0m\u001b[1;33m:\u001b[0m\u001b[1;33m\u001b[0m\u001b[1;33m\u001b[0m\u001b[0m\n",
      "\u001b[1;32m~\\anaconda3\\envs\\FinTech\\lib\\site-packages\\pandas\\_libs\\index.pyx\u001b[0m in \u001b[0;36mpandas._libs.index.IndexEngine.get_loc\u001b[1;34m()\u001b[0m\n",
      "\u001b[1;32m~\\anaconda3\\envs\\FinTech\\lib\\site-packages\\pandas\\_libs\\index.pyx\u001b[0m in \u001b[0;36mpandas._libs.index.IndexEngine.get_loc\u001b[1;34m()\u001b[0m\n",
      "\u001b[1;32mpandas\\_libs\\hashtable_class_helper.pxi\u001b[0m in \u001b[0;36mpandas._libs.hashtable.PyObjectHashTable.get_item\u001b[1;34m()\u001b[0m\n",
      "\u001b[1;32mpandas\\_libs\\hashtable_class_helper.pxi\u001b[0m in \u001b[0;36mpandas._libs.hashtable.PyObjectHashTable.get_item\u001b[1;34m()\u001b[0m\n",
      "\u001b[1;31mKeyError\u001b[0m: 'url'",
      "\nThe above exception was the direct cause of the following exception:\n",
      "\u001b[1;31mKeyError\u001b[0m                                  Traceback (most recent call last)",
      "\u001b[1;32m~\\AppData\\Local\\Temp/ipykernel_18400/1220109810.py\u001b[0m in \u001b[0;36m<module>\u001b[1;34m\u001b[0m\n\u001b[0;32m      1\u001b[0m \u001b[1;32mimport\u001b[0m \u001b[0mhelium\u001b[0m\u001b[1;33m\u001b[0m\u001b[1;33m\u001b[0m\u001b[0m\n\u001b[0;32m      2\u001b[0m \u001b[1;33m\u001b[0m\u001b[0m\n\u001b[1;32m----> 3\u001b[1;33m \u001b[0msummary_top_headlines_df\u001b[0m\u001b[1;33m[\u001b[0m\u001b[1;34m'url'\u001b[0m\u001b[1;33m]\u001b[0m\u001b[1;33m[\u001b[0m\u001b[1;36m0\u001b[0m\u001b[1;33m]\u001b[0m\u001b[1;33m\u001b[0m\u001b[1;33m\u001b[0m\u001b[0m\n\u001b[0m",
      "\u001b[1;32m~\\anaconda3\\envs\\FinTech\\lib\\site-packages\\pandas\\core\\frame.py\u001b[0m in \u001b[0;36m__getitem__\u001b[1;34m(self, key)\u001b[0m\n\u001b[0;32m   3456\u001b[0m             \u001b[1;32mif\u001b[0m \u001b[0mself\u001b[0m\u001b[1;33m.\u001b[0m\u001b[0mcolumns\u001b[0m\u001b[1;33m.\u001b[0m\u001b[0mnlevels\u001b[0m \u001b[1;33m>\u001b[0m \u001b[1;36m1\u001b[0m\u001b[1;33m:\u001b[0m\u001b[1;33m\u001b[0m\u001b[1;33m\u001b[0m\u001b[0m\n\u001b[0;32m   3457\u001b[0m                 \u001b[1;32mreturn\u001b[0m \u001b[0mself\u001b[0m\u001b[1;33m.\u001b[0m\u001b[0m_getitem_multilevel\u001b[0m\u001b[1;33m(\u001b[0m\u001b[0mkey\u001b[0m\u001b[1;33m)\u001b[0m\u001b[1;33m\u001b[0m\u001b[1;33m\u001b[0m\u001b[0m\n\u001b[1;32m-> 3458\u001b[1;33m             \u001b[0mindexer\u001b[0m \u001b[1;33m=\u001b[0m \u001b[0mself\u001b[0m\u001b[1;33m.\u001b[0m\u001b[0mcolumns\u001b[0m\u001b[1;33m.\u001b[0m\u001b[0mget_loc\u001b[0m\u001b[1;33m(\u001b[0m\u001b[0mkey\u001b[0m\u001b[1;33m)\u001b[0m\u001b[1;33m\u001b[0m\u001b[1;33m\u001b[0m\u001b[0m\n\u001b[0m\u001b[0;32m   3459\u001b[0m             \u001b[1;32mif\u001b[0m \u001b[0mis_integer\u001b[0m\u001b[1;33m(\u001b[0m\u001b[0mindexer\u001b[0m\u001b[1;33m)\u001b[0m\u001b[1;33m:\u001b[0m\u001b[1;33m\u001b[0m\u001b[1;33m\u001b[0m\u001b[0m\n\u001b[0;32m   3460\u001b[0m                 \u001b[0mindexer\u001b[0m \u001b[1;33m=\u001b[0m \u001b[1;33m[\u001b[0m\u001b[0mindexer\u001b[0m\u001b[1;33m]\u001b[0m\u001b[1;33m\u001b[0m\u001b[1;33m\u001b[0m\u001b[0m\n",
      "\u001b[1;32m~\\anaconda3\\envs\\FinTech\\lib\\site-packages\\pandas\\core\\indexes\\base.py\u001b[0m in \u001b[0;36mget_loc\u001b[1;34m(self, key, method, tolerance)\u001b[0m\n\u001b[0;32m   3361\u001b[0m                 \u001b[1;32mreturn\u001b[0m \u001b[0mself\u001b[0m\u001b[1;33m.\u001b[0m\u001b[0m_engine\u001b[0m\u001b[1;33m.\u001b[0m\u001b[0mget_loc\u001b[0m\u001b[1;33m(\u001b[0m\u001b[0mcasted_key\u001b[0m\u001b[1;33m)\u001b[0m\u001b[1;33m\u001b[0m\u001b[1;33m\u001b[0m\u001b[0m\n\u001b[0;32m   3362\u001b[0m             \u001b[1;32mexcept\u001b[0m \u001b[0mKeyError\u001b[0m \u001b[1;32mas\u001b[0m \u001b[0merr\u001b[0m\u001b[1;33m:\u001b[0m\u001b[1;33m\u001b[0m\u001b[1;33m\u001b[0m\u001b[0m\n\u001b[1;32m-> 3363\u001b[1;33m                 \u001b[1;32mraise\u001b[0m \u001b[0mKeyError\u001b[0m\u001b[1;33m(\u001b[0m\u001b[0mkey\u001b[0m\u001b[1;33m)\u001b[0m \u001b[1;32mfrom\u001b[0m \u001b[0merr\u001b[0m\u001b[1;33m\u001b[0m\u001b[1;33m\u001b[0m\u001b[0m\n\u001b[0m\u001b[0;32m   3364\u001b[0m \u001b[1;33m\u001b[0m\u001b[0m\n\u001b[0;32m   3365\u001b[0m         \u001b[1;32mif\u001b[0m \u001b[0mis_scalar\u001b[0m\u001b[1;33m(\u001b[0m\u001b[0mkey\u001b[0m\u001b[1;33m)\u001b[0m \u001b[1;32mand\u001b[0m \u001b[0misna\u001b[0m\u001b[1;33m(\u001b[0m\u001b[0mkey\u001b[0m\u001b[1;33m)\u001b[0m \u001b[1;32mand\u001b[0m \u001b[1;32mnot\u001b[0m \u001b[0mself\u001b[0m\u001b[1;33m.\u001b[0m\u001b[0mhasnans\u001b[0m\u001b[1;33m:\u001b[0m\u001b[1;33m\u001b[0m\u001b[1;33m\u001b[0m\u001b[0m\n",
      "\u001b[1;31mKeyError\u001b[0m: 'url'"
     ]
    }
   ],
   "source": [
    "\n",
    "\n",
    "summary_top_headlines_df['url'][0]"
   ]
  },
  {
   "cell_type": "code",
   "execution_count": 15,
   "metadata": {},
   "outputs": [
    {
     "data": {
      "text/html": [
       "<div>\n",
       "<style scoped>\n",
       "    .dataframe tbody tr th:only-of-type {\n",
       "        vertical-align: middle;\n",
       "    }\n",
       "\n",
       "    .dataframe tbody tr th {\n",
       "        vertical-align: top;\n",
       "    }\n",
       "\n",
       "    .dataframe thead th {\n",
       "        text-align: right;\n",
       "    }\n",
       "</style>\n",
       "<table border=\"1\" class=\"dataframe\">\n",
       "  <thead>\n",
       "    <tr style=\"text-align: right;\">\n",
       "      <th></th>\n",
       "      <th>source</th>\n",
       "      <th>title</th>\n",
       "      <th>description</th>\n",
       "    </tr>\n",
       "  </thead>\n",
       "  <tbody>\n",
       "    <tr>\n",
       "      <th>0</th>\n",
       "      <td>The Washington Post</td>\n",
       "      <td>U.S. will close American embassy in Ukraine's ...</td>\n",
       "      <td>All remaining U.S. embassy personnel in Ukrain...</td>\n",
       "    </tr>\n",
       "    <tr>\n",
       "      <th>1</th>\n",
       "      <td>Politico</td>\n",
       "      <td>Judge throws out Palin libel case against New ...</td>\n",
       "      <td>The ruling came as a Manhattan jury was delibe...</td>\n",
       "    </tr>\n",
       "    <tr>\n",
       "      <th>2</th>\n",
       "      <td>Reuters</td>\n",
       "      <td>Names of Canada truck convoy donors leaked aft...</td>\n",
       "      <td>A website devoted to disseminating leaked data...</td>\n",
       "    </tr>\n",
       "    <tr>\n",
       "      <th>3</th>\n",
       "      <td>New York Times</td>\n",
       "      <td>Trump's Long-Time Accounting Firm Cuts Ties Ov...</td>\n",
       "      <td>The statements are at the center of two invest...</td>\n",
       "    </tr>\n",
       "    <tr>\n",
       "      <th>4</th>\n",
       "      <td>NFL News</td>\n",
       "      <td>Three-round 2022 NFL mock draft 1.0: Five trad...</td>\n",
       "      <td>Five trades shake up the first round in Chad R...</td>\n",
       "    </tr>\n",
       "    <tr>\n",
       "      <th>5</th>\n",
       "      <td>USA Today</td>\n",
       "      <td>Russian Kamila Valieva is cleared to compete a...</td>\n",
       "      <td>The decision made by the Court of Arbitration ...</td>\n",
       "    </tr>\n",
       "    <tr>\n",
       "      <th>6</th>\n",
       "      <td>BBC News</td>\n",
       "      <td>Ukraine crisis: Biden and Johnson say still ho...</td>\n",
       "      <td>The US and UK leaders shared a call after Russ...</td>\n",
       "    </tr>\n",
       "    <tr>\n",
       "      <th>7</th>\n",
       "      <td>The Washington Post</td>\n",
       "      <td>Arbery hate-crimes trial jury selected - The W...</td>\n",
       "      <td>Trial will focus on whether whether Gregory an...</td>\n",
       "    </tr>\n",
       "    <tr>\n",
       "      <th>8</th>\n",
       "      <td>The Washington Post</td>\n",
       "      <td>Accused spy Jonathan Toebbe of Annapolis plead...</td>\n",
       "      <td>Jonathan Toebbe pleaded guilty trying to sell ...</td>\n",
       "    </tr>\n",
       "    <tr>\n",
       "      <th>9</th>\n",
       "      <td>Page Six</td>\n",
       "      <td>Kanye West sends truckload of roses to Kim Kar...</td>\n",
       "      <td>“MY VISION IS KRYSTAL KLEAR,” West, 44, captio...</td>\n",
       "    </tr>\n",
       "    <tr>\n",
       "      <th>10</th>\n",
       "      <td>CNN</td>\n",
       "      <td>Texas sues Meta for collecting facial recognit...</td>\n",
       "      <td>Texas is suing Facebook's parent company, Meta...</td>\n",
       "    </tr>\n",
       "    <tr>\n",
       "      <th>11</th>\n",
       "      <td>New York Times</td>\n",
       "      <td>China Not SpaceX May Be Source of Rocket Crash...</td>\n",
       "      <td>The developer of astronomy software who said t...</td>\n",
       "    </tr>\n",
       "    <tr>\n",
       "      <th>12</th>\n",
       "      <td>Reuters</td>\n",
       "      <td>Everything in place for massive Russian attack...</td>\n",
       "      <td>France's foreign minister said on Monday that ...</td>\n",
       "    </tr>\n",
       "    <tr>\n",
       "      <th>13</th>\n",
       "      <td>New York Post</td>\n",
       "      <td>Trudeau reportedly eyes emergency powers to en...</td>\n",
       "      <td>Canadian Prime Minister Justin Trudeau plans t...</td>\n",
       "    </tr>\n",
       "    <tr>\n",
       "      <th>14</th>\n",
       "      <td>New York Daily News</td>\n",
       "      <td>NYC suspect who followed Christina Lee home ch...</td>\n",
       "      <td>The victim, despite fighting back against Nash...</td>\n",
       "    </tr>\n",
       "    <tr>\n",
       "      <th>15</th>\n",
       "      <td>The Hill</td>\n",
       "      <td>'Mattress Mack' loses record $9.5M Super Bowl ...</td>\n",
       "      <td>Jim \"Mattress Mack\" McIngvale, owner of Galler...</td>\n",
       "    </tr>\n",
       "    <tr>\n",
       "      <th>16</th>\n",
       "      <td>Variety</td>\n",
       "      <td>Amy Schumer, Regina Hall, Wanda Sykes Eyed to ...</td>\n",
       "      <td>Amy Schumer, Regina Hall and Wanda Sykes are f...</td>\n",
       "    </tr>\n",
       "    <tr>\n",
       "      <th>17</th>\n",
       "      <td>New York Times</td>\n",
       "      <td>Ivan Reitman, Director of ‘Ghostbusters,’ Is D...</td>\n",
       "      <td>The filmmaker injected giant marshmallow booge...</td>\n",
       "    </tr>\n",
       "    <tr>\n",
       "      <th>18</th>\n",
       "      <td>The Wall Street Journal</td>\n",
       "      <td>Ukraine’s Capital Awaits a Potential Russian A...</td>\n",
       "      <td>Even as the mood shifts and Kyiv empties of fo...</td>\n",
       "    </tr>\n",
       "    <tr>\n",
       "      <th>19</th>\n",
       "      <td>The Wall Street Journal</td>\n",
       "      <td>U.S. Stocks Waver as Investors Weigh Interest ...</td>\n",
       "      <td>Oil prices rise on concern Russian crude suppl...</td>\n",
       "    </tr>\n",
       "  </tbody>\n",
       "</table>\n",
       "</div>"
      ],
      "text/plain": [
       "                     source  \\\n",
       "0       The Washington Post   \n",
       "1                  Politico   \n",
       "2                   Reuters   \n",
       "3            New York Times   \n",
       "4                  NFL News   \n",
       "5                 USA Today   \n",
       "6                  BBC News   \n",
       "7       The Washington Post   \n",
       "8       The Washington Post   \n",
       "9                  Page Six   \n",
       "10                      CNN   \n",
       "11           New York Times   \n",
       "12                  Reuters   \n",
       "13            New York Post   \n",
       "14      New York Daily News   \n",
       "15                 The Hill   \n",
       "16                  Variety   \n",
       "17           New York Times   \n",
       "18  The Wall Street Journal   \n",
       "19  The Wall Street Journal   \n",
       "\n",
       "                                                title  \\\n",
       "0   U.S. will close American embassy in Ukraine's ...   \n",
       "1   Judge throws out Palin libel case against New ...   \n",
       "2   Names of Canada truck convoy donors leaked aft...   \n",
       "3   Trump's Long-Time Accounting Firm Cuts Ties Ov...   \n",
       "4   Three-round 2022 NFL mock draft 1.0: Five trad...   \n",
       "5   Russian Kamila Valieva is cleared to compete a...   \n",
       "6   Ukraine crisis: Biden and Johnson say still ho...   \n",
       "7   Arbery hate-crimes trial jury selected - The W...   \n",
       "8   Accused spy Jonathan Toebbe of Annapolis plead...   \n",
       "9   Kanye West sends truckload of roses to Kim Kar...   \n",
       "10  Texas sues Meta for collecting facial recognit...   \n",
       "11  China Not SpaceX May Be Source of Rocket Crash...   \n",
       "12  Everything in place for massive Russian attack...   \n",
       "13  Trudeau reportedly eyes emergency powers to en...   \n",
       "14  NYC suspect who followed Christina Lee home ch...   \n",
       "15  'Mattress Mack' loses record $9.5M Super Bowl ...   \n",
       "16  Amy Schumer, Regina Hall, Wanda Sykes Eyed to ...   \n",
       "17  Ivan Reitman, Director of ‘Ghostbusters,’ Is D...   \n",
       "18  Ukraine’s Capital Awaits a Potential Russian A...   \n",
       "19  U.S. Stocks Waver as Investors Weigh Interest ...   \n",
       "\n",
       "                                          description  \n",
       "0   All remaining U.S. embassy personnel in Ukrain...  \n",
       "1   The ruling came as a Manhattan jury was delibe...  \n",
       "2   A website devoted to disseminating leaked data...  \n",
       "3   The statements are at the center of two invest...  \n",
       "4   Five trades shake up the first round in Chad R...  \n",
       "5   The decision made by the Court of Arbitration ...  \n",
       "6   The US and UK leaders shared a call after Russ...  \n",
       "7   Trial will focus on whether whether Gregory an...  \n",
       "8   Jonathan Toebbe pleaded guilty trying to sell ...  \n",
       "9   “MY VISION IS KRYSTAL KLEAR,” West, 44, captio...  \n",
       "10  Texas is suing Facebook's parent company, Meta...  \n",
       "11  The developer of astronomy software who said t...  \n",
       "12  France's foreign minister said on Monday that ...  \n",
       "13  Canadian Prime Minister Justin Trudeau plans t...  \n",
       "14  The victim, despite fighting back against Nash...  \n",
       "15  Jim \"Mattress Mack\" McIngvale, owner of Galler...  \n",
       "16  Amy Schumer, Regina Hall and Wanda Sykes are f...  \n",
       "17  The filmmaker injected giant marshmallow booge...  \n",
       "18  Even as the mood shifts and Kyiv empties of fo...  \n",
       "19  Oil prices rise on concern Russian crude suppl...  "
      ]
     },
     "execution_count": 15,
     "metadata": {},
     "output_type": "execute_result"
    }
   ],
   "source": [
    "\n"
   ]
  },
  {
   "cell_type": "code",
   "execution_count": 9,
   "metadata": {},
   "outputs": [],
   "source": []
  },
  {
   "cell_type": "code",
   "execution_count": 10,
   "metadata": {},
   "outputs": [],
   "source": []
  }
 ],
 "metadata": {
  "interpreter": {
   "hash": "a69dba933c6b8185488e89e7a06f7aca9551140e90f608799b32574f8ad3faa0"
  },
  "kernelspec": {
   "display_name": "Python 3.8.12 64-bit ('FinTech': conda)",
   "language": "python",
   "name": "python3"
  },
  "language_info": {
   "codemirror_mode": {
    "name": "ipython",
    "version": 3
   },
   "file_extension": ".py",
   "mimetype": "text/x-python",
   "name": "python",
   "nbconvert_exporter": "python",
   "pygments_lexer": "ipython3",
   "version": "3.8.12"
  },
  "orig_nbformat": 4
 },
 "nbformat": 4,
 "nbformat_minor": 2
}
