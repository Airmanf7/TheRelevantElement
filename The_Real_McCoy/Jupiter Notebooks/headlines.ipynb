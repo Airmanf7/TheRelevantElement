{
 "cells": [
  {
   "cell_type": "code",
   "execution_count": 1,
   "metadata": {},
   "outputs": [],
   "source": [
    "# Initial Imports\n",
    "\n",
    "import os\n",
    "from newsapi import NewsApiClient\n",
    "from datetime import date, timedelta\n",
    "import pandas as pd\n",
    "import pdfkit\n",
    "import flair\n",
    "news_api_key = os.getenv(\"news_api_key\")"
   ]
  },
  {
   "cell_type": "code",
   "execution_count": 3,
   "metadata": {},
   "outputs": [],
   "source": [
    "# Get top headlines for Country USA\n",
    "    \n",
    "# newsapi = NewsApiClient(api_key=api_key)\n",
    "# top_headlines = newsapi.get_top_headlines(country=\"us\",                                   \n",
    "#                                          language='en') \n",
    "    "
   ]
  },
  {
   "cell_type": "code",
   "execution_count": 2,
   "metadata": {},
   "outputs": [],
   "source": [
    "def top_headlines():\n",
    "    newsapi = NewsApiClient(api_key=news_api_key)\n",
    "    top_articles = newsapi.get_top_headlines(country=\"us\", language='en')\n",
    "\n",
    "    return top_articles\n",
    "\n"
   ]
  },
  {
   "cell_type": "code",
   "execution_count": 18,
   "metadata": {},
   "outputs": [],
   "source": []
  },
  {
   "cell_type": "code",
   "execution_count": 4,
   "metadata": {},
   "outputs": [],
   "source": [
    "top_headlines_df = pd.DataFrame.from_dict(top_headlines()['articles'])\n",
    "    "
   ]
  },
  {
   "cell_type": "code",
   "execution_count": 5,
   "metadata": {},
   "outputs": [
    {
     "ename": "SyntaxError",
     "evalue": "invalid syntax (Temp/ipykernel_15248/2359533594.py, line 9)",
     "output_type": "error",
     "traceback": [
      "\u001b[1;36m  File \u001b[1;32m\"C:\\Users\\Airma\\AppData\\Local\\Temp/ipykernel_15248/2359533594.py\"\u001b[1;36m, line \u001b[1;32m9\u001b[0m\n\u001b[1;33m    return all_articles\u001b[0m\n\u001b[1;37m    ^\u001b[0m\n\u001b[1;31mSyntaxError\u001b[0m\u001b[1;31m:\u001b[0m invalid syntax\n"
     ]
    }
   ],
   "source": [
    "# search_terms = []\n",
    "\n",
    "# def get_all_articles(search_term):\n",
    "    \n",
    "#     newsapi = NewsApiClient(api_key=news_api_key)\n",
    "#     all_articles = newsapi.get_everything(q=search_term,                                \n",
    "                                    \n",
    "    \n",
    "#     return all_articles"
   ]
  },
  {
   "cell_type": "code",
   "execution_count": 18,
   "metadata": {},
   "outputs": [],
   "source": [
    "# articles = []\n",
    "\n",
    "# for term in search_terms:\n",
    "    \n",
    "#     results = get_top_headlines(term)\n",
    "#     for article in results[\"articles\"]:\n",
    "#         articles.append(article)\n",
    "\n"
   ]
  },
  {
   "cell_type": "code",
   "execution_count": 19,
   "metadata": {},
   "outputs": [],
   "source": [
    "\n"
   ]
  },
  {
   "cell_type": "code",
   "execution_count": 7,
   "metadata": {},
   "outputs": [],
   "source": [
    "top_headlines_df[\"source\"] = top_headlines_df[\"source\"].apply(lambda x: x['name'])"
   ]
  },
  {
   "cell_type": "code",
   "execution_count": null,
   "metadata": {},
   "outputs": [],
   "source": []
  },
  {
   "cell_type": "code",
   "execution_count": 9,
   "metadata": {},
   "outputs": [
    {
     "name": "stdout",
     "output_type": "stream",
     "text": [
      "2022-02-10 21:12:04,237 loading file C:\\Users\\Airma\\.flair\\models\\sentiment-en-mix-distillbert_4.pt\n"
     ]
    }
   ],
   "source": [
    "news_sentiment_model = flair.models.TextClassifier.load('en-sentiment')"
   ]
  },
  {
   "cell_type": "code",
   "execution_count": 10,
   "metadata": {},
   "outputs": [],
   "source": [
    "# Initialize lists\n",
    "\n",
    "articles_sentiment = []\n",
    "articles_confidence = []\n",
    "\n",
    "\n",
    "# Run Sentiment analysis on collected news sentences\n",
    "\n",
    "for sentence in top_headlines_df[\"description\"]:\n",
    "    if sentence.strip() == \"\":\n",
    "        articles_sentiment.append(\"\")\n",
    "        articles_confidence.append(\"\")\n",
    "        \n",
    "    else:\n",
    "        sample = flair.data.Sentence(sentence)\n",
    "        news_sentiment_model.predict(sample)\n",
    "        articles_sentiment.append(sample.labels[0].value)\n",
    "        articles_confidence.append(sample.labels[0].score)"
   ]
  },
  {
   "cell_type": "code",
   "execution_count": 11,
   "metadata": {},
   "outputs": [],
   "source": [
    "top_headlines_df['sentiment'] = articles_sentiment\n",
    "top_headlines_df['confidence'] = articles_confidence\n"
   ]
  },
  {
   "cell_type": "code",
   "execution_count": 13,
   "metadata": {},
   "outputs": [
    {
     "data": {
      "text/html": [
       "<div>\n",
       "<style scoped>\n",
       "    .dataframe tbody tr th:only-of-type {\n",
       "        vertical-align: middle;\n",
       "    }\n",
       "\n",
       "    .dataframe tbody tr th {\n",
       "        vertical-align: top;\n",
       "    }\n",
       "\n",
       "    .dataframe thead th {\n",
       "        text-align: right;\n",
       "    }\n",
       "</style>\n",
       "<table border=\"1\" class=\"dataframe\">\n",
       "  <thead>\n",
       "    <tr style=\"text-align: right;\">\n",
       "      <th></th>\n",
       "      <th>source</th>\n",
       "      <th>author</th>\n",
       "      <th>title</th>\n",
       "      <th>description</th>\n",
       "      <th>url</th>\n",
       "      <th>urlToImage</th>\n",
       "      <th>publishedAt</th>\n",
       "      <th>content</th>\n",
       "      <th>sentiment</th>\n",
       "      <th>confidence</th>\n",
       "    </tr>\n",
       "  </thead>\n",
       "  <tbody>\n",
       "    <tr>\n",
       "      <th>15</th>\n",
       "      <td>CBS Sports</td>\n",
       "      <td></td>\n",
       "      <td>2022 Super Bowl: Gambler makes huge bet on thi...</td>\n",
       "      <td>If it happens, one bettor will be $120,000 richer</td>\n",
       "      <td>https://www.cbssports.com/nfl/news/2022-super-...</td>\n",
       "      <td>https://sportshub.cbsistatic.com/i/r/2022/02/0...</td>\n",
       "      <td>2022-02-10T21:06:00Z</td>\n",
       "      <td>Over the past 15 years, it's been rare for a n...</td>\n",
       "      <td>NEGATIVE</td>\n",
       "      <td>0.993393</td>\n",
       "    </tr>\n",
       "    <tr>\n",
       "      <th>16</th>\n",
       "      <td>The Verge</td>\n",
       "      <td>Loren Grush, Jasmine Hicks</td>\n",
       "      <td>Astra's first launch from Florida ends in fail...</td>\n",
       "      <td>On February 10th, Astra failed to launch its L...</td>\n",
       "      <td>https://www.theverge.com/2022/2/10/22922010/as...</td>\n",
       "      <td>https://cdn.vox-cdn.com/thumbor/pkYyzahMkZ9DjS...</td>\n",
       "      <td>2022-02-10T20:36:58Z</td>\n",
       "      <td>The rocket seemed to spin out of control durin...</td>\n",
       "      <td>NEGATIVE</td>\n",
       "      <td>0.999918</td>\n",
       "    </tr>\n",
       "    <tr>\n",
       "      <th>17</th>\n",
       "      <td>Nature.com</td>\n",
       "      <td>None</td>\n",
       "      <td>Heart-disease risk soars after COVID — even wi...</td>\n",
       "      <td>Massive study shows a long-term, substantial r...</td>\n",
       "      <td>https://www.nature.com/articles/d41586-022-004...</td>\n",
       "      <td>https://media.nature.com/lw1024/magazine-asset...</td>\n",
       "      <td>2022-02-10T20:11:40Z</td>\n",
       "      <td>Even a mild case of COVID-19 can increase a pe...</td>\n",
       "      <td>POSITIVE</td>\n",
       "      <td>0.991685</td>\n",
       "    </tr>\n",
       "    <tr>\n",
       "      <th>18</th>\n",
       "      <td>Fox News</td>\n",
       "      <td>Julia Musto</td>\n",
       "      <td>NASA probe captures first images of Venus' sur...</td>\n",
       "      <td>NASA's Parker Solar Probe has captured its fir...</td>\n",
       "      <td>https://www.foxnews.com/science/nasa-probe-cap...</td>\n",
       "      <td>https://static.foxnews.com/foxnews.com/content...</td>\n",
       "      <td>2022-02-10T19:36:56Z</td>\n",
       "      <td>NASA'sParker Solar Probe has captured its firs...</td>\n",
       "      <td>POSITIVE</td>\n",
       "      <td>0.998373</td>\n",
       "    </tr>\n",
       "    <tr>\n",
       "      <th>19</th>\n",
       "      <td>CNN</td>\n",
       "      <td>Stella Chan, CNN</td>\n",
       "      <td>Brush fire threatens homes and prompts evacuat...</td>\n",
       "      <td>Residents in the Irvine Cove and Emerald Bay a...</td>\n",
       "      <td>https://www.cnn.com/2022/02/10/us/brush-fire-o...</td>\n",
       "      <td>https://cdn.cnn.com/cnnnext/dam/assets/2202101...</td>\n",
       "      <td>2022-02-10T19:27:00Z</td>\n",
       "      <td>(CNN)Residents in the Irvine Cove and Emerald ...</td>\n",
       "      <td>NEGATIVE</td>\n",
       "      <td>0.992238</td>\n",
       "    </tr>\n",
       "  </tbody>\n",
       "</table>\n",
       "</div>"
      ],
      "text/plain": [
       "        source                      author  \\\n",
       "15  CBS Sports                               \n",
       "16   The Verge  Loren Grush, Jasmine Hicks   \n",
       "17  Nature.com                        None   \n",
       "18    Fox News                 Julia Musto   \n",
       "19         CNN            Stella Chan, CNN   \n",
       "\n",
       "                                                title  \\\n",
       "15  2022 Super Bowl: Gambler makes huge bet on thi...   \n",
       "16  Astra's first launch from Florida ends in fail...   \n",
       "17  Heart-disease risk soars after COVID — even wi...   \n",
       "18  NASA probe captures first images of Venus' sur...   \n",
       "19  Brush fire threatens homes and prompts evacuat...   \n",
       "\n",
       "                                          description  \\\n",
       "15  If it happens, one bettor will be $120,000 richer   \n",
       "16  On February 10th, Astra failed to launch its L...   \n",
       "17  Massive study shows a long-term, substantial r...   \n",
       "18  NASA's Parker Solar Probe has captured its fir...   \n",
       "19  Residents in the Irvine Cove and Emerald Bay a...   \n",
       "\n",
       "                                                  url  \\\n",
       "15  https://www.cbssports.com/nfl/news/2022-super-...   \n",
       "16  https://www.theverge.com/2022/2/10/22922010/as...   \n",
       "17  https://www.nature.com/articles/d41586-022-004...   \n",
       "18  https://www.foxnews.com/science/nasa-probe-cap...   \n",
       "19  https://www.cnn.com/2022/02/10/us/brush-fire-o...   \n",
       "\n",
       "                                           urlToImage           publishedAt  \\\n",
       "15  https://sportshub.cbsistatic.com/i/r/2022/02/0...  2022-02-10T21:06:00Z   \n",
       "16  https://cdn.vox-cdn.com/thumbor/pkYyzahMkZ9DjS...  2022-02-10T20:36:58Z   \n",
       "17  https://media.nature.com/lw1024/magazine-asset...  2022-02-10T20:11:40Z   \n",
       "18  https://static.foxnews.com/foxnews.com/content...  2022-02-10T19:36:56Z   \n",
       "19  https://cdn.cnn.com/cnnnext/dam/assets/2202101...  2022-02-10T19:27:00Z   \n",
       "\n",
       "                                              content sentiment  confidence  \n",
       "15  Over the past 15 years, it's been rare for a n...  NEGATIVE    0.993393  \n",
       "16  The rocket seemed to spin out of control durin...  NEGATIVE    0.999918  \n",
       "17  Even a mild case of COVID-19 can increase a pe...  POSITIVE    0.991685  \n",
       "18  NASA'sParker Solar Probe has captured its firs...  POSITIVE    0.998373  \n",
       "19  (CNN)Residents in the Irvine Cove and Emerald ...  NEGATIVE    0.992238  "
      ]
     },
     "execution_count": 13,
     "metadata": {},
     "output_type": "execute_result"
    }
   ],
   "source": [
    "top_headlines_df.tail(5)"
   ]
  },
  {
   "cell_type": "code",
   "execution_count": 10,
   "metadata": {},
   "outputs": [],
   "source": []
  }
 ],
 "metadata": {
  "interpreter": {
   "hash": "a69dba933c6b8185488e89e7a06f7aca9551140e90f608799b32574f8ad3faa0"
  },
  "kernelspec": {
   "display_name": "Python 3.8.12 64-bit ('FinTech': conda)",
   "language": "python",
   "name": "python3"
  },
  "language_info": {
   "codemirror_mode": {
    "name": "ipython",
    "version": 3
   },
   "file_extension": ".py",
   "mimetype": "text/x-python",
   "name": "python",
   "nbconvert_exporter": "python",
   "pygments_lexer": "ipython3",
   "version": "3.8.12"
  },
  "orig_nbformat": 4
 },
 "nbformat": 4,
 "nbformat_minor": 2
}
