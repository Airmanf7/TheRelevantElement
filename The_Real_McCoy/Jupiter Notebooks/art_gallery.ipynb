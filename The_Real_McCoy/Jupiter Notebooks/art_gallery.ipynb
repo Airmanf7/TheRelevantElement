{
 "cells": [
  {
   "cell_type": "code",
   "execution_count": 1,
   "metadata": {},
   "outputs": [
    {
     "name": "stderr",
     "output_type": "stream",
     "text": [
      "2022-02-17 18:13:15.176 INFO    numexpr.utils: NumExpr defaulting to 8 threads.\n"
     ]
    }
   ],
   "source": [
    "from PIL import Image\n",
    "import glob\n",
    "import streamlit as st\n"
   ]
  },
  {
   "cell_type": "code",
   "execution_count": 2,
   "metadata": {},
   "outputs": [],
   "source": [
    "from PIL import Image\n",
    "import glob\n",
    "image_list = []\n",
    "for filename in glob.glob('C://Users//Airma//FinTechClass//Project_3_TheRelevantElement//The_Real_McCoy//resources//Images//WomboArtWorks//*.jpg'): # Gets only jpg files\n",
    "    im=Image.open(filename)\n",
    "    image_list.append(im)"
   ]
  },
  {
   "cell_type": "code",
   "execution_count": 3,
   "metadata": {},
   "outputs": [
    {
     "data": {
      "text/plain": [
       "[<PIL.JpegImagePlugin.JpegImageFile image mode=RGB size=1080x1920 at 0x1A1FF584F10>,\n",
       " <PIL.JpegImagePlugin.JpegImageFile image mode=RGB size=1080x1920 at 0x1A184BFC160>,\n",
       " <PIL.JpegImagePlugin.JpegImageFile image mode=RGB size=1080x1920 at 0x1A184BFC1C0>,\n",
       " <PIL.JpegImagePlugin.JpegImageFile image mode=RGB size=1080x1920 at 0x1A184BFC250>,\n",
       " <PIL.JpegImagePlugin.JpegImageFile image mode=RGB size=1080x1920 at 0x1A184BFC2B0>,\n",
       " <PIL.JpegImagePlugin.JpegImageFile image mode=RGB size=1080x1920 at 0x1A184BFC310>,\n",
       " <PIL.JpegImagePlugin.JpegImageFile image mode=RGB size=1080x1920 at 0x1A184BFC370>,\n",
       " <PIL.JpegImagePlugin.JpegImageFile image mode=RGB size=1080x1920 at 0x1A184BFC3D0>,\n",
       " <PIL.JpegImagePlugin.JpegImageFile image mode=RGB size=1080x1920 at 0x1A184BFC430>,\n",
       " <PIL.JpegImagePlugin.JpegImageFile image mode=RGB size=1080x1920 at 0x1A184BFC490>,\n",
       " <PIL.JpegImagePlugin.JpegImageFile image mode=RGB size=1080x1920 at 0x1A184BFC4F0>,\n",
       " <PIL.JpegImagePlugin.JpegImageFile image mode=RGB size=1080x1920 at 0x1A184BFC550>,\n",
       " <PIL.JpegImagePlugin.JpegImageFile image mode=RGB size=1080x1920 at 0x1A184BFC5B0>,\n",
       " <PIL.JpegImagePlugin.JpegImageFile image mode=RGB size=1080x1920 at 0x1A184BFC610>,\n",
       " <PIL.JpegImagePlugin.JpegImageFile image mode=RGB size=1080x1920 at 0x1A184BFC670>,\n",
       " <PIL.JpegImagePlugin.JpegImageFile image mode=RGB size=1080x1920 at 0x1A184BFC6D0>,\n",
       " <PIL.JpegImagePlugin.JpegImageFile image mode=RGB size=1080x1920 at 0x1A184BFC730>,\n",
       " <PIL.JpegImagePlugin.JpegImageFile image mode=RGB size=1080x1920 at 0x1A184BFC790>,\n",
       " <PIL.JpegImagePlugin.JpegImageFile image mode=RGB size=1080x1920 at 0x1A184BFC7F0>,\n",
       " <PIL.JpegImagePlugin.JpegImageFile image mode=RGB size=1080x1920 at 0x1A184BFC850>,\n",
       " <PIL.JpegImagePlugin.JpegImageFile image mode=RGB size=1080x1920 at 0x1A184BFC8B0>]"
      ]
     },
     "execution_count": 3,
     "metadata": {},
     "output_type": "execute_result"
    }
   ],
   "source": [
    "image_list\n",
    "\n",
    "\n",
    "    \n",
    "# Images = [\"C://Users//Airma//FinTechClass//Project_3_TheRelevantElement//The_Real_McCoy//resources//Images//Dream.jpg\",\n",
    "#           \"C://Users//Airma//FinTechClass//Project_3_TheRelevantElement//The_Real_McCoy//resources//Images//love.jpg\",\n",
    "#          ]\n",
    "\n",
    "# caption = [\"Dream\", \"Love\"] \n",
    "\n",
    "\n",
    "# # index = 0 \n",
    "# # for image in Images:\n",
    "# #         im = Image.open(image)\n",
    "# #         st.image(im, caption=caption[index], width=350)\n",
    "# #         time.sleep(0)\n",
    "# #         index += 1 \n",
    "\n",
    "# col1, col2 = st.columns(2)\n",
    "\n",
    "# with col1:\n",
    "#     st.header(\"A cat\")\n",
    "#     st.image(Images[0], caption=caption[0], width=350)\n",
    "\n",
    "# with col2:\n",
    "#     st.header(\"A dog\")\n",
    "#     st.image(Images[1], caption=caption[1], width=350)"
   ]
  },
  {
   "cell_type": "code",
   "execution_count": 6,
   "metadata": {},
   "outputs": [
    {
     "data": {
      "text/plain": [
       "str"
      ]
     },
     "execution_count": 6,
     "metadata": {},
     "output_type": "execute_result"
    }
   ],
   "source": []
  },
  {
   "cell_type": "code",
   "execution_count": null,
   "metadata": {},
   "outputs": [],
   "source": []
  }
 ],
 "metadata": {
  "interpreter": {
   "hash": "a69dba933c6b8185488e89e7a06f7aca9551140e90f608799b32574f8ad3faa0"
  },
  "kernelspec": {
   "display_name": "Python 3.8.12 ('FinTech')",
   "language": "python",
   "name": "python3"
  },
  "language_info": {
   "codemirror_mode": {
    "name": "ipython",
    "version": 3
   },
   "file_extension": ".py",
   "mimetype": "text/x-python",
   "name": "python",
   "nbconvert_exporter": "python",
   "pygments_lexer": "ipython3",
   "version": "3.8.12"
  },
  "orig_nbformat": 4
 },
 "nbformat": 4,
 "nbformat_minor": 2
}
