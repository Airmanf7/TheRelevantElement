{
 "cells": [
  {
   "cell_type": "code",
   "execution_count": 2,
   "metadata": {},
   "outputs": [],
   "source": [
    "# Initial Imports\n",
    "\n",
    "import os\n",
    "from newsapi import NewsApiClient\n",
    "from datetime import date, timedelta\n",
    "import pandas as pd\n",
    "import pdfkit\n",
    "import flair\n",
    "news_api_key = os.getenv(\"news_api_key\")"
   ]
  },
  {
   "cell_type": "code",
   "execution_count": 3,
   "metadata": {},
   "outputs": [],
   "source": [
    "# Get top headlines for Country USA\n",
    "    \n",
    "# newsapi = NewsApiClient(api_key=api_key)\n",
    "# top_headlines = newsapi.get_top_headlines(country=\"us\",                                   \n",
    "#                                          language='en') \n",
    "    "
   ]
  },
  {
   "cell_type": "code",
   "execution_count": 4,
   "metadata": {},
   "outputs": [],
   "source": [
    "def top_headlines():\n",
    "    newsapi = NewsApiClient(api_key=news_api_key)\n",
    "    top_articles = newsapi.get_top_headlines(country=\"us\", language='en')\n",
    "\n",
    "    return top_articles\n",
    "\n"
   ]
  },
  {
   "cell_type": "code",
   "execution_count": 18,
   "metadata": {},
   "outputs": [],
   "source": []
  },
  {
   "cell_type": "code",
   "execution_count": 10,
   "metadata": {},
   "outputs": [],
   "source": [
    "top_headlines_df = pd.DataFrame.from_dict(top_headlines()['articles'])\n",
    "top_headlines_df.to_txt(\"description.txt\")"
   ]
  },
  {
   "cell_type": "code",
   "execution_count": null,
   "metadata": {},
   "outputs": [],
   "source": [
    "search_terms = []\n",
    "\n",
    "def get_all_articles(search_term):\n",
    "    \n",
    "    newsapi = NewsApiClient(api_key=api_key)\n",
    "    all_articles = newsapi.get_everything(q=search_term,                                \n",
    "                                    \n",
    "    \n",
    "return all_articles"
   ]
  },
  {
   "cell_type": "code",
   "execution_count": 18,
   "metadata": {},
   "outputs": [],
   "source": [
    "articles = []\n",
    "\n",
    "for term in search_terms:\n",
    "    \n",
    "    results = get_top_headlines(term)\n",
    "    for article in results[\"articles\"]:\n",
    "        articles.append(article)\n",
    "\n"
   ]
  },
  {
   "cell_type": "code",
   "execution_count": 19,
   "metadata": {},
   "outputs": [],
   "source": [
    "\n"
   ]
  },
  {
   "cell_type": "code",
   "execution_count": 20,
   "metadata": {},
   "outputs": [
    {
     "data": {
      "text/html": [
       "<div>\n",
       "<style scoped>\n",
       "    .dataframe tbody tr th:only-of-type {\n",
       "        vertical-align: middle;\n",
       "    }\n",
       "\n",
       "    .dataframe tbody tr th {\n",
       "        vertical-align: top;\n",
       "    }\n",
       "\n",
       "    .dataframe thead th {\n",
       "        text-align: right;\n",
       "    }\n",
       "</style>\n",
       "<table border=\"1\" class=\"dataframe\">\n",
       "  <thead>\n",
       "    <tr style=\"text-align: right;\">\n",
       "      <th></th>\n",
       "    </tr>\n",
       "  </thead>\n",
       "  <tbody>\n",
       "  </tbody>\n",
       "</table>\n",
       "</div>"
      ],
      "text/plain": [
       "Empty DataFrame\n",
       "Columns: []\n",
       "Index: []"
      ]
     },
     "execution_count": 20,
     "metadata": {},
     "output_type": "execute_result"
    }
   ],
   "source": [
    "articles_df"
   ]
  },
  {
   "cell_type": "code",
   "execution_count": 46,
   "metadata": {},
   "outputs": [
    {
     "name": "stdout",
     "output_type": "stream",
     "text": [
      "2022-02-01 18:46:32,086 loading file C:\\Users\\Airma\\.flair\\models\\sentiment-en-mix-distillbert_4.pt\n"
     ]
    }
   ],
   "source": [
    "news_sentiment_model = flair.models.TextClassifier.load('en-sentiment')"
   ]
  },
  {
   "cell_type": "code",
   "execution_count": 47,
   "metadata": {},
   "outputs": [],
   "source": [
    "# Initialize lists\n",
    "\n",
    "articles_sentiment = []\n",
    "articles_confidence = []\n",
    "\n",
    "\n",
    "# Run Sentiment analysis on collected news sentences\n",
    "\n",
    "for sentence in articles_df[\"description\"]:\n",
    "    if sentence.strip() == \"\":\n",
    "        articles_sentiment.append(\"\")\n",
    "        articles_confidence.append(\"\")\n",
    "        \n",
    "    else:\n",
    "        sample = flair.data.Sentence(sentence)\n",
    "        news_sentiment_model.predict(sample)\n",
    "        articles_sentiment.append(sample.labels[0].value)\n",
    "        articles_confidence.append(sample.labels[0].score)"
   ]
  },
  {
   "cell_type": "code",
   "execution_count": 48,
   "metadata": {},
   "outputs": [],
   "source": [
    "articles_df['sentiment'] = articles_sentiment\n",
    "articles_df['confidence'] = articles_confidence\n"
   ]
  },
  {
   "cell_type": "code",
   "execution_count": 49,
   "metadata": {},
   "outputs": [
    {
     "data": {
      "text/html": [
       "<div>\n",
       "<style scoped>\n",
       "    .dataframe tbody tr th:only-of-type {\n",
       "        vertical-align: middle;\n",
       "    }\n",
       "\n",
       "    .dataframe tbody tr th {\n",
       "        vertical-align: top;\n",
       "    }\n",
       "\n",
       "    .dataframe thead th {\n",
       "        text-align: right;\n",
       "    }\n",
       "</style>\n",
       "<table border=\"1\" class=\"dataframe\">\n",
       "  <thead>\n",
       "    <tr style=\"text-align: right;\">\n",
       "      <th></th>\n",
       "      <th>source</th>\n",
       "      <th>author</th>\n",
       "      <th>title</th>\n",
       "      <th>description</th>\n",
       "      <th>url</th>\n",
       "      <th>urlToImage</th>\n",
       "      <th>publishedAt</th>\n",
       "      <th>content</th>\n",
       "      <th>sentiment</th>\n",
       "      <th>confidence</th>\n",
       "    </tr>\n",
       "  </thead>\n",
       "  <tbody>\n",
       "    <tr>\n",
       "      <th>0</th>\n",
       "      <td>{'id': None, 'name': 'The Guardian'}</td>\n",
       "      <td>As told to Elle Hunt</td>\n",
       "      <td>‘I want Jesus Christ Superstar at my funeral –...</td>\n",
       "      <td>The first single she bought was by Queen and s...</td>\n",
       "      <td>https://amp.theguardian.com/music/2022/jan/31/...</td>\n",
       "      <td>https://i.guim.co.uk/img/media/9fa8f8a7261b414...</td>\n",
       "      <td>2022-01-31T07:00:46Z</td>\n",
       "      <td>The last song I streamedHerbie Hancock, Waterm...</td>\n",
       "      <td>NEGATIVE</td>\n",
       "      <td>0.996028</td>\n",
       "    </tr>\n",
       "    <tr>\n",
       "      <th>1</th>\n",
       "      <td>{'id': 'reuters', 'name': 'Reuters'}</td>\n",
       "      <td>None</td>\n",
       "      <td>US beat El Salvador 1-0 in World Cup qualifier...</td>\n",
       "      <td>The United States scraped a 1-0 win over El Sa...</td>\n",
       "      <td>https://www.reuters.com/lifestyle/sports/us-be...</td>\n",
       "      <td>https://www.reuters.com/resizer/eI9E48BnBh9HKf...</td>\n",
       "      <td>2022-01-28T02:28:00Z</td>\n",
       "      <td>Jan 27 (Reuters) - The United States scraped a...</td>\n",
       "      <td>NEGATIVE</td>\n",
       "      <td>0.908969</td>\n",
       "    </tr>\n",
       "    <tr>\n",
       "      <th>2</th>\n",
       "      <td>{'id': 'reuters', 'name': 'Reuters'}</td>\n",
       "      <td>None</td>\n",
       "      <td>Pope blesses those everyone loves to hate - ta...</td>\n",
       "      <td>Pope Francis on Monday encouraged the people e...</td>\n",
       "      <td>https://www.reuters.com/world/europe/pope-bles...</td>\n",
       "      <td>https://www.reuters.com/resizer/fBQAgwFoPYhwnA...</td>\n",
       "      <td>2022-01-31T12:30:00Z</td>\n",
       "      <td>VATICAN CITY, Jan 31 (Reuters) - Pope Francis ...</td>\n",
       "      <td>NEGATIVE</td>\n",
       "      <td>0.741950</td>\n",
       "    </tr>\n",
       "    <tr>\n",
       "      <th>3</th>\n",
       "      <td>{'id': 'reuters', 'name': 'Reuters'}</td>\n",
       "      <td>None</td>\n",
       "      <td>Mexico's economy likely entered recession in f...</td>\n",
       "      <td>Mexico's economy likely contracted in the last...</td>\n",
       "      <td>https://www.reuters.com/world/americas/mexicos...</td>\n",
       "      <td>https://www.reuters.com/pf/resources/images/re...</td>\n",
       "      <td>2022-01-28T16:44:00Z</td>\n",
       "      <td>MEXICO CITY, Jan 28 (Reuters) - Mexico's econo...</td>\n",
       "      <td>NEGATIVE</td>\n",
       "      <td>0.999569</td>\n",
       "    </tr>\n",
       "    <tr>\n",
       "      <th>4</th>\n",
       "      <td>{'id': None, 'name': 'Theonion.com'}</td>\n",
       "      <td>Sirhan Sirhan</td>\n",
       "      <td>Jesus Christ Starts Rival Eternal Paradise Aft...</td>\n",
       "      <td>THE COSMOS—In an acrimonious parting of ways t...</td>\n",
       "      <td>https://www.theonion.com/jesus-christ-starts-r...</td>\n",
       "      <td>https://i.kinja-img.com/gawker-media/image/upl...</td>\n",
       "      <td>2022-01-28T15:14:00Z</td>\n",
       "      <td>THE COSMOSIn an acrimonious parting of ways th...</td>\n",
       "      <td>POSITIVE</td>\n",
       "      <td>0.539198</td>\n",
       "    </tr>\n",
       "  </tbody>\n",
       "</table>\n",
       "</div>"
      ],
      "text/plain": [
       "                                 source                author  \\\n",
       "0  {'id': None, 'name': 'The Guardian'}  As told to Elle Hunt   \n",
       "1  {'id': 'reuters', 'name': 'Reuters'}                  None   \n",
       "2  {'id': 'reuters', 'name': 'Reuters'}                  None   \n",
       "3  {'id': 'reuters', 'name': 'Reuters'}                  None   \n",
       "4  {'id': None, 'name': 'Theonion.com'}         Sirhan Sirhan   \n",
       "\n",
       "                                               title  \\\n",
       "0  ‘I want Jesus Christ Superstar at my funeral –...   \n",
       "1  US beat El Salvador 1-0 in World Cup qualifier...   \n",
       "2  Pope blesses those everyone loves to hate - ta...   \n",
       "3  Mexico's economy likely entered recession in f...   \n",
       "4  Jesus Christ Starts Rival Eternal Paradise Aft...   \n",
       "\n",
       "                                         description  \\\n",
       "0  The first single she bought was by Queen and s...   \n",
       "1  The United States scraped a 1-0 win over El Sa...   \n",
       "2  Pope Francis on Monday encouraged the people e...   \n",
       "3  Mexico's economy likely contracted in the last...   \n",
       "4  THE COSMOS—In an acrimonious parting of ways t...   \n",
       "\n",
       "                                                 url  \\\n",
       "0  https://amp.theguardian.com/music/2022/jan/31/...   \n",
       "1  https://www.reuters.com/lifestyle/sports/us-be...   \n",
       "2  https://www.reuters.com/world/europe/pope-bles...   \n",
       "3  https://www.reuters.com/world/americas/mexicos...   \n",
       "4  https://www.theonion.com/jesus-christ-starts-r...   \n",
       "\n",
       "                                          urlToImage           publishedAt  \\\n",
       "0  https://i.guim.co.uk/img/media/9fa8f8a7261b414...  2022-01-31T07:00:46Z   \n",
       "1  https://www.reuters.com/resizer/eI9E48BnBh9HKf...  2022-01-28T02:28:00Z   \n",
       "2  https://www.reuters.com/resizer/fBQAgwFoPYhwnA...  2022-01-31T12:30:00Z   \n",
       "3  https://www.reuters.com/pf/resources/images/re...  2022-01-28T16:44:00Z   \n",
       "4  https://i.kinja-img.com/gawker-media/image/upl...  2022-01-28T15:14:00Z   \n",
       "\n",
       "                                             content sentiment  confidence  \n",
       "0  The last song I streamedHerbie Hancock, Waterm...  NEGATIVE    0.996028  \n",
       "1  Jan 27 (Reuters) - The United States scraped a...  NEGATIVE    0.908969  \n",
       "2  VATICAN CITY, Jan 31 (Reuters) - Pope Francis ...  NEGATIVE    0.741950  \n",
       "3  MEXICO CITY, Jan 28 (Reuters) - Mexico's econo...  NEGATIVE    0.999569  \n",
       "4  THE COSMOSIn an acrimonious parting of ways th...  POSITIVE    0.539198  "
      ]
     },
     "execution_count": 49,
     "metadata": {},
     "output_type": "execute_result"
    }
   ],
   "source": [
    "articles_df.head(5)"
   ]
  },
  {
   "cell_type": "code",
   "execution_count": 10,
   "metadata": {},
   "outputs": [],
   "source": []
  }
 ],
 "metadata": {
  "interpreter": {
   "hash": "a69dba933c6b8185488e89e7a06f7aca9551140e90f608799b32574f8ad3faa0"
  },
  "kernelspec": {
   "display_name": "Python 3.8.12 64-bit ('FinTech': conda)",
   "language": "python",
   "name": "python3"
  },
  "language_info": {
   "codemirror_mode": {
    "name": "ipython",
    "version": 3
   },
   "file_extension": ".py",
   "mimetype": "text/x-python",
   "name": "python",
   "nbconvert_exporter": "python",
   "pygments_lexer": "ipython3",
   "version": "3.8.12"
  },
  "orig_nbformat": 4
 },
 "nbformat": 4,
 "nbformat_minor": 2
}
