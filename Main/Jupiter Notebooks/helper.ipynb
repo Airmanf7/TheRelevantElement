{
 "cells": [
  {
   "cell_type": "code",
   "execution_count": 5,
   "metadata": {},
   "outputs": [],
   "source": []
  },
  {
   "cell_type": "code",
   "execution_count": 6,
   "metadata": {},
   "outputs": [
    {
     "name": "stdout",
     "output_type": "stream",
     "text": [
      "[]\n"
     ]
    }
   ],
   "source": []
  },
  {
   "cell_type": "code",
   "execution_count": 5,
   "metadata": {},
   "outputs": [],
   "source": [
    "from selenium import webdriver\n",
    "from selenium.webdriver.chrome.options import Options\n",
    "chrome_options = Options()\n",
    "chrome_options.add_experimental_option(\"detach\", True)\n",
    "from helium import *\n",
    "  \n",
    "# Create object\n",
    "driver = webdriver.Chrome()\n",
    "  \n",
    "# Assign URL\n",
    "url = \"https://www.geeksforgeeks.org/\"\n",
    "  \n",
    "# New Url\n",
    "new_url = [\"https://www.wombo.art\", \"https://www.foxnews.com/media/fox-news-crushes-competition-cnn-draws-smallest-weekly-audience-seven-years\"]\n",
    "\n",
    "# New Url\n",
    "another_new_url = \"https://www.wombo.art\"\n",
    "  \n",
    "# Opening first url\n",
    "helium.start_chrome(url)\n",
    "  \n",
    "# Open a new window\n",
    "driver.execute_script(\"window.open('');\")\n",
    "  \n",
    "# Switch to the new window and open new URL\n",
    "# driver.switch_to.window(driver.window_handles[1])\n",
    "# driver.get(new_url[0])\n",
    "\n",
    "# driver.execute_script(\"window.open('');\")\n",
    "# driver.switch_to.window(driver.window_handles[2])\n",
    "# driver.get(new_url[1])"
   ]
  },
  {
   "cell_type": "code",
   "execution_count": 9,
   "metadata": {},
   "outputs": [],
   "source": [
    "import os\n",
    "import pandas as pd\n",
    "import time\n",
    "import streamlit as st\n",
    "from newsapi import NewsApiClient\n",
    "from newsapi.newsapi_client import NewsApiClient\n",
    "from selenium import webdriver\n",
    "import selenium\n",
    "from pathlib import Path\n",
    "from random import randint\n",
    "\n",
    "\n",
    "##############################################################################################################\n",
    "# Streamlit Integration #\n",
    "##############################################################################################################\n",
    "# # Initialize columns\n",
    "#     col1, col2 = st.columns(2)\n",
    "csv = Path(\"all_relevant_articles.csv\")"
   ]
  },
  {
   "cell_type": "code",
   "execution_count": 10,
   "metadata": {},
   "outputs": [],
   "source": [
    "summary_top_headlines_df = pd.read_csv(csv)"
   ]
  },
  {
   "cell_type": "code",
   "execution_count": 11,
   "metadata": {},
   "outputs": [],
   "source": [
    "summary_top_headlines_df_title = [summary_top_headlines_df['title'][i] for i in range(len(summary_top_headlines_df))]"
   ]
  },
  {
   "cell_type": "code",
   "execution_count": 12,
   "metadata": {},
   "outputs": [],
   "source": [
    "summary_top_headlines_df_title_and_url = summary_top_headlines_df[['title', 'url']]"
   ]
  },
  {
   "cell_type": "code",
   "execution_count": 28,
   "metadata": {},
   "outputs": [],
   "source": [
    "summary_top_headlines_df_title_and_url = pd.DataFrame(summary_top_headlines_df_title_and_url)   # Create a dataframe\n",
    "random_number = randint(0, len(summary_top_headlines_df_title_and_url))"
   ]
  },
  {
   "cell_type": "code",
   "execution_count": 29,
   "metadata": {},
   "outputs": [],
   "source": [
    "summary_top_headlines_df_title_and_url = summary_top_headlines_df_title_and_url.apply(lambda x: x.replace('\\n', ' '))"
   ]
  },
  {
   "cell_type": "code",
   "execution_count": 33,
   "metadata": {},
   "outputs": [
    {
     "data": {
      "text/plain": [
       "\"Explainer: Europe's banks fear payment system could be casualty of Russia-Ukraine crisis - Reuters\""
      ]
     },
     "execution_count": 33,
     "metadata": {},
     "output_type": "execute_result"
    }
   ],
   "source": [
    "summary_top_headlines_df_title_and_url.iloc[random_number]['title']"
   ]
  },
  {
   "cell_type": "code",
   "execution_count": 34,
   "metadata": {},
   "outputs": [],
   "source": [
    "import re\n",
    "string = re.split('\\s+', summary_top_headlines_df_title_and_url.iloc[random_number]['title'])\n"
   ]
  },
  {
   "cell_type": "code",
   "execution_count": 35,
   "metadata": {},
   "outputs": [
    {
     "data": {
      "text/plain": [
       "['Explainer:',\n",
       " \"Europe's\",\n",
       " 'banks',\n",
       " 'fear',\n",
       " 'payment',\n",
       " 'system',\n",
       " 'could',\n",
       " 'be',\n",
       " 'casualty',\n",
       " 'of',\n",
       " 'Russia-Ukraine',\n",
       " 'crisis',\n",
       " '-',\n",
       " 'Reuters']"
      ]
     },
     "execution_count": 35,
     "metadata": {},
     "output_type": "execute_result"
    }
   ],
   "source": [
    "string"
   ]
  },
  {
   "cell_type": "code",
   "execution_count": 39,
   "metadata": {},
   "outputs": [],
   "source": [
    "import glob\n",
    "from PIL import Image\n",
    "\n",
    "image_list = []\n",
    "for filename in glob.glob('C://Users//Airma//FinTechClass//Project_3_TheRelevantElement//Main//resources//Images//WomboArtWorks//*.jpg'): # Gets only jpg files\n",
    "    im=Image.open(filename)\n",
    "    image_list.append(im)"
   ]
  },
  {
   "cell_type": "code",
   "execution_count": 41,
   "metadata": {},
   "outputs": [
    {
     "data": {
      "text/plain": [
       "20"
      ]
     },
     "execution_count": 41,
     "metadata": {},
     "output_type": "execute_result"
    }
   ],
   "source": [
    "len(image_list)"
   ]
  },
  {
   "cell_type": "code",
   "execution_count": 41,
   "metadata": {},
   "outputs": [
    {
     "data": {
      "text/plain": [
       "10000"
      ]
     },
     "execution_count": 41,
     "metadata": {},
     "output_type": "execute_result"
    }
   ],
   "source": [
    "import requests\n",
    "\n",
    "word_site = \"https://www.mit.edu/~ecprice/wordlist.10000\"\n",
    "\n",
    "response = requests.get(word_site)\n",
    "WORDS = response.content.splitlines()\n",
    "len(WORDS)"
   ]
  },
  {
   "cell_type": "code",
   "execution_count": 46,
   "metadata": {},
   "outputs": [],
   "source": [
    "useable_words = []\n",
    "\n",
    "for word in WORDS:\n",
    "    if len(word) > 5 and len(word) < 12:\n",
    "        useable_words.append(word)"
   ]
  },
  {
   "cell_type": "code",
   "execution_count": 79,
   "metadata": {},
   "outputs": [
    {
     "data": {
      "text/plain": [
       "\"b'neighbors'\""
      ]
     },
     "execution_count": 79,
     "metadata": {},
     "output_type": "execute_result"
    }
   ],
   "source": [
    "random_word = str(useable_words[randint(0, len(useable_words) - 1)])\n",
    "random_word"
   ]
  },
  {
   "cell_type": "code",
   "execution_count": 78,
   "metadata": {},
   "outputs": [
    {
     "data": {
      "text/plain": [
       "\"[b'abandoned', b'aberdeen', b'abilities', b'ability', b'aboriginal', b'abortion', b'abraham', b'abroad', b'absence', b'absent', b'absolute', b'absolutely', b'absorption', b'abstract', b'abstracts', b'academic', b'academics', b'academy', b'accent', b'accept', b'acceptable', b'acceptance', b'accepted', b'accepting', b'accepts', b'access', b'accessed', b'accessible', b'accessing', b'accessories', b'accessory', b'accident', b'accidents', b'accommodate', b'accompanied', b'accomplish', b'accordance', b'according', b'accordingly', b'account', b'accounting', b'accounts', b'accredited', b'accuracy', b'accurate', b'accurately', b'accused', b'acdbentity', b'achieve', b'achieved', b'achievement', b'achieving', b'acknowledge', b'acoustic', b'acquire', b'acquired', b'acquisition', b'acrobat', b'across', b'acrylic', b'acting', b'action', b'actions', b'activated', b'activation', b'active', b'actively', b'activists', b'activities', b'activity', b'actors', b'actress', b'actual', b'actually', b'adaptation', b'adapted', b'adapter', b'adapters', b'adaptive', b'adaptor', b'addiction', b'adding', b'addition', b'additional', b'additions', b'address', b'addressed', b'addresses', b'addressing', b'adelaide', b'adequate', b'adidas', b'adipex', b'adjacent', b'adjust', b'adjustable', b'adjusted', b'adjustment', b'adjustments', b'admission', b'admissions', b'admitted', b'adolescent', b'adopted', b'adoption', b'adrian', b'adults', b'advance', b'advanced', b'advancement', b'advances', b'advantage', b'advantages', b'adventure', b'adventures', b'adverse', b'advert', b'advertise', b'advertiser', b'advertisers', b'advertising', b'advice', b'advise', b'advised', b'advisor', b'advisors', b'advisory', b'advocacy', b'advocate', b'adware', b'aerial', b'aerospace', b'affair', b'affairs', b'affect', b'affected', b'affecting', b'affects', b'affiliate', b'affiliated', b'affiliates', b'affiliation', b'afford', b'affordable', b'afghanistan', b'afraid', b'africa', b'african', b'afternoon', b'afterwards', b'against', b'agencies', b'agency', b'agenda', b'agents', b'aggregate', b'aggressive', b'agreed', b'agreement', b'agreements', b'agrees', b'agriculture', b'aircraft', b'airfare', b'airline', b'airlines', b'airplane', b'airport', b'airports', b'alabama', b'alaska', b'albania', b'albany', b'albert', b'alberta', b'albums', b'albuquerque', b'alcohol', b'alerts', b'alexander', b'alexandria', b'alfred', b'algebra', b'algeria', b'algorithm', b'algorithms', b'alignment', b'alleged', b'allergy', b'alliance', b'allied', b'allocated', b'allocation', b'allowance', b'allowed', b'allowing', b'allows', b'almost', b'alpine', b'already', b'altered', b'alternate', b'alternative', b'although', b'aluminium', b'aluminum', b'alumni', b'always', b'amanda', b'amateur', b'amazing', b'amazon', b'amazoncom', b'amazoncouk', b'ambassador', b'ambien', b'ambient', b'amended', b'amendment', b'amendments', b'amenities', b'america', b'american', b'americans', b'americas', b'amongst', b'amount', b'amounts', b'ampland', b'amplifier', b'amsterdam', b'anaheim', b'analog', b'analyses', b'analysis', b'analyst', b'analysts', b'analytical', b'analyze', b'analyzed', b'anatomy', b'anchor', b'ancient', b'andale', b'anderson', b'andorra', b'andrea', b'andreas', b'andrew', b'andrews', b'angela', b'angeles', b'angels', b'angola', b'animal', b'animals', b'animated', b'animation', b'anniversary', b'annotated', b'annotation', b'announce', b'announced', b'announces', b'annoying', b'annual', b'annually', b'anonymous', b'another', b'answer', b'answered', b'answering', b'answers', b'antarctica', b'antenna', b'anthony', b'antibodies', b'antibody', b'anticipated', b'antigua', b'antique', b'antiques', b'antivirus', b'antonio', b'anxiety', b'anybody', b'anymore', b'anyone', b'anything', b'anytime', b'anyway', b'anywhere', b'apache', b'apartment', b'apartments', b'apollo', b'apparatus', b'apparel', b'apparent', b'apparently', b'appeal', b'appeals', b'appear', b'appearance', b'appeared', b'appearing', b'appears', b'appendix', b'appliance', b'appliances', b'applicable', b'applicant', b'applicants', b'application', b'applied', b'applies', b'applying', b'appointed', b'appointment', b'appraisal', b'appreciate', b'appreciated', b'approach', b'approaches', b'appropriate', b'approval', b'approve', b'approved', b'approx', b'approximate', b'aquarium', b'aquatic', b'arabia', b'arabic', b'arbitrary', b'arbitration', b'arcade', b'architect', b'architects', b'archive', b'archived', b'archives', b'arctic', b'argentina', b'argued', b'argument', b'arguments', b'arising', b'arizona', b'arkansas', b'arlington', b'armenia', b'armstrong', b'arnold', b'around', b'arrange', b'arranged', b'arrangement', b'arrest', b'arrested', b'arrival', b'arrivals', b'arrive', b'arrived', b'arrives', b'arthritis', b'arthur', b'article', b'articles', b'artificial', b'artist', b'artistic', b'artists', b'artwork', b'asbestos', b'ashley', b'asking', b'aspect', b'aspects', b'aspnet', b'assault', b'assembled', b'assembly', b'assess', b'assessed', b'assessing', b'assessment', b'assessments', b'assets', b'assign', b'assigned', b'assignment', b'assignments', b'assist', b'assistance', b'assistant', b'assisted', b'assists', b'associate', b'associated', b'associates', b'association', b'assume', b'assumed', b'assumes', b'assuming', b'assumption', b'assumptions', b'assurance', b'assure', b'assured', b'asthma', b'astrology', b'astronomy', b'athens', b'athletes', b'athletic', b'athletics', b'atlanta', b'atlantic', b'atmosphere', b'atmospheric', b'atomic', b'attach', b'attached', b'attachment', b'attachments', b'attack', b'attacked', b'attacks', b'attempt', b'attempted', b'attempting', b'attempts', b'attend', b'attendance', b'attended', b'attending', b'attention', b'attitude', b'attitudes', b'attorney', b'attorneys', b'attract', b'attraction', b'attractions', b'attractive', b'attribute', b'attributes', b'auburn', b'auckland', b'auction', b'auctions', b'audience', b'auditor', b'august', b'aurora', b'austin', b'australia', b'australian', b'austria', b'authentic', b'author', b'authorities', b'authority', b'authorized', b'authors', b'automated', b'automatic', b'automation', b'automobile', b'automobiles', b'automotive', b'autumn', b'available', b'avatar', b'avenue', b'average', b'aviation', b'avoiding', b'awarded', b'awards', b'awareness', b'awesome', b'azerbaijan', b'babies', b'bachelor', b'backed', b'background', b'backgrounds', b'backing', b'backup', b'bacteria', b'bacterial', b'baghdad', b'bahamas', b'bahrain', b'bailey', b'baking', b'balance', b'balanced', b'ballet', b'balloon', b'ballot', b'baltimore', b'banana', b'bandwidth', b'bangbus', b'bangkok', b'bangladesh', b'banking', b'bankruptcy', b'banned', b'banner', b'banners', b'baptist', b'barbados', b'barbara', b'barbie', b'barcelona', b'barely', b'bargain', b'bargains', b'barnes', b'barrel', b'barrier', b'barriers', b'baseball', b'baseline', b'basement', b'basename', b'basically', b'basics', b'basket', b'basketball', b'baskets', b'bathroom', b'bathrooms', b'batman', b'batteries', b'battery', b'battle', b'battlefield', b'beaches', b'bearing', b'beastality', b'beastiality', b'beatles', b'beautiful', b'beautifully', b'beauty', b'beaver', b'became', b'because', b'become', b'becomes', b'becoming', b'bedding', b'bedford', b'bedroom', b'bedrooms', b'before', b'beginner', b'beginners', b'beginning', b'begins', b'behalf', b'behavior', b'behavioral', b'behaviour', b'behind', b'beijing', b'beings', b'belarus', b'belfast', b'belgium', b'belief', b'beliefs', b'believe', b'believed', b'believes', b'belize', b'belkin', b'belong', b'belongs', b'benchmark', b'beneath', b'beneficial', b'benefit', b'benefits', b'benjamin', b'bennett', b'berkeley', b'berlin', b'bermuda', b'bernard', b'beside', b'besides', b'bestiality', b'bestsellers', b'better', b'betting', b'between', b'beverage', b'beverages', b'beverly', b'beyond', b'bhutan', b'biblical', b'bicycle', b'bidder', b'bidding', b'bigger', b'biggest', b'bikini', b'billing', b'billion', b'binary', b'binding', b'biographies', b'biography', b'biological', b'biology', b'birmingham', b'birthday', b'bishop', b'bizarre', b'bizrate', b'blackberry', b'blackjack', b'blacks', b'blades', b'blanket', b'bleeding', b'blessed', b'blocked', b'blocking', b'blocks', b'blogger', b'bloggers', b'blogging', b'blonde', b'bloody', b'bloomberg', b'blowing', b'blowjob', b'blowjobs', b'bluetooth', b'boards', b'boating', b'bodies', b'bolivia', b'bondage', b'booking', b'bookings', b'bookmark', b'bookmarks', b'bookstore', b'boolean', b'border', b'borders', b'boring', b'borough', b'bosnia', b'boston', b'bother', b'botswana', b'bottle', b'bottles', b'bottom', b'bought', b'boulder', b'boulevard', b'boundaries', b'boundary', b'bouquet', b'boutique', b'bowling', b'boxing', b'bracelet', b'bracelets', b'bracket', b'bradford', b'bradley', b'brakes', b'branch', b'branches', b'brandon', b'brands', b'brazil', b'brazilian', b'breach', b'breakdown', b'breakfast', b'breaking', b'breaks', b'breast', b'breasts', b'breath', b'breathing', b'breeding', b'breeds', b'bridal', b'bridge', b'bridges', b'briefing', b'briefly', b'briefs', b'bright', b'brighton', b'brilliant', b'bringing', b'brings', b'brisbane', b'bristol', b'britain', b'britannica', b'british', b'britney', b'broadband', b'broadcast', b'broader', b'broadway', b'brochure', b'brochures', b'broken', b'broker', b'brokers', b'bronze', b'brooklyn', b'brooks', b'brother', b'brothers', b'brought', b'browse', b'browser', b'browsers', b'browsing', b'brunei', b'brunette', b'brunswick', b'brussels', b'brutal', b'bryant', b'bubble', b'budapest', b'budget', b'budgets', b'buffalo', b'buffer', b'bufing', b'builder', b'builders', b'building', b'buildings', b'builds', b'bukkake', b'bulgaria', b'bulgarian', b'bullet', b'bulletin', b'bumper', b'bundle', b'burden', b'bureau', b'buried', b'burlington', b'burner', b'burning', b'burton', b'business', b'businesses', b'butler', b'butter', b'butterfly', b'button', b'buttons', b'buyers', b'buying', b'cabinet', b'cabinets', b'cables', b'cached', b'cadillac', b'calcium', b'calculate', b'calculated', b'calculation', b'calculator', b'calculators', b'calendar', b'calendars', b'calgary', b'calibration', b'california', b'called', b'calling', b'calvin', b'cambodia', b'cambridge', b'camcorder', b'camcorders', b'camera', b'cameras', b'cameron', b'cameroon', b'campaign', b'campaigns', b'campbell', b'camping', b'campus', b'canada', b'canadian', b'canberra', b'cancel', b'cancelled', b'cancer', b'candidate', b'candidates', b'candle', b'candles', b'cannon', b'canvas', b'canyon', b'capability', b'capable', b'capacity', b'capital', b'capitol', b'captain', b'capture', b'captured', b'carbon', b'cardiac', b'cardiff', b'career', b'careers', b'careful', b'carefully', b'caribbean', b'caring', b'carlos', b'carmen', b'carnival', b'carolina', b'caroline', b'carpet', b'carried', b'carrier', b'carriers', b'carries', b'carroll', b'carrying', b'carter', b'cartoon', b'cartoons', b'cartridge', b'cartridges', b'cashiers', b'casino', b'casinos', b'cassette', b'casting', b'castle', b'casual', b'catalog', b'catalogs', b'catalogue', b'catalyst', b'categories', b'category', b'catering', b'cathedral', b'catherine', b'catholic', b'cattle', b'caught', b'caused', b'causes', b'causing', b'caution', b'cayman', b'ceiling', b'celebrate', b'celebration', b'celebrities', b'celebrity', b'celebs', b'cellular', b'celtic', b'cement', b'cemetery', b'census', b'center', b'centered', b'centers', b'central', b'centre', b'centres', b'centuries', b'century', b'ceramic', b'ceremony', b'certain', b'certainly', b'certificate', b'certified', b'chains', b'chairman', b'chairs', b'challenge', b'challenged', b'challenges', b'challenging', b'chamber', b'chambers', b'champagne', b'champion', b'champions', b'chance', b'chancellor', b'chances', b'change', b'changed', b'changelog', b'changes', b'changing', b'channel', b'channels', b'chapel', b'chapter', b'chapters', b'character', b'characters', b'charge', b'charged', b'charger', b'chargers', b'charges', b'charging', b'charitable', b'charity', b'charles', b'charleston', b'charlie', b'charlotte', b'charming', b'charms', b'charter', b'charts', b'chassis', b'cheaper', b'cheapest', b'cheats', b'checked', b'checking', b'checklist', b'checkout', b'checks', b'cheers', b'cheese', b'chelsea', b'chemical', b'chemicals', b'chemistry', b'cheque', b'cherry', b'chester', b'chevrolet', b'chicago', b'chicken', b'chicks', b'childhood', b'children', b'childrens', b'chinese', b'chocolate', b'choice', b'choices', b'cholesterol', b'choose', b'choosing', b'chorus', b'chosen', b'christ', b'christian', b'christians', b'christina', b'christine', b'christmas', b'christopher', b'chrome', b'chronic', b'chronicle', b'chronicles', b'chrysler', b'chubby', b'church', b'churches', b'cialis', b'cigarette', b'cigarettes', b'cincinnati', b'cinema', b'cingular', b'circle', b'circles', b'circuit', b'circuits', b'circular', b'circulation', b'circus', b'citation', b'citations', b'cities', b'citizen', b'citizens', b'citizenship', b'citysearch', b'civilian', b'claimed', b'claims', b'claire', b'clarity', b'clarke', b'classes', b'classic', b'classical', b'classics', b'classified', b'classifieds', b'classroom', b'clause', b'cleaner', b'cleaners', b'cleaning', b'cleanup', b'clearance', b'cleared', b'clearing', b'clearly', b'cleveland', b'clicking', b'clicks', b'client', b'clients', b'climate', b'climbing', b'clinic', b'clinical', b'clinics', b'clinton', b'clocks', b'closed', b'closely', b'closer', b'closes', b'closest', b'closing', b'closure', b'clothes', b'clothing', b'clouds', b'cloudy', b'cluster', b'clusters', b'cnetcom', b'coaches', b'coaching', b'coalition', b'coastal', b'coated', b'coating', b'coding', b'coffee', b'cognitive', b'coleman', b'collapse', b'collar', b'colleague', b'colleagues', b'collect', b'collected', b'collectible', b'collecting', b'collection', b'collections', b'collective', b'collector', b'collectors', b'college', b'colleges', b'collins', b'cologne', b'colombia', b'colonial', b'colony', b'colorado', b'colored', b'colors', b'colour', b'colours', b'columbia', b'columbus', b'column', b'columnists', b'columns', b'combat', b'combination', b'combine', b'combined', b'combines', b'combining', b'comedy', b'comfort', b'comfortable', b'comics', b'coming', b'command', b'commander', b'commands', b'comment', b'commentary', b'commented', b'comments', b'commerce', b'commercial', b'commission', b'commissions', b'commit', b'commitment', b'commitments', b'committed', b'committee', b'committees', b'commodities', b'commodity', b'common', b'commonly', b'commons', b'communicate', b'communist', b'communities', b'community', b'compact', b'companies', b'companion', b'company', b'compaq', b'comparable', b'comparative', b'compare', b'compared', b'comparing', b'comparison', b'comparisons', b'compatible', b'compete', b'competent', b'competing', b'competition', b'competitive', b'competitors', b'compilation', b'compile', b'compiled', b'compiler', b'complaint', b'complaints', b'complement', b'complete', b'completed', b'completely', b'completing', b'completion', b'complex', b'complexity', b'compliance', b'compliant', b'complicated', b'comply', b'component', b'components', b'composed', b'composer', b'composite', b'composition', b'compound', b'compounds', b'compressed', b'compression', b'compromise', b'computation', b'compute', b'computed', b'computer', b'computers', b'computing', b'concentrate', b'concept', b'concepts', b'conceptual', b'concern', b'concerned', b'concerning', b'concerns', b'concert', b'concerts', b'conclude', b'concluded', b'conclusion', b'conclusions', b'concord', b'concrete', b'condition', b'conditional', b'conditions', b'condos', b'conduct', b'conducted', b'conducting', b'conference', b'conferences', b'confidence', b'confident', b'config', b'configure', b'configured', b'configuring', b'confirm', b'confirmed', b'conflict', b'conflicts', b'confused', b'confusion', b'congress', b'conjunction', b'connect', b'connected', b'connecticut', b'connecting', b'connection', b'connections', b'connector', b'connectors', b'conscious', b'consecutive', b'consensus', b'consent', b'consequence', b'consider', b'considered', b'considering', b'considers', b'consist', b'consistency', b'consistent', b'consisting', b'consists', b'console', b'consoles', b'consortium', b'conspiracy', b'constant', b'constantly', b'constitute', b'constitutes', b'constraint', b'constraints', b'construct', b'constructed', b'consult', b'consultancy', b'consultant', b'consultants', b'consulting', b'consumer', b'consumers', b'consumption', b'contact', b'contacted', b'contacting', b'contacts', b'contain', b'contained', b'container', b'containers', b'containing', b'contains', b'content', b'contents', b'contest', b'contests', b'context', b'continent', b'continental', b'continually', b'continue', b'continued', b'continues', b'continuing', b'continuity', b'continuous', b'contract', b'contracting', b'contractor', b'contractors', b'contracts', b'contrary', b'contrast', b'contribute', b'contributed', b'contributor', b'control', b'controlled', b'controller', b'controllers', b'controlling', b'controls', b'controversy', b'convenience', b'convenient', b'convention', b'conventions', b'convergence', b'conversion', b'convert', b'converted', b'converter', b'convertible', b'convicted', b'conviction', b'convinced', b'cookbook', b'cooked', b'cookie', b'cookies', b'cooking', b'cooler', b'cooling', b'cooper', b'cooperation', b'cooperative', b'coordinate', b'coordinated', b'coordinates', b'coordinator', b'copied', b'copies', b'copper', b'copying', b'copyright', b'copyrighted', b'copyrights', b'cordless', b'cornell', b'corner', b'corners', b'cornwall', b'corporate', b'corporation', b'corpus', b'correct', b'corrected', b'correction', b'corrections', b'correctly', b'correlation', b'corruption', b'cosmetic', b'cosmetics', b'costume', b'costumes', b'cottage', b'cottages', b'cotton', b'council', b'councils', b'counsel', b'counseling', b'counted', b'counter', b'counters', b'counties', b'counting', b'countries', b'country', b'counts', b'county', b'couple', b'coupled', b'couples', b'coupon', b'coupons', b'courage', b'courier', b'course', b'courses', b'courtesy', b'courts', b'coverage', b'covered', b'covering', b'covers', b'cowboy', b'cradle', b'crafts', b'crawford', b'create', b'created', b'creates', b'creating', b'creation', b'creations', b'creative', b'creativity', b'creator', b'creature', b'creatures', b'credit', b'credits', b'cricket', b'crimes', b'criminal', b'crisis', b'criteria', b'criterion', b'critical', b'criticism', b'critics', b'croatia', b'crossing', b'crossword', b'crucial', b'cruise', b'cruises', b'crystal', b'cuisine', b'cultural', b'culture', b'cultures', b'cumshot', b'cumshots', b'cumulative', b'curious', b'currencies', b'currency', b'current', b'currently', b'curriculum', b'cursor', b'curtis', b'curves', b'custody', b'custom', b'customer', b'customers', b'customise', b'customize', b'customized', b'customs', b'cutting', b'cycles', b'cycling', b'cylinder', b'cyprus', b'dakota', b'dallas', b'damage', b'damaged', b'damages', b'dancing', b'danger', b'dangerous', b'daniel', b'danish', b'darkness', b'darwin', b'database', b'databases', b'dating', b'daughter', b'daughters', b'davidson', b'dayton', b'deadline', b'deadly', b'dealer', b'dealers', b'dealing', b'dealtime', b'deaths', b'debate', b'debian', b'deborah', b'decade', b'decades', b'december', b'decent', b'decide', b'decided', b'decimal', b'decision', b'decisions', b'declaration', b'declare', b'declared', b'decline', b'declined', b'decorating', b'decorative', b'decrease', b'decreased', b'dedicated', b'deemed', b'deeper', b'deeply', b'default', b'defeat', b'defects', b'defence', b'defend', b'defendant', b'defense', b'defensive', b'deferred', b'deficit', b'define', b'defined', b'defines', b'defining', b'definitely', b'definition', b'definitions', b'degree', b'degrees', b'delaware', b'delayed', b'delays', b'delegation', b'delete', b'deleted', b'delicious', b'delight', b'deliver', b'delivered', b'delivering', b'delivers', b'delivery', b'deluxe', b'demand', b'demanding', b'demands', b'democracy', b'democrat', b'democratic', b'democrats', b'demographic', b'demonstrate', b'denial', b'denied', b'denmark', b'dennis', b'density', b'dental', b'dentists', b'denver', b'department', b'departments', b'departure', b'depend', b'dependence', b'dependent', b'depending', b'depends', b'deployment', b'deposit', b'deposits', b'depression', b'deputy', b'derived', b'descending', b'describe', b'described', b'describes', b'describing', b'description', b'desert', b'deserve', b'design', b'designated', b'designation', b'designed', b'designer', b'designers', b'designing', b'designs', b'desirable', b'desire', b'desired', b'desktop', b'desktops', b'desperate', b'despite', b'destination', b'destiny', b'destroy', b'destroyed', b'destruction', b'detail', b'detailed', b'details', b'detect', b'detected', b'detection', b'detective', b'detector', b'determine', b'determined', b'determines', b'determining', b'detroit', b'deutsch', b'deutsche', b'deutschland', b'develop', b'developed', b'developer', b'developers', b'developing', b'development', b'develops', b'deviant', b'deviation', b'device', b'devices', b'devoted', b'diabetes', b'diagnosis', b'diagnostic', b'diagram', b'dialog', b'dialogue', b'diameter', b'diamond', b'diamonds', b'dictionary', b'diesel', b'dietary', b'differ', b'difference', b'differences', b'different', b'differently', b'difficult', b'difficulty', b'digest', b'digital', b'dildos', b'dimension', b'dimensional', b'dimensions', b'dining', b'dinner', b'diploma', b'direct', b'directed', b'direction', b'directions', b'directive', b'directly', b'director', b'directories', b'directors', b'directory', b'disability', b'disable', b'disabled', b'disagree', b'disaster', b'discharge', b'discipline', b'disciplines', b'disclaimer', b'disclaimers', b'disclose', b'disclosure', b'discount', b'discounted', b'discounts', b'discover', b'discovered', b'discovery', b'discrete', b'discretion', b'discuss', b'discussed', b'discusses', b'discussing', b'discussion', b'discussions', b'disease', b'diseases', b'dishes', b'disney', b'disorder', b'disorders', b'dispatch', b'dispatched', b'display', b'displayed', b'displaying', b'displays', b'disposal', b'disposition', b'dispute', b'disputes', b'distance', b'distances', b'distant', b'distinct', b'distinction', b'distribute', b'distributed', b'distributor', b'district', b'districts', b'disturbed', b'diverse', b'diversity', b'divide', b'divided', b'dividend', b'divine', b'diving', b'division', b'divisions', b'divorce', b'doctor', b'doctors', b'doctrine', b'document', b'documentary', b'documented', b'documents', b'dollar', b'dollars', b'domain', b'domains', b'domestic', b'dominant', b'dominican', b'donald', b'donate', b'donated', b'donation', b'donations', b'donors', b'dosage', b'double', b'douglas', b'download', b'downloadcom', b'downloaded', b'downloading', b'downloads', b'downtown', b'dozens', b'dragon', b'drainage', b'dramatic', b'drawing', b'drawings', b'dreams', b'dressed', b'dresses', b'dressing', b'drilling', b'drinking', b'drinks', b'driven', b'driver', b'drivers', b'drives', b'driving', b'dropped', b'dublin', b'duncan', b'duplicate', b'durable', b'duration', b'durham', b'during', b'duties', b'dynamic', b'dynamics', b'eagles', b'earlier', b'earliest', b'earned', b'earning', b'earnings', b'earrings', b'earthquake', b'easier', b'easily', b'easter', b'eastern', b'eating', b'ebooks', b'eclipse', b'ecological', b'ecology', b'ecommerce', b'economic', b'economics', b'economies', b'economy', b'ecuador', b'edinburgh', b'edited', b'editing', b'edition', b'editions', b'editor', b'editorial', b'editorials', b'editors', b'edmonton', b'educated', b'education', b'educational', b'educators', b'edward', b'edwards', b'effect', b'effective', b'effectively', b'effects', b'efficiency', b'efficient', b'efficiently', b'effort', b'efforts', b'egyptian', b'either', b'ejaculation', b'elderly', b'elected', b'election', b'elections', b'electoral', b'electric', b'electrical', b'electricity', b'electro', b'electron', b'electronic', b'electronics', b'elegant', b'element', b'elementary', b'elements', b'elephant', b'elevation', b'eleven', b'eligibility', b'eligible', b'eliminate', b'elimination', b'elizabeth', b'elliott', b'elsewhere', b'emails', b'embassy', b'embedded', b'emerald', b'emergency', b'emerging', b'eminem', b'emirates', b'emission', b'emissions', b'emotional', b'emotions', b'emperor', b'emphasis', b'empire', b'empirical', b'employ', b'employed', b'employee', b'employees', b'employer', b'employers', b'employment', b'enable', b'enabled', b'enables', b'enabling', b'enclosed', b'enclosure', b'encoding', b'encounter', b'encountered', b'encourage', b'encouraged', b'encourages', b'encouraging', b'encryption', b'endangered', b'ending', b'endless', b'endorsed', b'endorsement', b'enemies', b'energy', b'enforcement', b'engage', b'engaged', b'engagement', b'engaging', b'engine', b'engineer', b'engineering', b'engineers', b'engines', b'england', b'english', b'enhance', b'enhanced', b'enhancement', b'enhancing', b'enjoyed', b'enjoying', b'enlarge', b'enlargement', b'enormous', b'enough', b'enquiries', b'enquiry', b'enrolled', b'enrollment', b'ensemble', b'ensure', b'ensures', b'ensuring', b'entered', b'entering', b'enterprise', b'enterprises', b'enters', b'entire', b'entirely', b'entities', b'entitled', b'entity', b'entrance', b'entries', b'envelope', b'environment', b'enzyme', b'epinions', b'epinionscom', b'episode', b'episodes', b'equality', b'equally', b'equation', b'equations', b'equilibrium', b'equipment', b'equipped', b'equity', b'equivalent', b'ericsson', b'erotic', b'erotica', b'errors', b'escape', b'escort', b'escorts', b'especially', b'essays', b'essence', b'essential', b'essentially', b'essentials', b'establish', b'established', b'estate', b'estates', b'estimate', b'estimated', b'estimates', b'estimation', b'estonia', b'eternal', b'ethernet', b'ethical', b'ethics', b'ethiopia', b'ethnic', b'eugene', b'europe', b'european', b'evaluate', b'evaluated', b'evaluating', b'evaluation', b'evaluations', b'evanescence', b'evening', b'events', b'eventually', b'everybody', b'everyday', b'everyone', b'everything', b'everywhere', b'evidence', b'evident', b'evolution', b'exactly', b'examination', b'examine', b'examined', b'examines', b'examining', b'example', b'examples', b'exceed', b'excellence', b'excellent', b'except', b'exception', b'exceptional', b'exceptions', b'excerpt', b'excess', b'excessive', b'exchange', b'exchanges', b'excited', b'excitement', b'exciting', b'exclude', b'excluded', b'excluding', b'exclusion', b'exclusive', b'exclusively', b'excuse', b'execute', b'executed', b'execution', b'executive', b'executives', b'exempt', b'exemption', b'exercise', b'exercises', b'exhaust', b'exhibit', b'exhibition', b'exhibitions', b'exhibits', b'existed', b'existence', b'existing', b'exists', b'exotic', b'expand', b'expanded', b'expanding', b'expansion', b'expansys', b'expect', b'expected', b'expects', b'expedia', b'expenditure', b'expense', b'expenses', b'expensive', b'experience', b'experienced', b'experiences', b'experiment', b'experiments', b'expert', b'expertise', b'experts', b'expiration', b'expired', b'expires', b'explain', b'explained', b'explaining', b'explains', b'explanation', b'explicit', b'explicitly', b'exploration', b'explore', b'explorer', b'exploring', b'explosion', b'export', b'exports', b'exposed', b'exposure', b'express', b'expressed', b'expression', b'expressions', b'extend', b'extended', b'extending', b'extends', b'extension', b'extensions', b'extensive', b'extent', b'exterior', b'external', b'extract', b'extraction', b'extras', b'extreme', b'extremely', b'fabric', b'fabrics', b'fabulous', b'facial', b'facilitate', b'facilities', b'facility', b'facing', b'factor', b'factors', b'factory', b'faculty', b'failed', b'failing', b'failure', b'failures', b'fairfield', b'fairly', b'fallen', b'falling', b'familiar', b'families', b'family', b'famous', b'fantastic', b'fantasy', b'farmer', b'farmers', b'farming', b'fascinating', b'fashion', b'faster', b'fastest', b'father', b'fathers', b'favorite', b'favorites', b'favors', b'favour', b'favourite', b'favourites', b'feature', b'featured', b'features', b'featuring', b'february', b'federal', b'federation', b'feedback', b'feeding', b'feeling', b'feelings', b'fellow', b'fellowship', b'female', b'females', b'ferrari', b'festival', b'festivals', b'fetish', b'fiction', b'fields', b'fifteen', b'fighter', b'fighters', b'fighting', b'figure', b'figured', b'figures', b'filename', b'filing', b'filled', b'filling', b'filter', b'filtering', b'filters', b'finally', b'finals', b'finance', b'finances', b'financial', b'financing', b'finder', b'finding', b'findings', b'findlaw', b'finest', b'finger', b'fingering', b'fingers', b'finish', b'finished', b'finishing', b'finite', b'finland', b'finnish', b'fioricet', b'firefox', b'fireplace', b'firewall', b'firewire', b'firmware', b'fiscal', b'fisher', b'fisheries', b'fishing', b'fisting', b'fitness', b'fitted', b'fitting', b'fixtures', b'flashers', b'flashing', b'flavor', b'fleece', b'flexibility', b'flexible', b'flickr', b'flight', b'flights', b'floating', b'flooring', b'floors', b'floppy', b'floral', b'florence', b'florida', b'florist', b'florists', b'flower', b'flowers', b'flying', b'focused', b'focuses', b'focusing', b'folder', b'folders', b'folding', b'follow', b'followed', b'following', b'follows', b'footage', b'football', b'footwear', b'forbes', b'forbidden', b'forced', b'forces', b'forecast', b'forecasts', b'foreign', b'forest', b'forestry', b'forests', b'forever', b'forget', b'forgot', b'forgotten', b'formal', b'format', b'formation', b'formats', b'formatting', b'formed', b'former', b'formerly', b'forming', b'formula', b'fortune', b'forums', b'forward', b'forwarding', b'fossil', b'foster', b'fought', b'foundation', b'foundations', b'founded', b'founder', b'fountain', b'fourth', b'fraction', b'fragrance', b'fragrances', b'framed', b'frames', b'framework', b'framing', b'france', b'franchise', b'francis', b'francisco', b'frankfurt', b'franklin', b'fraser', b'frederick', b'freebsd', b'freedom', b'freelance', b'freely', b'freeware', b'freeze', b'freight', b'french', b'frequencies', b'frequency', b'frequent', b'frequently', b'friday', b'fridge', b'friend', b'friendly', b'friends', b'friendship', b'frontier', b'frontpage', b'frozen', b'fruits', b'fucked', b'fucking', b'fujitsu', b'function', b'functional', b'functioning', b'functions', b'fundamental', b'funded', b'funding', b'fundraising', b'funeral', b'furnished', b'furnishings', b'furniture', b'further', b'furthermore', b'fusion', b'future', b'futures', b'gabriel', b'gadgets', b'gained', b'galaxy', b'galleries', b'gallery', b'gambling', b'gamecube', b'gamespot', b'gaming', b'gangbang', b'garage', b'garbage', b'garcia', b'garden', b'gardening', b'gardens', b'garlic', b'garmin', b'gasoline', b'gateway', b'gather', b'gathered', b'gathering', b'gazette', b'gender', b'genealogy', b'general', b'generally', b'generate', b'generated', b'generates', b'generating', b'generation', b'generations', b'generator', b'generators', b'generic', b'generous', b'genesis', b'genetic', b'genetics', b'geneva', b'genius', b'genome', b'genres', b'gentle', b'gentleman', b'gently', b'genuine', b'geographic', b'geography', b'geological', b'geology', b'geometry', b'george', b'georgia', b'gerald', b'german', b'germany', b'getting', b'giants', b'gibraltar', b'gibson', b'gilbert', b'girlfriend', b'giving', b'glance', b'glasgow', b'glasses', b'global', b'glossary', b'gloves', b'glucose', b'golden', b'google', b'gordon', b'gorgeous', b'gospel', b'gossip', b'gothic', b'gotten', b'gourmet', b'governance', b'governing', b'government', b'governments', b'governor', b'grades', b'gradually', b'graduate', b'graduated', b'graduates', b'graduation', b'graham', b'grammar', b'grande', b'granny', b'granted', b'grants', b'graphic', b'graphical', b'graphics', b'graphs', b'grateful', b'gratis', b'gratuit', b'gravity', b'greater', b'greatest', b'greatly', b'greece', b'greene', b'greenhouse', b'greensboro', b'greeting', b'greetings', b'gregory', b'grenada', b'griffin', b'grocery', b'groove', b'ground', b'grounds', b'groundwater', b'groups', b'growing', b'growth', b'guarantee', b'guaranteed', b'guarantees', b'guardian', b'guards', b'guatemala', b'guestbook', b'guests', b'guidance', b'guided', b'guidelines', b'guides', b'guilty', b'guinea', b'guitar', b'guitars', b'guyana', b'habitat', b'habits', b'hacker', b'halfcom', b'halifax', b'halloween', b'hamburg', b'hamilton', b'hammer', b'hampshire', b'hampton', b'handbags', b'handbook', b'handed', b'handheld', b'handhelds', b'handjob', b'handjobs', b'handle', b'handled', b'handles', b'handling', b'handmade', b'hanging', b'hansen', b'happen', b'happened', b'happening', b'happens', b'happiness', b'harassment', b'harbor', b'harbour', b'hardcore', b'hardcover', b'harder', b'hardly', b'hardware', b'hardwood', b'harley', b'harmful', b'harmony', b'harold', b'harper', b'harris', b'harrison', b'hartford', b'harvard', b'harvest', b'harvey', b'having', b'hawaii', b'hawaiian', b'hazard', b'hazardous', b'hazards', b'headed', b'header', b'headers', b'heading', b'headline', b'headlines', b'headphones', b'headset', b'healing', b'health', b'healthcare', b'healthy', b'hearing', b'hearings', b'hearts', b'heated', b'heater', b'heather', b'heating', b'heaven', b'heavily', b'hebrew', b'height', b'heights', b'helena', b'helicopter', b'helmet', b'helped', b'helpful', b'helping', b'henderson', b'hentai', b'hepatitis', b'herald', b'herbal', b'hereby', b'herein', b'heritage', b'heroes', b'herself', b'hewlett', b'hidden', b'hierarchy', b'higher', b'highest', b'highland', b'highlight', b'highlighted', b'highlights', b'highly', b'highway', b'highways', b'hiking', b'hilton', b'himself', b'hiring', b'hispanic', b'historic', b'historical', b'history', b'hitachi', b'hitting', b'hobbies', b'hockey', b'holdem', b'holder', b'holders', b'holding', b'holdings', b'holiday', b'holidays', b'holland', b'hollow', b'hollywood', b'holmes', b'holocaust', b'homeland', b'homeless', b'homepage', b'hometown', b'homework', b'honduras', b'honest', b'honolulu', b'honors', b'hopefully', b'hoping', b'hopkins', b'horizon', b'horizontal', b'hormone', b'horrible', b'horror', b'horses', b'hospital', b'hospitality', b'hospitals', b'hosted', b'hostel', b'hostels', b'hosting', b'hotels', b'hotelscom', b'hotmail', b'hottest', b'hourly', b'household', b'households', b'houses', b'housewares', b'housewives', b'housing', b'houston', b'howard', b'however', b'hudson', b'hughes', b'humanities', b'humanity', b'humans', b'humidity', b'hundred', b'hundreds', b'hungarian', b'hungary', b'hunger', b'hungry', b'hunter', b'hunting', b'huntington', b'hurricane', b'husband', b'hybrid', b'hydraulic', b'hydrocodone', b'hydrogen', b'hygiene', b'hypothesis', b'hyundai', b'iceland', b'identical', b'identified', b'identifier', b'identifies', b'identify', b'identifying', b'identity', b'ignore', b'ignored', b'illegal', b'illinois', b'illness', b'illustrated', b'images', b'imagination', b'imagine', b'imaging', b'immediate', b'immediately', b'immigrants', b'immigration', b'immune', b'immunology', b'impact', b'impacts', b'impaired', b'imperial', b'implement', b'implemented', b'implied', b'implies', b'import', b'importance', b'important', b'importantly', b'imported', b'imports', b'impose', b'imposed', b'impossible', b'impressed', b'impression', b'impressive', b'improve', b'improved', b'improvement', b'improving', b'incentive', b'incentives', b'incest', b'inches', b'incidence', b'incident', b'incidents', b'include', b'included', b'includes', b'including', b'inclusion', b'inclusive', b'income', b'incoming', b'incomplete', b'incorporate', b'incorrect', b'increase', b'increased', b'increases', b'increasing', b'incredible', b'incurred', b'indeed', b'independent', b'indexed', b'indexes', b'indian', b'indiana', b'indians', b'indicate', b'indicated', b'indicates', b'indicating', b'indication', b'indicator', b'indicators', b'indices', b'indigenous', b'indirect', b'individual', b'individuals', b'indonesia', b'indonesian', b'indoor', b'induced', b'induction', b'industrial', b'industries', b'industry', b'inexpensive', b'infant', b'infants', b'infected', b'infection', b'infections', b'infectious', b'infinite', b'inflation', b'influence', b'influenced', b'influences', b'inform', b'informal', b'information', b'informative', b'informed', b'infrared', b'ingredients', b'inherited', b'initial', b'initially', b'initiated', b'initiative', b'initiatives', b'injection', b'injured', b'injuries', b'injury', b'inkjet', b'inline', b'innocent', b'innovation', b'innovations', b'innovative', b'inputs', b'inquire', b'inquiries', b'inquiry', b'insects', b'insert', b'inserted', b'insertion', b'inside', b'insider', b'insight', b'insights', b'inspection', b'inspections', b'inspector', b'inspiration', b'inspired', b'install', b'installed', b'installing', b'instance', b'instances', b'instant', b'instantly', b'instead', b'institute', b'institutes', b'institution', b'instruction', b'instructor', b'instructors', b'instrument', b'instruments', b'insulin', b'insurance', b'insured', b'intake', b'integer', b'integral', b'integrate', b'integrated', b'integrating', b'integration', b'integrity', b'intelligent', b'intend', b'intended', b'intense', b'intensity', b'intensive', b'intent', b'intention', b'interact', b'interaction', b'interactive', b'interest', b'interested', b'interesting', b'interests', b'interface', b'interfaces', b'interim', b'interior', b'internal', b'internet', b'internship', b'interpreted', b'interracial', b'interstate', b'interval', b'intervals', b'interview', b'interviews', b'intimate', b'intranet', b'introduce', b'introduced', b'introduces', b'introducing', b'invalid', b'invasion', b'invention', b'inventory', b'invest', b'investigate', b'investing', b'investment', b'investments', b'investor', b'investors', b'invisible', b'invision', b'invitation', b'invitations', b'invite', b'invited', b'invoice', b'involve', b'involved', b'involvement', b'involves', b'involving', b'ireland', b'irrigation', b'islamic', b'island', b'islands', b'isolated', b'isolation', b'israel', b'israeli', b'issued', b'issues', b'istanbul', b'italia', b'italian', b'italiano', b'italic', b'itself', b'itunes', b'jacket', b'jackets', b'jackie', b'jackson', b'jaguar', b'jamaica', b'january', b'japanese', b'javascript', b'jefferson', b'jeffrey', b'jelsoft', b'jennifer', b'jeremy', b'jersey', b'jerusalem', b'jessica', b'jewellery', b'jewelry', b'jewish', b'johnny', b'johnson', b'johnston', b'joined', b'joining', b'jonathan', b'jordan', b'joseph', b'joshua', b'journal', b'journalism', b'journalist', b'journalists', b'journals', b'journey', b'judges', b'judgment', b'judicial', b'julian', b'jumping', b'junction', b'jungle', b'junior', b'justice', b'justify', b'justin', b'juvenile', b'kansas', b'karaoke', b'katrina', b'kazakhstan', b'keeping', b'kelkoo', b'kennedy', b'kenneth', b'kentucky', b'kernel', b'keyboard', b'keyboards', b'keyword', b'keywords', b'kidney', b'kijiji', b'killed', b'killer', b'killing', b'kilometers', b'kinase', b'kingdom', b'kingston', b'kissing', b'kitchen', b'knight', b'knights', b'knitting', b'knives', b'knowing', b'knowledge', b'korean', b'kruger', b'kuwait', b'labeled', b'labels', b'laboratory', b'labour', b'ladder', b'ladies', b'lafayette', b'lambda', b'lancaster', b'landing', b'landscape', b'landscapes', b'language', b'languages', b'laptop', b'laptops', b'largely', b'larger', b'largest', b'lasting', b'lately', b'latest', b'latina', b'latinas', b'latino', b'latitude', b'latter', b'latvia', b'lauderdale', b'laughing', b'launch', b'launched', b'launches', b'laundry', b'lauren', b'lawrence', b'lawsuit', b'lawyer', b'lawyers', b'layers', b'layout', b'leader', b'leaders', b'leadership', b'leading', b'league', b'learned', b'learners', b'learning', b'leasing', b'leather', b'leaves', b'leaving', b'lebanon', b'lecture', b'lectures', b'legacy', b'legally', b'legend', b'legendary', b'legends', b'legislation', b'legislative', b'legislature', b'legitimate', b'leisure', b'lender', b'lenders', b'lending', b'length', b'lenses', b'leonard', b'lesbian', b'lesbians', b'leslie', b'lesser', b'lesson', b'lessons', b'letter', b'letters', b'letting', b'levels', b'levitra', b'lexington', b'lexmark', b'liabilities', b'liability', b'liable', b'liberal', b'liberia', b'liberty', b'librarian', b'libraries', b'library', b'licence', b'license', b'licensed', b'licenses', b'licensing', b'licking', b'lifestyle', b'lifetime', b'lighter', b'lighting', b'lightning', b'lights', b'lightweight', b'likelihood', b'likely', b'likewise', b'limitation', b'limitations', b'limited', b'limiting', b'limits', b'limousines', b'lincoln', b'lindsay', b'linear', b'lingerie', b'linked', b'linking', b'liquid', b'listed', b'listen', b'listening', b'listing', b'listings', b'listprice', b'literacy', b'literally', b'literary', b'literature', b'lithuania', b'litigation', b'little', b'livecam', b'liverpool', b'livesex', b'livestock', b'living', b'loaded', b'loading', b'locale', b'locally', b'locate', b'located', b'location', b'locations', b'locator', b'locked', b'locking', b'lodging', b'logged', b'logging', b'logical', b'logistics', b'logitech', b'lolita', b'london', b'lonely', b'longer', b'longest', b'longitude', b'looked', b'looking', b'looksmart', b'lookup', b'losing', b'losses', b'lottery', b'louise', b'louisiana', b'louisville', b'lounge', b'lovely', b'lovers', b'loving', b'lowest', b'luggage', b'luther', b'luxembourg', b'luxury', b'lyrics', b'macedonia', b'machine', b'machinery', b'machines', b'macintosh', b'macromedia', b'madagascar', b'madison', b'madness', b'madonna', b'madrid', b'magazine', b'magazines', b'magical', b'magnet', b'magnetic', b'magnificent', b'magnitude', b'maiden', b'mailed', b'mailing', b'mailman', b'mailto', b'mainland', b'mainly', b'mainstream', b'maintain', b'maintained', b'maintaining', b'maintains', b'maintenance', b'majority', b'makers', b'makeup', b'making', b'malawi', b'malaysia', b'maldives', b'malpractice', b'manage', b'managed', b'management', b'manager', b'managers', b'managing', b'manchester', b'mandate', b'mandatory', b'manhattan', b'manitoba', b'manner', b'manual', b'manually', b'manuals', b'manufacture', b'mapping', b'marathon', b'marble', b'marcus', b'margaret', b'margin', b'mariah', b'marijuana', b'marilyn', b'marina', b'marine', b'marion', b'maritime', b'marked', b'marker', b'markers', b'market', b'marketing', b'marketplace', b'markets', b'marking', b'marriage', b'married', b'marriott', b'marshall', b'martha', b'martial', b'martin', b'marvel', b'maryland', b'massage', b'massive', b'master', b'mastercard', b'masters', b'matched', b'matches', b'matching', b'material', b'materials', b'maternity', b'mathematics', b'mating', b'matrix', b'matter', b'matters', b'matthew', b'mattress', b'mature', b'mauritius', b'maximize', b'maximum', b'mcdonald', b'meaning', b'meaningful', b'meanwhile', b'measure', b'measured', b'measurement', b'measures', b'measuring', b'mechanical', b'mechanics', b'mechanism', b'mechanisms', b'median', b'medicaid', b'medical', b'medicare', b'medication', b'medications', b'medicine', b'medicines', b'medieval', b'meditation', b'medium', b'medline', b'meeting', b'meetings', b'meetup', b'melbourne', b'melissa', b'member', b'members', b'membership', b'membrane', b'memorabilia', b'memorial', b'memories', b'memory', b'memphis', b'mental', b'mention', b'mentioned', b'mentor', b'mercedes', b'merchandise', b'merchant', b'merchants', b'mercury', b'merely', b'merger', b'message', b'messages', b'messaging', b'messenger', b'metabolism', b'metadata', b'metallic', b'metallica', b'metals', b'meters', b'method', b'methodology', b'methods', b'metres', b'metric', b'mexican', b'mexico', b'michael', b'michel', b'michelle', b'michigan', b'microphone', b'microsoft', b'microwave', b'middle', b'midlands', b'midnight', b'midwest', b'mighty', b'migration', b'mileage', b'milfhunter', b'military', b'millennium', b'miller', b'million', b'millions', b'milton', b'milwaukee', b'mineral', b'minerals', b'miniature', b'minimal', b'minimize', b'minimum', b'mining', b'minister', b'ministers', b'ministries', b'ministry', b'minneapolis', b'minnesota', b'minolta', b'minority', b'minute', b'minutes', b'miracle', b'mirror', b'mirrors', b'missed', b'missile', b'missing', b'mission', b'missions', b'mississippi', b'missouri', b'mistake', b'mistakes', b'mistress', b'mitchell', b'mitsubishi', b'mixing', b'mixture', b'mobile', b'mobiles', b'mobility', b'modeling', b'modelling', b'models', b'modems', b'moderate', b'moderator', b'moderators', b'modern', b'modified', b'modify', b'modular', b'module', b'modules', b'moisture', b'moldova', b'molecular', b'molecules', b'moment', b'moments', b'momentum', b'monaco', b'monday', b'monetary', b'mongolia', b'monica', b'monitor', b'monitored', b'monitoring', b'monitors', b'monkey', b'monroe', b'monster', b'montana', b'montgomery', b'monthly', b'months', b'montreal', b'moreover', b'morgan', b'morning', b'morocco', b'morris', b'morrison', b'mortality', b'mortgage', b'mortgages', b'moscow', b'mostly', b'motels', b'mother', b'motherboard', b'mothers', b'motion', b'motivated', b'motivation', b'motorcycle', b'motorcycles', b'motorola', b'motors', b'mountain', b'mountains', b'mounted', b'mounting', b'mounts', b'movement', b'movements', b'movers', b'movies', b'moving', b'mozambique', b'mozilla', b'msgstr', b'multimedia', b'multiple', b'mumbai', b'munich', b'municipal', b'murder', b'murphy', b'murray', b'muscle', b'muscles', b'museum', b'museums', b'musical', b'musician', b'musicians', b'muslim', b'muslims', b'mustang', b'mutual', b'myanmar', b'myrtle', b'myself', b'mysimon', b'myspace', b'mysterious', b'mystery', b'namely', b'namespace', b'namibia', b'naples', b'narrative', b'narrow', b'nascar', b'nasdaq', b'nashville', b'nathan', b'nation', b'national', b'nationally', b'nations', b'nationwide', b'native', b'natural', b'naturally', b'naturals', b'nature', b'naughty', b'navigate', b'navigation', b'navigator', b'nearby', b'nearest', b'nearly', b'nebraska', b'necessarily', b'necessary', b'necessity', b'necklace', b'needed', b'needle', b'negative', b'negotiation', b'neighbor', b'neighbors', b'neither', b'nelson', b'nervous', b'nested', b'netherlands', b'netscape', b'network', b'networking', b'networks', b'neural', b'neutral', b'nevada', b'newark', b'newbie', b'newcastle', b'newest', b'newport', b'newscom', b'newsletter', b'newsletters', b'newspaper', b'newspapers', b'newton', b'nextel', b'niagara', b'nicaragua', b'nicholas', b'nickel', b'nickname', b'nicole', b'nigeria', b'nightlife', b'nightmare', b'nights', b'nintendo', b'nipple', b'nipples', b'nirvana', b'nissan', b'nitrogen', b'nobody', b'nominated', b'nomination', b'nominations', b'nonprofit', b'norfolk', b'normal', b'normally', b'norman', b'northeast', b'northern', b'northwest', b'norton', b'norway', b'norwegian', b'notebook', b'notebooks', b'nothing', b'notice', b'noticed', b'notices', b'notified', b'notify', b'notion', b'nottingham', b'novels', b'novelty', b'november', b'nowhere', b'nuclear', b'nudist', b'nudity', b'number', b'numbers', b'numeric', b'numerical', b'numerous', b'nursery', b'nurses', b'nursing', b'nutrition', b'nutritional', b'nutten', b'nvidia', b'oakland', b'obesity', b'obituaries', b'object', b'objective', b'objectives', b'objects', b'obligation', b'obligations', b'observation', b'observe', b'observed', b'observer', b'obtain', b'obtained', b'obtaining', b'obvious', b'obviously', b'occasion', b'occasional', b'occasions', b'occupation', b'occupations', b'occupied', b'occurred', b'occurrence', b'occurring', b'occurs', b'october', b'offense', b'offensive', b'offered', b'offering', b'offerings', b'offers', b'office', b'officer', b'officers', b'offices', b'official', b'officially', b'officials', b'offline', b'offset', b'offshore', b'oklahoma', b'oldest', b'oliver', b'olympic', b'olympics', b'olympus', b'omissions', b'ongoing', b'online', b'ontario', b'opened', b'opening', b'openings', b'operate', b'operated', b'operates', b'operating', b'operation', b'operational', b'operations', b'operator', b'operators', b'opinion', b'opinions', b'opponent', b'opponents', b'opportunity', b'opposed', b'opposite', b'opposition', b'optical', b'optics', b'optimal', b'optimize', b'optimum', b'option', b'optional', b'options', b'oracle', b'orange', b'orchestra', b'ordered', b'ordering', b'orders', b'ordinance', b'ordinary', b'oregon', b'organic', b'organised', b'organisms', b'organize', b'organized', b'organizer', b'organizing', b'orgasm', b'oriental', b'orientation', b'oriented', b'origin', b'original', b'originally', b'origins', b'orlando', b'orleans', b'others', b'otherwise', b'ottawa', b'ourselves', b'outcome', b'outcomes', b'outdoor', b'outdoors', b'outlet', b'outline', b'outlined', b'outlook', b'output', b'outputs', b'outreach', b'outside', b'outsourcing', b'outstanding', b'overall', b'overcome', b'overhead', b'overnight', b'overseas', b'overview', b'owners', b'ownership', b'oxford', b'oxygen', b'pacific', b'package', b'packages', b'packaging', b'packard', b'packed', b'packet', b'packets', b'packing', b'painful', b'paintball', b'painted', b'painting', b'paintings', b'pakistan', b'palace', b'palestine', b'palestinian', b'palmer', b'pamela', b'panama', b'panasonic', b'panels', b'panties', b'pantyhose', b'paperback', b'paperbacks', b'papers', b'parade', b'paradise', b'paragraph', b'paragraphs', b'paraguay', b'parallel', b'parameter', b'parameters', b'parcel', b'parent', b'parental', b'parenting', b'parents', b'parish', b'parker', b'parking', b'parliament', b'partial', b'partially', b'participant', b'participate', b'particle', b'particles', b'particular', b'parties', b'partition', b'partly', b'partner', b'partners', b'partnership', b'passage', b'passed', b'passenger', b'passengers', b'passes', b'passing', b'passion', b'passive', b'passport', b'password', b'passwords', b'pastor', b'patches', b'patent', b'patents', b'pathology', b'patient', b'patients', b'patricia', b'patrick', b'patrol', b'pattern', b'patterns', b'pavilion', b'payable', b'payday', b'paying', b'payment', b'payments', b'paypal', b'payroll', b'peaceful', b'pediatric', b'peeing', b'penalties', b'penalty', b'pencil', b'pendant', b'pending', b'penetration', b'penguin', b'peninsula', b'pension', b'pensions', b'pentium', b'people', b'peoples', b'pepper', b'perceived', b'percent', b'percentage', b'perception', b'perfect', b'perfectly', b'perform', b'performance', b'performed', b'performer', b'performing', b'performs', b'perfume', b'perhaps', b'period', b'periodic', b'periods', b'peripheral', b'peripherals', b'permalink', b'permanent', b'permission', b'permissions', b'permit', b'permits', b'permitted', b'persian', b'persistent', b'person', b'personal', b'personality', b'personally', b'personals', b'personnel', b'persons', b'perspective', b'petersburg', b'peterson', b'petite', b'petition', b'petroleum', b'phantom', b'pharmacies', b'pharmacy', b'phases', b'phenomenon', b'phentermine', b'philip', b'philippines', b'philips', b'phillips', b'philosophy', b'phoenix', b'phones', b'photograph', b'photographs', b'photography', b'photos', b'photoshop', b'phrase', b'phrases', b'physical', b'physically', b'physician', b'physicians', b'physics', b'physiology', b'pichunter', b'picked', b'picking', b'pickup', b'picnic', b'picture', b'pictures', b'pieces', b'pierce', b'pierre', b'pillow', b'pioneer', b'pipeline', b'pirates', b'pissing', b'pittsburgh', b'pixels', b'placed', b'placement', b'places', b'placing', b'plains', b'plaintiff', b'planes', b'planet', b'planets', b'planned', b'planner', b'planners', b'planning', b'plants', b'plasma', b'plastic', b'plastics', b'plates', b'platform', b'platforms', b'platinum', b'playback', b'playboy', b'played', b'player', b'players', b'playing', b'playlist', b'playstation', b'pleasant', b'please', b'pleased', b'pleasure', b'pledge', b'plenty', b'plugin', b'plugins', b'plumbing', b'plymouth', b'pocket', b'pockets', b'podcast', b'podcasts', b'poetry', b'pointed', b'pointer', b'pointing', b'points', b'pokemon', b'poland', b'police', b'policies', b'policy', b'polish', b'polished', b'political', b'politicians', b'politics', b'pollution', b'polyester', b'polymer', b'polyphonic', b'pontiac', b'popular', b'popularity', b'population', b'populations', b'porcelain', b'porsche', b'portable', b'portal', b'porter', b'portfolio', b'portion', b'portions', b'portland', b'portrait', b'portraits', b'portsmouth', b'portugal', b'portuguese', b'posing', b'position', b'positioning', b'positions', b'positive', b'possess', b'possession', b'possibility', b'possible', b'possibly', b'postage', b'postal', b'postcard', b'postcards', b'posted', b'poster', b'posters', b'posting', b'postings', b'postposted', b'potato', b'potatoes', b'potential', b'potentially', b'potter', b'pottery', b'poultry', b'pounds', b'poverty', b'powder', b'powell', b'powered', b'powerful', b'powerpoint', b'powers', b'powerseller', b'practical', b'practice', b'practices', b'prague', b'prairie', b'praise', b'prayer', b'prayers', b'preceding', b'precious', b'precise', b'precisely', b'precision', b'predict', b'predicted', b'prediction', b'predictions', b'prefer', b'preference', b'preferences', b'preferred', b'prefers', b'prefix', b'pregnancy', b'pregnant', b'preliminary', b'premier', b'premiere', b'premises', b'premium', b'prepaid', b'preparation', b'prepare', b'prepared', b'preparing', b'prescribed', b'presence', b'present', b'presented', b'presenting', b'presently', b'presents', b'preserve', b'president', b'pressed', b'pressing', b'pressure', b'preston', b'pretty', b'prevent', b'preventing', b'prevention', b'preview', b'previews', b'previous', b'previously', b'priced', b'prices', b'pricing', b'priest', b'primarily', b'primary', b'prince', b'princess', b'princeton', b'principal', b'principle', b'principles', b'printable', b'printed', b'printer', b'printers', b'printing', b'prints', b'priorities', b'priority', b'prison', b'prisoner', b'prisoners', b'privacy', b'private', b'privilege', b'privileges', b'prizes', b'probability', b'probably', b'problem', b'problems', b'procedure', b'procedures', b'proceed', b'proceeding', b'proceedings', b'proceeds', b'process', b'processed', b'processes', b'processing', b'processor', b'processors', b'procurement', b'produce', b'produced', b'producer', b'producers', b'produces', b'producing', b'product', b'production', b'productions', b'productive', b'products', b'profession', b'professor', b'profile', b'profiles', b'profit', b'profits', b'program', b'programme', b'programmer', b'programmers', b'programmes', b'programming', b'programs', b'progress', b'progressive', b'prohibited', b'project', b'projected', b'projection', b'projector', b'projectors', b'projects', b'prominent', b'promise', b'promised', b'promises', b'promising', b'promote', b'promoted', b'promotes', b'promoting', b'promotion', b'promotional', b'promotions', b'prompt', b'promptly', b'propecia', b'proper', b'properly', b'properties', b'property', b'prophet', b'proportion', b'proposal', b'proposals', b'propose', b'proposed', b'proposition', b'proprietary', b'prospect', b'prospective', b'prospects', b'prostate', b'prostores', b'protect', b'protected', b'protecting', b'protection', b'protective', b'protein', b'proteins', b'protest', b'protocol', b'protocols', b'prototype', b'proudly', b'proved', b'proven', b'provide', b'provided', b'providence', b'provider', b'providers', b'provides', b'providing', b'province', b'provinces', b'provincial', b'provision', b'provisions', b'prozac', b'psychiatry', b'psychology', b'public', b'publication', b'publicity', b'publicly', b'publish', b'published', b'publisher', b'publishers', b'publishing', b'pubmed', b'puerto', b'pulled', b'pulling', b'punishment', b'pupils', b'purchase', b'purchased', b'purchases', b'purchasing', b'purple', b'purpose', b'purposes', b'pursuant', b'pursue', b'pursuit', b'pushed', b'pushing', b'putting', b'puzzle', b'puzzles', b'python', b'qualified', b'qualify', b'qualifying', b'qualities', b'quality', b'quantities', b'quantity', b'quantum', b'quarter', b'quarterly', b'quarters', b'quebec', b'queens', b'queensland', b'queries', b'question', b'questions', b'quickly', b'quizzes', b'quotations', b'quoted', b'quotes', b'rabbit', b'rachel', b'racial', b'racing', b'radiation', b'radical', b'radios', b'radius', b'railroad', b'railway', b'rainbow', b'raised', b'raises', b'raising', b'raleigh', b'random', b'rangers', b'ranges', b'ranging', b'ranked', b'ranking', b'rankings', b'rapidly', b'rapids', b'rarely', b'rather', b'rating', b'ratings', b'rational', b'ratios', b'raymond', b'reached', b'reaches', b'reaching', b'reaction', b'reactions', b'reader', b'readers', b'readily', b'reading', b'readings', b'realistic', b'reality', b'realize', b'realized', b'really', b'realtor', b'realtors', b'realty', b'reason', b'reasonable', b'reasonably', b'reasoning', b'reasons', b'rebate', b'rebates', b'rebecca', b'rebound', b'recall', b'receipt', b'receive', b'received', b'receiver', b'receivers', b'receives', b'receiving', b'recent', b'recently', b'reception', b'receptor', b'receptors', b'recipe', b'recipes', b'recipient', b'recipients', b'recognised', b'recognition', b'recognize', b'recognized', b'recommend', b'recommended', b'recommends', b'record', b'recorded', b'recorder', b'recorders', b'recording', b'recordings', b'records', b'recover', b'recovered', b'recovery', b'recreation', b'recruiting', b'recruitment', b'recycling', b'redeem', b'redhead', b'reduce', b'reduced', b'reduces', b'reducing', b'reduction', b'reductions', b'reference', b'referenced', b'references', b'referral', b'referrals', b'referred', b'referring', b'refers', b'refinance', b'refine', b'refined', b'reflect', b'reflected', b'reflection', b'reflections', b'reflects', b'reform', b'reforms', b'refresh', b'refugees', b'refund', b'refurbished', b'refuse', b'refused', b'regard', b'regarded', b'regarding', b'regardless', b'regards', b'reggae', b'regime', b'region', b'regional', b'regions', b'register', b'registered', b'registrar', b'registry', b'regression', b'regular', b'regularly', b'regulated', b'regulation', b'regulations', b'regulatory', b'reject', b'rejected', b'relate', b'related', b'relates', b'relating', b'relation', b'relations', b'relative', b'relatively', b'relatives', b'relaxation', b'release', b'released', b'releases', b'relevance', b'relevant', b'reliability', b'reliable', b'reliance', b'relief', b'religion', b'religions', b'religious', b'reload', b'relocation', b'relying', b'remain', b'remainder', b'remained', b'remaining', b'remains', b'remark', b'remarkable', b'remarks', b'remedies', b'remedy', b'remember', b'remembered', b'remind', b'reminder', b'remote', b'removable', b'removal', b'remove', b'removed', b'removing', b'renaissance', b'render', b'rendered', b'rendering', b'renewable', b'renewal', b'rental', b'rentals', b'rentcom', b'repair', b'repairs', b'repeat', b'repeated', b'replace', b'replaced', b'replacement', b'replacing', b'replica', b'replication', b'replied', b'replies', b'report', b'reported', b'reporter', b'reporters', b'reporting', b'reports', b'repository', b'represent', b'represented', b'represents', b'reprint', b'reprints', b'reproduce', b'reproduced', b'republic', b'republican', b'republicans', b'reputation', b'request', b'requested', b'requesting', b'requests', b'require', b'required', b'requirement', b'requires', b'requiring', b'rescue', b'research', b'researcher', b'researchers', b'reseller', b'reservation', b'reserve', b'reserved', b'reserves', b'reservoir', b'residence', b'resident', b'residential', b'residents', b'resist', b'resistance', b'resistant', b'resolution', b'resolutions', b'resolve', b'resolved', b'resort', b'resorts', b'resource', b'resources', b'respect', b'respected', b'respective', b'respiratory', b'respond', b'responded', b'respondent', b'respondents', b'responding', b'response', b'responses', b'responsible', b'restaurant', b'restaurants', b'restoration', b'restore', b'restored', b'restrict', b'restricted', b'restriction', b'result', b'resulted', b'resulting', b'results', b'resume', b'resumes', b'retail', b'retailer', b'retailers', b'retain', b'retained', b'retention', b'retired', b'retirement', b'retreat', b'retrieval', b'retrieve', b'retrieved', b'return', b'returned', b'returning', b'returns', b'reunion', b'reuters', b'reveal', b'revealed', b'reveals', b'revelation', b'revenge', b'revenue', b'revenues', b'reverse', b'review', b'reviewed', b'reviewer', b'reviewing', b'reviews', b'revised', b'revision', b'revisions', b'revolution', b'reward', b'rewards', b'reynolds', b'rhythm', b'ribbon', b'richard', b'richards', b'richardson', b'richmond', b'riders', b'riding', b'rights', b'ringtone', b'ringtones', b'rising', b'rivers', b'riverside', b'robert', b'roberts', b'robertson', b'robinson', b'robots', b'robust', b'rochester', b'rocket', b'rogers', b'roland', b'rolled', b'roller', b'rolling', b'romance', b'romania', b'romantic', b'ronald', b'roommate', b'roommates', b'roster', b'rotary', b'rotation', b'roughly', b'roulette', b'rounds', b'router', b'routers', b'routes', b'routine', b'routines', b'routing', b'royalty', b'rubber', b'ruling', b'runner', b'running', b'runtime', b'russell', b'russia', b'russian', b'rwanda', b'sacramento', b'sacred', b'sacrifice', b'saddam', b'safari', b'safely', b'safety', b'sailing', b'saints', b'salaries', b'salary', b'salmon', b'salvador', b'salvation', b'sample', b'samples', b'sampling', b'samsung', b'samuel', b'sandra', b'sandwich', b'sapphire', b'satellite', b'satisfied', b'satisfy', b'saturday', b'saturn', b'savage', b'savannah', b'saving', b'savings', b'saying', b'scales', b'scanned', b'scanner', b'scanners', b'scanning', b'scenario', b'scenarios', b'scenes', b'scenic', b'schedule', b'scheduled', b'schedules', b'scheduling', b'schema', b'scheme', b'schemes', b'scholar', b'scholars', b'scholarship', b'school', b'schools', b'science', b'sciences', b'scientific', b'scientist', b'scientists', b'scored', b'scores', b'scoring', b'scotia', b'scotland', b'scottish', b'scratch', b'screen', b'screening', b'screens', b'screensaver', b'screenshot', b'screenshots', b'script', b'scripting', b'scripts', b'scroll', b'sculpture', b'seafood', b'sealed', b'search', b'searchcom', b'searched', b'searches', b'searching', b'season', b'seasonal', b'seasons', b'seating', b'seattle', b'second', b'secondary', b'seconds', b'secret', b'secretariat', b'secretary', b'secrets', b'section', b'sections', b'sector', b'sectors', b'secure', b'secured', b'securely', b'securities', b'security', b'seeing', b'seeker', b'seekers', b'seeking', b'seemed', b'segment', b'segments', b'select', b'selected', b'selecting', b'selection', b'selections', b'selective', b'seller', b'sellers', b'selling', b'semester', b'seminar', b'seminars', b'senate', b'senator', b'senators', b'sender', b'sending', b'senegal', b'senior', b'seniors', b'sensitive', b'sensitivity', b'sensor', b'sensors', b'sentence', b'sentences', b'separate', b'separated', b'separately', b'separation', b'september', b'sequence', b'sequences', b'serbia', b'serial', b'series', b'serious', b'seriously', b'served', b'server', b'servers', b'serves', b'service', b'services', b'serving', b'session', b'sessions', b'setting', b'settings', b'settle', b'settled', b'settlement', b'seventh', b'several', b'severe', b'sewing', b'sexcam', b'sexual', b'sexuality', b'sexually', b'shades', b'shadow', b'shadows', b'shakespeare', b'shakira', b'shanghai', b'shannon', b'shaped', b'shapes', b'shared', b'shares', b'shareware', b'sharing', b'sharon', b'shaved', b'sheets', b'sheffield', b'shelter', b'shemale', b'shemales', b'shepherd', b'sheriff', b'sherman', b'shield', b'shipment', b'shipments', b'shipped', b'shipping', b'shirts', b'shooting', b'shopper', b'shoppercom', b'shoppers', b'shopping', b'shoppingcom', b'shopzilla', b'shortcuts', b'shorter', b'shortly', b'shorts', b'should', b'shoulder', b'showcase', b'showed', b'shower', b'showers', b'showing', b'showtimes', b'shuttle', b'siemens', b'sierra', b'signal', b'signals', b'signature', b'signatures', b'signed', b'significant', b'signing', b'signup', b'silence', b'silent', b'silicon', b'silver', b'similar', b'similarly', b'simple', b'simplified', b'simply', b'simpson', b'simpsons', b'simulation', b'simulations', b'singapore', b'singer', b'singing', b'single', b'singles', b'sister', b'sisters', b'sitemap', b'sitting', b'situated', b'situation', b'situations', b'skating', b'skiing', b'skilled', b'skills', b'skirts', b'sleeping', b'sleeps', b'sleeve', b'slides', b'slideshow', b'slight', b'slightly', b'slovak', b'slovakia', b'slovenia', b'slowly', b'smaller', b'smilies', b'smithsonian', b'smoking', b'smooth', b'snapshot', b'snowboard', b'soccer', b'social', b'societies', b'society', b'sociology', b'socket', b'sodium', b'softball', b'software', b'solaris', b'soldier', b'soldiers', b'solely', b'solomon', b'solution', b'solutions', b'solved', b'solving', b'somalia', b'somebody', b'somehow', b'someone', b'somerset', b'something', b'sometimes', b'somewhat', b'somewhere', b'soonest', b'sorted', b'sought', b'sounds', b'soundtrack', b'source', b'sources', b'southampton', b'southeast', b'southern', b'southwest', b'soviet', b'spaces', b'spanish', b'spanking', b'spatial', b'speaker', b'speakers', b'speaking', b'speaks', b'spears', b'special', b'specialist', b'specialists', b'specialized', b'specially', b'specials', b'specialties', b'specialty', b'species', b'specific', b'specifics', b'specified', b'specifies', b'specify', b'spectacular', b'spectrum', b'speech', b'speeches', b'speeds', b'spelling', b'spencer', b'spending', b'sphere', b'spider', b'spirit', b'spirits', b'spiritual', b'spoken', b'spokesman', b'sponsor', b'sponsored', b'sponsors', b'sponsorship', b'sporting', b'sports', b'spotlight', b'spouse', b'spread', b'spreading', b'spring', b'springer', b'springfield', b'springs', b'sprint', b'spyware', b'square', b'squirt', b'squirting', b'stability', b'stable', b'stadium', b'staffing', b'stages', b'stainless', b'stamps', b'standard', b'standards', b'standing', b'standings', b'stands', b'stanford', b'stanley', b'starring', b'started', b'starter', b'starting', b'starts', b'startup', b'stated', b'statement', b'statements', b'states', b'statewide', b'static', b'stating', b'station', b'stationery', b'stations', b'statistical', b'statistics', b'status', b'statute', b'statutes', b'statutory', b'stayed', b'staying', b'steady', b'steering', b'stephanie', b'stephen', b'stereo', b'sterling', b'steven', b'stevens', b'stewart', b'sticker', b'stickers', b'sticks', b'sticky', b'stockholm', b'stockings', b'stocks', b'stolen', b'stomach', b'stones', b'stopped', b'stopping', b'storage', b'stored', b'stores', b'stories', b'straight', b'strain', b'strand', b'strange', b'stranger', b'strategic', b'strategies', b'strategy', b'stream', b'streaming', b'streams', b'street', b'streets', b'strength', b'strengthen', b'strengths', b'stress', b'stretch', b'strict', b'strictly', b'strike', b'strikes', b'striking', b'string', b'strings', b'stripes', b'strips', b'stroke', b'strong', b'stronger', b'strongly', b'struck', b'struct', b'structural', b'structure', b'structured', b'structures', b'struggle', b'stuart', b'student', b'students', b'studied', b'studies', b'studio', b'studios', b'studying', b'stuffed', b'stunning', b'stupid', b'styles', b'stylish', b'stylus', b'subaru', b'subdivision', b'subject', b'subjects', b'sublime', b'submission', b'submissions', b'submit', b'submitted', b'submitting', b'subscribe', b'subscriber', b'subscribers', b'subsection', b'subsequent', b'subsidiary', b'substance', b'substances', b'substantial', b'substitute', b'subtle', b'suburban', b'succeed', b'success', b'successful', b'sucking', b'sudden', b'suddenly', b'suffer', b'suffered', b'suffering', b'sufficient', b'suggest', b'suggested', b'suggesting', b'suggestion', b'suggestions', b'suggests', b'suicide', b'suitable', b'suited', b'suites', b'sullivan', b'summaries', b'summary', b'summer', b'summit', b'sunday', b'sunglasses', b'sunrise', b'sunset', b'sunshine', b'superb', b'superior', b'supervision', b'supervisor', b'supervisors', b'supplement', b'supplements', b'supplied', b'supplier', b'suppliers', b'supplies', b'supply', b'support', b'supported', b'supporters', b'supporting', b'supports', b'suppose', b'supposed', b'supreme', b'surely', b'surface', b'surfaces', b'surfing', b'surgeon', b'surgeons', b'surgery', b'surgical', b'surname', b'surplus', b'surprise', b'surprised', b'surprising', b'surrey', b'surround', b'surrounded', b'surrounding', b'survey', b'surveys', b'survival', b'survive', b'survivor', b'survivors', b'suspect', b'suspected', b'suspended', b'suspension', b'sussex', b'sustainable', b'sustained', b'suzuki', b'sweden', b'swedish', b'swimming', b'swingers', b'switch', b'switched', b'switches', b'switching', b'switzerland', b'sydney', b'symantec', b'symbol', b'symbols', b'sympathy', b'symphony', b'symposium', b'symptoms', b'syndicate', b'syndication', b'syndrome', b'synopsis', b'syntax', b'synthesis', b'synthetic', b'syracuse', b'system', b'systematic', b'systems', b'tables', b'tablet', b'tablets', b'tackle', b'tactics', b'tagged', b'taiwan', b'taking', b'talent', b'talented', b'talked', b'talking', b'tanzania', b'target', b'targeted', b'targets', b'tariff', b'tattoo', b'taught', b'taxation', b'taylor', b'teacher', b'teachers', b'teaches', b'teaching', b'technical', b'technician', b'technique', b'techniques', b'techno', b'technology', b'teenage', b'telecharger', b'telecom', b'telephone', b'telephony', b'telescope', b'television', b'televisions', b'telling', b'temperature', b'template', b'templates', b'temple', b'temporal', b'temporarily', b'temporary', b'tenant', b'tender', b'tennessee', b'tennis', b'tension', b'terminal', b'terminals', b'termination', b'terminology', b'terrace', b'terrain', b'terrible', b'territories', b'territory', b'terror', b'terrorism', b'terrorist', b'terrorists', b'testament', b'tested', b'testimony', b'testing', b'textbook', b'textbooks', b'textile', b'textiles', b'texture', b'thailand', b'thanks', b'theater', b'theaters', b'theatre', b'thehun', b'themes', b'themselves', b'theology', b'theorem', b'theoretical', b'theories', b'theory', b'therapeutic', b'therapist', b'therapy', b'thereafter', b'thereby', b'therefore', b'thereof', b'thermal', b'thesaurus', b'thesis', b'thickness', b'things', b'thinking', b'thinkpad', b'thinks', b'thirty', b'thomas', b'thompson', b'thomson', b'thongs', b'thorough', b'thoroughly', b'though', b'thought', b'thoughts', b'thousand', b'thousands', b'thread', b'threaded', b'threads', b'threat', b'threatened', b'threatening', b'threats', b'threesome', b'threshold', b'thriller', b'throat', b'through', b'throughout', b'throwing', b'thrown', b'throws', b'thumbnail', b'thumbnails', b'thumbs', b'thumbzilla', b'thunder', b'thursday', b'ticket', b'tickets', b'tiffany', b'tigers', b'timber', b'timeline', b'timely', b'timing', b'timothy', b'tissue', b'titanium', b'titans', b'titled', b'titles', b'titten', b'tobacco', b'tobago', b'toddler', b'together', b'toilet', b'tolerance', b'tomato', b'tomatoes', b'tomorrow', b'tongue', b'tonight', b'toolbar', b'toolbox', b'toolkit', b'topics', b'topless', b'toronto', b'torture', b'toshiba', b'totally', b'totals', b'touched', b'touring', b'tourism', b'tourist', b'tournament', b'tournaments', b'toward', b'towards', b'towers', b'township', b'toyota', b'trackback', b'trackbacks', b'tracked', b'tracker', b'tracking', b'tracks', b'tractor', b'trademark', b'trademarks', b'trader', b'trades', b'trading', b'tradition', b'traditional', b'traditions', b'traffic', b'tragedy', b'trailer', b'trailers', b'trails', b'trained', b'trainer', b'trainers', b'training', b'trains', b'tramadol', b'trance', b'tranny', b'transaction', b'transcript', b'transcripts', b'transexual', b'transfer', b'transferred', b'transfers', b'transform', b'transit', b'transition', b'translate', b'translated', b'translation', b'translator', b'transmit', b'transmitted', b'transparent', b'transport', b'transsexual', b'trauma', b'travel', b'traveler', b'travelers', b'traveling', b'traveller', b'travelling', b'travels', b'travesti', b'travis', b'treasure', b'treasurer', b'treasures', b'treasury', b'treated', b'treating', b'treatment', b'treatments', b'treaty', b'trembl', b'tremendous', b'trends', b'trials', b'triangle', b'tribal', b'tribes', b'tribunal', b'tribune', b'tribute', b'tricks', b'trigger', b'trinidad', b'trinity', b'tripadvisor', b'triple', b'triumph', b'trivia', b'troops', b'tropical', b'trouble', b'trucks', b'trusted', b'trustee', b'trustees', b'trusts', b'trying', b'tsunami', b'tucson', b'tuesday', b'tuition', b'tuning', b'tunisia', b'tunnel', b'turkey', b'turkish', b'turned', b'turner', b'turning', b'turtle', b'tutorial', b'tutorials', b'twelve', b'twenty', b'twinks', b'twisted', b'typical', b'typically', b'typing', b'uganda', b'ukraine', b'ultimate', b'ultimately', b'ultram', b'unable', b'unavailable', b'uncertainty', b'undefined', b'underground', b'underlying', b'understand', b'understood', b'undertake', b'undertaken', b'underwear', b'unexpected', b'unified', b'uniform', b'unions', b'uniprotkb', b'unique', b'united', b'universal', b'universe', b'university', b'unknown', b'unless', b'unlike', b'unlikely', b'unlimited', b'unlock', b'unnecessary', b'unsigned', b'unsubscribe', b'untitled', b'unusual', b'unwrap', b'upcoming', b'update', b'updated', b'updates', b'updating', b'upgrade', b'upgrades', b'upgrading', b'upload', b'uploaded', b'upskirt', b'upskirts', b'urgent', b'uruguay', b'useful', b'username', b'usually', b'utilities', b'utility', b'utilization', b'utilize', b'uzbekistan', b'vacancies', b'vacation', b'vacations', b'vaccine', b'vacuum', b'vagina', b'valentine', b'validation', b'validity', b'valium', b'valley', b'valuable', b'valuation', b'valued', b'values', b'valves', b'vampire', b'vancouver', b'vanilla', b'variable', b'variables', b'variance', b'variation', b'variations', b'varied', b'varies', b'variety', b'various', b'varying', b'vatican', b'vbulletin', b'vector', b'vegetable', b'vegetables', b'vegetarian', b'vegetation', b'vehicle', b'vehicles', b'velocity', b'velvet', b'vendor', b'vendors', b'venezuela', b'venice', b'venture', b'ventures', b'venues', b'verbal', b'verified', b'verify', b'verizon', b'vermont', b'vernon', b'version', b'versions', b'versus', b'vertex', b'vertical', b'verzeichnis', b'vessel', b'vessels', b'veteran', b'veterans', b'veterinary', b'viagra', b'vibrator', b'vibrators', b'victim', b'victims', b'victor', b'victoria', b'victorian', b'victory', b'videos', b'vienna', b'vietnam', b'vietnamese', b'viewed', b'viewer', b'viewers', b'viewing', b'viewpicture', b'viking', b'village', b'villages', b'villas', b'vincent', b'vintage', b'violation', b'violations', b'violence', b'violent', b'violin', b'virgin', b'virginia', b'virtual', b'virtually', b'virtue', b'viruses', b'visibility', b'visible', b'vision', b'visited', b'visiting', b'visitor', b'visitors', b'visits', b'visual', b'vitamin', b'vitamins', b'vocabulary', b'vocals', b'vocational', b'voices', b'volkswagen', b'volleyball', b'voltage', b'volume', b'volumes', b'voluntary', b'volunteer', b'volunteers', b'voters', b'voting', b'voyeur', b'voyeurweb', b'voyuer', b'vulnerable', b'wagner', b'waiting', b'waiver', b'walked', b'walker', b'walking', b'wallace', b'wallet', b'wallpaper', b'wallpapers', b'walnut', b'walter', b'wanted', b'wanting', b'warcraft', b'warehouse', b'warming', b'warned', b'warner', b'warning', b'warnings', b'warrant', b'warranties', b'warranty', b'warren', b'warrior', b'warriors', b'washer', b'washing', b'washington', b'watched', b'watches', b'watching', b'waterproof', b'waters', b'watershed', b'watson', b'wealth', b'weapon', b'weapons', b'wearing', b'weather', b'webcam', b'webcams', b'webcast', b'weblog', b'weblogs', b'webmaster', b'webmasters', b'webpage', b'webshots', b'website', b'websites', b'webster', b'wedding', b'weddings', b'wednesday', b'weekend', b'weekends', b'weekly', b'weight', b'weighted', b'weights', b'welcome', b'welding', b'welfare', b'wellington', b'wellness', b'wesley', b'western', b'westminster', b'whatever', b'wheels', b'whenever', b'whereas', b'wherever', b'whether', b'whilst', b'wholesale', b'wichita', b'wicked', b'widely', b'widescreen', b'widespread', b'wikipedia', b'wilderness', b'wildlife', b'william', b'williams', b'willing', b'willow', b'wilson', b'window', b'windows', b'windsor', b'winner', b'winners', b'winning', b'winston', b'winter', b'wireless', b'wiring', b'wisconsin', b'wisdom', b'wishes', b'wishlist', b'withdrawal', b'within', b'without', b'witness', b'witnesses', b'wizard', b'womens', b'wonder', b'wonderful', b'wondering', b'wooden', b'worcester', b'wordpress', b'worked', b'worker', b'workers', b'workflow', b'workforce', b'working', b'workout', b'workplace', b'workshop', b'workshops', b'workstation', b'worldcat', b'worlds', b'worldsex', b'worldwide', b'worried', b'worship', b'worthy', b'wrapped', b'wrapping', b'wrestling', b'wright', b'writer', b'writers', b'writes', b'writing', b'writings', b'written', b'wyoming', b'yamaha', b'yearly', b'yellow', b'yesterday', b'yields', b'yorkshire', b'younger', b'yourself', b'yugoslavia', b'zambia', b'zealand', b'zimbabwe', b'zoloft', b'zoning', b'zoophilia', b'zshops']\""
      ]
     },
     "execution_count": 78,
     "metadata": {},
     "output_type": "execute_result"
    }
   ],
   "source": [
    "str(useable_words)"
   ]
  },
  {
   "cell_type": "code",
   "execution_count": 20,
   "metadata": {},
   "outputs": [
    {
     "name": "stdout",
     "output_type": "stream",
     "text": [
      "2022-02-19 12:32:49,979 loading file C:\\Users\\Airma\\.flair\\models\\sentiment-en-mix-distillbert_4.pt\n"
     ]
    }
   ],
   "source": [
    "import flair\n",
    "\n",
    "word_sentiment_model = flair.models.TextClassifier.load('en-sentiment')\n",
    "\n",
    "# Initialize lists\n",
    "\n",
    "word_sentiment = []\n",
    "word_confidence = []\n",
    "\n",
    "\n",
    "# Run Sentiment analysis on useable words\n",
    "\n",
    "\n",
    "for sentence in useable_words_30:\n",
    "        if sentence.strip() == \"\":\n",
    "                word_sentiment.append(\"\")\n",
    "                word_confidence.append(\"\")\n",
    "                \n",
    "        else:\n",
    "                sample = flair.data.Sentence(sentence)\n",
    "                word_sentiment_model.predict(sample)\n",
    "                word_sentiment.append(sample.labels[0].value)\n",
    "                word_confidence.append(sample.labels[0].score)\n",
    "\n",
    "# Add Results to Dataframe\n",
    "\n",
    "useable_words_30['sentiment'] = word_sentiment\n",
    "useable_words_30['confidence'] = word_confidence"
   ]
  },
  {
   "cell_type": "code",
   "execution_count": 23,
   "metadata": {},
   "outputs": [
    {
     "data": {
      "text/html": [
       "<div>\n",
       "<style scoped>\n",
       "    .dataframe tbody tr th:only-of-type {\n",
       "        vertical-align: middle;\n",
       "    }\n",
       "\n",
       "    .dataframe tbody tr th {\n",
       "        vertical-align: top;\n",
       "    }\n",
       "\n",
       "    .dataframe thead th {\n",
       "        text-align: right;\n",
       "    }\n",
       "</style>\n",
       "<table border=\"1\" class=\"dataframe\">\n",
       "  <thead>\n",
       "    <tr style=\"text-align: right;\">\n",
       "      <th></th>\n",
       "      <th>0</th>\n",
       "    </tr>\n",
       "  </thead>\n",
       "  <tbody>\n",
       "    <tr>\n",
       "      <th>0</th>\n",
       "      <td>POSITIVE</td>\n",
       "    </tr>\n",
       "    <tr>\n",
       "      <th>1</th>\n",
       "      <td>POSITIVE</td>\n",
       "    </tr>\n",
       "    <tr>\n",
       "      <th>2</th>\n",
       "      <td>POSITIVE</td>\n",
       "    </tr>\n",
       "    <tr>\n",
       "      <th>3</th>\n",
       "      <td>POSITIVE</td>\n",
       "    </tr>\n",
       "    <tr>\n",
       "      <th>4</th>\n",
       "      <td>POSITIVE</td>\n",
       "    </tr>\n",
       "    <tr>\n",
       "      <th>5</th>\n",
       "      <td>NEGATIVE</td>\n",
       "    </tr>\n",
       "    <tr>\n",
       "      <th>6</th>\n",
       "      <td>POSITIVE</td>\n",
       "    </tr>\n",
       "    <tr>\n",
       "      <th>7</th>\n",
       "      <td>POSITIVE</td>\n",
       "    </tr>\n",
       "    <tr>\n",
       "      <th>8</th>\n",
       "      <td>NEGATIVE</td>\n",
       "    </tr>\n",
       "    <tr>\n",
       "      <th>9</th>\n",
       "      <td>POSITIVE</td>\n",
       "    </tr>\n",
       "    <tr>\n",
       "      <th>10</th>\n",
       "      <td>POSITIVE</td>\n",
       "    </tr>\n",
       "    <tr>\n",
       "      <th>11</th>\n",
       "      <td>POSITIVE</td>\n",
       "    </tr>\n",
       "    <tr>\n",
       "      <th>12</th>\n",
       "      <td>POSITIVE</td>\n",
       "    </tr>\n",
       "    <tr>\n",
       "      <th>13</th>\n",
       "      <td></td>\n",
       "    </tr>\n",
       "    <tr>\n",
       "      <th>14</th>\n",
       "      <td>POSITIVE</td>\n",
       "    </tr>\n",
       "    <tr>\n",
       "      <th>15</th>\n",
       "      <td>POSITIVE</td>\n",
       "    </tr>\n",
       "    <tr>\n",
       "      <th>16</th>\n",
       "      <td>POSITIVE</td>\n",
       "    </tr>\n",
       "    <tr>\n",
       "      <th>17</th>\n",
       "      <td>POSITIVE</td>\n",
       "    </tr>\n",
       "    <tr>\n",
       "      <th>18</th>\n",
       "      <td>POSITIVE</td>\n",
       "    </tr>\n",
       "    <tr>\n",
       "      <th>19</th>\n",
       "      <td>POSITIVE</td>\n",
       "    </tr>\n",
       "    <tr>\n",
       "      <th>20</th>\n",
       "      <td>POSITIVE</td>\n",
       "    </tr>\n",
       "    <tr>\n",
       "      <th>21</th>\n",
       "      <td>POSITIVE</td>\n",
       "    </tr>\n",
       "    <tr>\n",
       "      <th>22</th>\n",
       "      <td>POSITIVE</td>\n",
       "    </tr>\n",
       "    <tr>\n",
       "      <th>23</th>\n",
       "      <td>NEGATIVE</td>\n",
       "    </tr>\n",
       "    <tr>\n",
       "      <th>24</th>\n",
       "      <td>POSITIVE</td>\n",
       "    </tr>\n",
       "    <tr>\n",
       "      <th>25</th>\n",
       "      <td>POSITIVE</td>\n",
       "    </tr>\n",
       "    <tr>\n",
       "      <th>26</th>\n",
       "      <td></td>\n",
       "    </tr>\n",
       "    <tr>\n",
       "      <th>27</th>\n",
       "      <td>POSITIVE</td>\n",
       "    </tr>\n",
       "    <tr>\n",
       "      <th>28</th>\n",
       "      <td>POSITIVE</td>\n",
       "    </tr>\n",
       "    <tr>\n",
       "      <th>29</th>\n",
       "      <td>POSITIVE</td>\n",
       "    </tr>\n",
       "  </tbody>\n",
       "</table>\n",
       "</div>"
      ],
      "text/plain": [
       "           0\n",
       "0   POSITIVE\n",
       "1   POSITIVE\n",
       "2   POSITIVE\n",
       "3   POSITIVE\n",
       "4   POSITIVE\n",
       "5   NEGATIVE\n",
       "6   POSITIVE\n",
       "7   POSITIVE\n",
       "8   NEGATIVE\n",
       "9   POSITIVE\n",
       "10  POSITIVE\n",
       "11  POSITIVE\n",
       "12  POSITIVE\n",
       "13          \n",
       "14  POSITIVE\n",
       "15  POSITIVE\n",
       "16  POSITIVE\n",
       "17  POSITIVE\n",
       "18  POSITIVE\n",
       "19  POSITIVE\n",
       "20  POSITIVE\n",
       "21  POSITIVE\n",
       "22  POSITIVE\n",
       "23  NEGATIVE\n",
       "24  POSITIVE\n",
       "25  POSITIVE\n",
       "26          \n",
       "27  POSITIVE\n",
       "28  POSITIVE\n",
       "29  POSITIVE"
      ]
     },
     "execution_count": 23,
     "metadata": {},
     "output_type": "execute_result"
    }
   ],
   "source": [
    "import pandas as pd\n",
    "\n",
    "word_sentiment_df = pd.DataFrame(word_sentiment)\n",
    "word_confidence_df = pd.DataFrame(word_confidence) \n"
   ]
  }
 ],
 "metadata": {
  "interpreter": {
   "hash": "a69dba933c6b8185488e89e7a06f7aca9551140e90f608799b32574f8ad3faa0"
  },
  "kernelspec": {
   "display_name": "Python 3.8.12 ('FinTech')",
   "language": "python",
   "name": "python3"
  },
  "language_info": {
   "codemirror_mode": {
    "name": "ipython",
    "version": 3
   },
   "file_extension": ".py",
   "mimetype": "text/x-python",
   "name": "python",
   "nbconvert_exporter": "python",
   "pygments_lexer": "ipython3",
   "version": "3.8.12"
  },
  "orig_nbformat": 4
 },
 "nbformat": 4,
 "nbformat_minor": 2
}
