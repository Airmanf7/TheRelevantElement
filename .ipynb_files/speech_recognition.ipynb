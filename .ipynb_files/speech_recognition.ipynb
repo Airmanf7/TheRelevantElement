{
 "cells": [
  {
   "cell_type": "markdown",
   "metadata": {},
   "source": [
    "<p>Collecting the baseline elements\n",
    "and pre-processing using named entity recognition"
   ]
  },
  {
   "cell_type": "code",
   "execution_count": 1,
   "metadata": {},
   "outputs": [],
   "source": [
    "# Initial Imports\n",
    "\n",
    "import speech_recognition as sr\n",
    "import pyaudio \n",
    "import time\n",
    "from gtts import gTTS\n",
    "import win32com.client as wincl\n",
    "import flair\n"
   ]
  },
  {
   "cell_type": "code",
   "execution_count": 2,
   "metadata": {},
   "outputs": [
    {
     "data": {
      "text/plain": [
       "1"
      ]
     },
     "execution_count": 2,
     "metadata": {},
     "output_type": "execute_result"
    }
   ],
   "source": []
  },
  {
   "cell_type": "code",
   "execution_count": 2,
   "metadata": {},
   "outputs": [],
   "source": [
    "# Initialize list to capture spoken words\n",
    "show_elements = []"
   ]
  },
  {
   "cell_type": "code",
   "execution_count": 3,
   "metadata": {},
   "outputs": [],
   "source": [
    "# Initialize the speech recognition engine\n",
    "\n",
    "# Set the microphone to listen to the user and convert the audio to text; no set time limit\n",
    "\n",
    "\n",
    "def get_audio():\n",
    "    r = sr.Recognizer()\n",
    "    with sr.Microphone() as source:\n",
    "\n",
    "        audio = r.listen(source)\n",
    "        said = \"\"\n",
    "\n",
    "        try:\n",
    "            said = r.recognize_google(audio)\n",
    "            \n",
    "        except Exception as e:\n",
    "            print(\"Exception:\" + str(e))\n",
    "\n",
    "    return said\n",
    "    \n",
    "element = get_audio()\n"
   ]
  },
  {
   "cell_type": "code",
   "execution_count": 4,
   "metadata": {},
   "outputs": [
    {
     "data": {
      "text/plain": [
       "\"shows that many of its products aren't thriving organically instead is going to increasingly extreme lengths to improve its toxic image and stop users from abandoning its apps in favor of more compelling alternatives\""
      ]
     },
     "execution_count": 4,
     "metadata": {},
     "output_type": "execute_result"
    }
   ],
   "source": [
    "element"
   ]
  },
  {
   "cell_type": "code",
   "execution_count": 5,
   "metadata": {},
   "outputs": [],
   "source": [
    "\n",
    "show_elements.append(element)"
   ]
  },
  {
   "cell_type": "code",
   "execution_count": 6,
   "metadata": {},
   "outputs": [
    {
     "data": {
      "text/plain": [
       "[\"shows that many of its products aren't thriving organically instead is going to increasingly extreme lengths to improve its toxic image and stop users from abandoning its apps in favor of more compelling alternatives\"]"
      ]
     },
     "execution_count": 6,
     "metadata": {},
     "output_type": "execute_result"
    }
   ],
   "source": [
    "show_elements"
   ]
  },
  {
   "cell_type": "code",
   "execution_count": 8,
   "metadata": {},
   "outputs": [],
   "source": [
    "\n",
    "\n"
   ]
  },
  {
   "cell_type": "code",
   "execution_count": 9,
   "metadata": {},
   "outputs": [
    {
     "name": "stdout",
     "output_type": "stream",
     "text": [
      "2022-02-04 13:43:13,199 --------------------------------------------------------------------------------\n",
      "2022-02-04 13:43:13,200 The model key 'ner' now maps to 'https://huggingface.co/flair/ner-english' on the HuggingFace ModelHub\n",
      "2022-02-04 13:43:13,200  - The most current version of the model is automatically downloaded from there.\n",
      "2022-02-04 13:43:13,201  - (you can alternatively manually download the original model at https://nlp.informatik.hu-berlin.de/resources/models/ner/en-ner-conll03-v0.4.pt)\n",
      "2022-02-04 13:43:13,201 --------------------------------------------------------------------------------\n",
      "2022-02-04 13:43:13,576 loading file C:\\Users\\Airma\\.flair\\models\\ner-english\\4f4cdab26f24cb98b732b389e6cebc646c36f54cfd6e0b7d3b90b25656e4262f.8baa8ae8795f4df80b28e7f7b61d788ecbb057d1dc85aacb316f1bd02837a4a4\n",
      "shows that many of its products are n't thriving organically instead is going to increasingly extreme lengths to improve its toxic image and stop users from abandoning its apps in favor of more compelling alternatives\n"
     ]
    }
   ],
   "source": [
    "\n"
   ]
  }
 ],
 "metadata": {
  "interpreter": {
   "hash": "a69dba933c6b8185488e89e7a06f7aca9551140e90f608799b32574f8ad3faa0"
  },
  "kernelspec": {
   "display_name": "Python 3.8.12 64-bit ('FinTech': conda)",
   "language": "python",
   "name": "python3"
  },
  "language_info": {
   "codemirror_mode": {
    "name": "ipython",
    "version": 3
   },
   "file_extension": ".py",
   "mimetype": "text/x-python",
   "name": "python",
   "nbconvert_exporter": "python",
   "pygments_lexer": "ipython3",
   "version": "3.8.12"
  },
  "orig_nbformat": 4
 },
 "nbformat": 4,
 "nbformat_minor": 2
}
