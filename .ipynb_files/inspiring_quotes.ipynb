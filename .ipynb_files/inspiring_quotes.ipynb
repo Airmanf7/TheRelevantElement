{
 "cells": [
  {
   "cell_type": "code",
   "execution_count": 1,
   "metadata": {},
   "outputs": [],
   "source": [
    "import requests\n",
    "import json\n",
    "import pandas as pd"
   ]
  },
  {
   "cell_type": "code",
   "execution_count": 2,
   "metadata": {},
   "outputs": [],
   "source": [
    "\n",
    "url = \"https://inspiring-quotes.p.rapidapi.com/multiple\"\n",
    "\n",
    "querystring = {\"count\":\"50\"}\n",
    "\n",
    "headers = {\n",
    "    'x-rapidapi-host': \"inspiring-quotes.p.rapidapi.com\",\n",
    "    'x-rapidapi-key': \"2075772920msh129b70e8d2ba5a2p1048b0jsn1be03d3f1b6d\"\n",
    "    }\n",
    "\n",
    "response = requests.request(\"GET\", url, headers=headers, params=querystring)\n",
    "\n",
    "results = (response.text)"
   ]
  },
  {
   "cell_type": "code",
   "execution_count": 42,
   "metadata": {},
   "outputs": [],
   "source": []
  },
  {
   "cell_type": "code",
   "execution_count": 4,
   "metadata": {},
   "outputs": [
    {
     "data": {
      "text/plain": [
       "'{\"count\":50,\"data\":[{\"author\":\"Walt Disney\",\"quote\":\"If you can dream it, you can do it.\"},{\"author\":\"Dr. Napoleon Hill, author of Think and Grow Rich.\",\"quote\":\"Whatever the mind can conceive and believe, the mind can achieve.\"},{\"author\":\"Cynthia Ozick\",\"quote\":\"To want to be what one can be is purpose in life.\"},{\"author\":\"Anne Lamott\",\"quote\":\"Joy is the best makeup.\"},{\"author\":\"Catherine Pulsifer\",\"quote\":\"You can adopt the attitude there is nothing you can do, or you can see the challenge as your call to action.\"},{\"author\":\"Cecil B. DeMille\",\"quote\":\"The person who makes a success of living is the one who see his goal steadily and aims for it unswervingly. That is dedication.\"},{\"author\":\"Byron Pulsifer\",\"quote\":\"Your destiny isn\\'t just fate; it is how you use your own developed abilities to get what you want.\"},{\"author\":\"John Kennedy\",\"quote\":\"Let us resolve to be masters, not the victims, of our history, controlling our own destiny without giving way to blind suspicions and emotions.\"},{\"author\":\"Byron Pulsifer\",\"quote\":\"To be thoughtful and kind only takes a few seconds compared to the timeless hurt caused by one rude gesture.\"},{\"author\":\"Carlyle\",\"quote\":\"Silence is deep as Eternity, Speech is shallow as Time.\"},{\"author\":\"Plato\",\"quote\":\"Bodily exercise, when compulsory, does no harm to the body; but knowledge which is acquired under compulsion obtains no hold on the mind.\"},{\"author\":\"Epictetus\",\"quote\":\"There is only one way to happiness and that is to cease worrying about things which are beyond the power of our will.\"},{\"author\":\"Roger H. Lincoln\",\"quote\":\"There are two rules for success. 1) Never tell everything you know.\"},{\"author\":\"Satya Nadella\",\"quote\":\"Our industry does not respect tradition. What it respects is innovation.\"},{\"author\":\"Gordon Hinckley\",\"quote\":\"Our kindness may be the most persuasive argument for that which we believe.\"},{\"author\":\"Confucius\",\"quote\":\"Everything has beauty, but not everyone sees it.\"},{\"author\":\"Goethe\",\"quote\":\"Just trust yourself, then you will know how to live.\"},{\"author\":\"Steven Wright\",\"quote\":\"Ever notice how it’s a penny for your thoughts, yet you put in your two-cents? Someone is making a penny on the deal.\"},{\"author\":\"Vance Hayner\",\"quote\":\"The vision must be followed by the venture. It is not enough to stare up the steps – we must step up the stairs.\"},{\"author\":\"Chinese Proverb\",\"quote\":\"The loftiest towers rise from the ground.\"},{\"author\":\"someone\",\"quote\":\"Courage is the discovery that you may not win, and trying when you know you can lose.\"},{\"author\":\"Marcel Proust\",\"quote\":\"Let us be grateful to people who make us happy; they are the charming gardeners who make our souls blossom.\"},{\"author\":\"Johann Wolfgang von Goethe\",\"quote\":\"The really unhappy person is the one who leaves undone what they can do, and starts doing what they don\\'t understand; no wonder they come to grief.\"},{\"author\":\"Chinese proverb\",\"quote\":\"People who say it cannot be done should not interrupt those who are doing it.\"},{\"author\":\"Bernadette Devlin\",\"quote\":\"Yesterday I dared to struggle. Today I dare to win.\"},{\"author\":\"Tony Robbins\",\"quote\":\"Life is a gift, and it offers us the privilege, opportunity, and responsibility to give something back by becoming more\"},{\"author\":\"Pema Chodron\",\"quote\":\"Nothing ever goes away until it has taught us what we need to know.\"},{\"author\":\"Mabel Newcomber\",\"quote\":\"It is more important to know where you are going than to get there quickly. Do not mistake activity for achievement.\"},{\"author\":\"African proverb\",\"quote\":\"When deeds speak, words are nothing.\"},{\"author\":\"Confucius\",\"quote\":\"The superior man acts before he speaks, and afterwards speaks according to his action.\"},{\"author\":\"Pema Chodron\",\"quote\":\"To be fully alive, fully human, and completely awake is to be continually thrown out of the nest.\"},{\"author\":\"Richard Whately\",\"quote\":\"Lose an hour in the morning, and you will spend all day looking for it.\"},{\"author\":\"Aristotle\",\"quote\":\"After a certain point, money is meaningless. It ceases to be the goal. The game is what counts.\"},{\"author\":\"Tom Jackson\",\"quote\":\"Sometimes the cards we are dealt are not always fair. However you must keep smiling and moving on.\"},{\"author\":\"Dalai Lama\",\"quote\":\"With realization of ones own potential and self-confidence in ones ability, one can build a better world.\"},{\"author\":\"Guy Kawasaki, founder of AllTop\",\"quote\":\"Ideas are easy. Implementation is hard.\"},{\"author\":\"Eknath Easwaran\",\"quote\":\"Through meditation and by giving full attention to one thing at a time, we can learn to direct attention where we choose.\"},{\"author\":\"Og Mandino\",\"quote\":\"Always do your best. What you plant now, you will harvest later.\"},{\"author\":\"Marcus Aurelius\",\"quote\":\"Waste no more time arguing about what a good man should be. Be one.\"},{\"author\":\"Leonardo da Vinci\",\"quote\":\"In rivers, the water that you touch is the last of what has passed and the first of that which comes; so with present time.\"},{\"author\":\"Napoleon Hill\",\"quote\":\"The ladder of success is never crowded at the top.\"},{\"author\":\"Robert Orben\",\"quote\":\"Every day I get up and look through the Forbes list of the richest people in America. If I’m not there, I go to work.\"},{\"quote\":\"If you want to lift yourself up, lift up someone else.\",\"author\":\"Booker T. Washington\"},{\"author\":\"Bruce Lee, actor and martial arts instructor\",\"quote\":\"The successful warrior is the average man, with laser-like focus.\"},{\"author\":\"Janis Joplin\",\"quote\":\"Don\\'t compromise yourself. You are all you\\'ve got.\"},{\"quote\":\"It is not what you do for your children, but what you have taught them to do for themselves, that will make them successful human beings.\",\"author\":\"Ann Landers\"},{\"author\":\"sail, not tie at anchor\",\"quote\":\"To reach a port, we must sail\"},{\"author\":\"Thomas Edison\",\"quote\":\"I failed my way to success.\"},{\"author\":\"Richard Bach\",\"quote\":\"You are never given a wish without also being given the power to make it come true. You may have to work for it, however.\"},{\"author\":\"Barack Obama\",\"quote\":\"Focusing your life solely on making a buck shows a poverty of ambition. It asks too little of yourself. And it will leave you unfulfilled.\"}]}'"
      ]
     },
     "execution_count": 4,
     "metadata": {},
     "output_type": "execute_result"
    }
   ],
   "source": [
    "results"
   ]
  },
  {
   "cell_type": "code",
   "execution_count": 47,
   "metadata": {},
   "outputs": [
    {
     "data": {
      "text/plain": [
       "{'count': 50,\n",
       " 'data': [{'author': 'Ralph Emerson',\n",
       "   'quote': 'Life is a succession of lessons, which must be lived to be understood.'},\n",
       "  {'author': 'Albert Einstein',\n",
       "   'quote': 'A man should look for what is, and not for what he thinks should be.'},\n",
       "  {'author': 'Rene Descartes',\n",
       "   'quote': 'Divide each difficulty into as many parts as is feasible and necessary to resolve it.'},\n",
       "  {'author': 'African proverb',\n",
       "   'quote': 'When deeds speak, words are nothing.'},\n",
       "  {'author': 'Mary Kay Ash',\n",
       "   'quote': \"For every failure, there's an alternative course of action. You just have to find it. When you come to a roadblock, take a detour.\"},\n",
       "  {'author': 'Billy Wilder',\n",
       "   'quote': 'Trust your own instinct. Your mistakes might as well be your own, instead of someone elses.'},\n",
       "  {'author': 'Dr. David M. Burns',\n",
       "   'quote': 'Aim for success, not perfection. Never give up your right to be wrong, because then you will lose the ability to learn new things and move forward with your life.'},\n",
       "  {'author': 'Jacob Braude',\n",
       "   'quote': \"Consider how hard it is to change yourself and you'll understand what little chance you have in trying to change others.\"},\n",
       "  {'author': 'someone',\n",
       "   'quote': \"Don't wait for people to be friendly. Show them how.\"},\n",
       "  {'author': 'Confucius',\n",
       "   'quote': 'Learning without reflection is a waste, reflection without learning is dangerous.'},\n",
       "  {'author': 'Cher Wang, CEO of HTC',\n",
       "   'quote': 'It takes humility to realize that we don’t know everything, not to rest on our laurels and know that we must keep learning and observing. If we don’t, we can be sure some startup will be there to take our place.'},\n",
       "  {'author': 'Albert Camus',\n",
       "   'quote': 'All men have a sweetness in their life. That is what helps them go on. It is towards that they turn when they feel too worn out.'},\n",
       "  {'author': 'Edwin Chapin',\n",
       "   'quote': 'Every action of our lives touches on some chord that will vibrate in eternity.'},\n",
       "  {'author': 'Bertrand Russell',\n",
       "   'quote': 'The whole problem with the world is that fools and fanatics are always so certain of themselves, but wiser people so full of doubts.'},\n",
       "  {'author': 'Winston Churchill',\n",
       "   'quote': 'Short words are best and the old words when short are best of all.'},\n",
       "  {'author': 'Albert Einstein',\n",
       "   'quote': 'Logic will get you from A to B. Imagination will take you everywhere.'},\n",
       "  {'author': 'Japanese proverb',\n",
       "   'quote': 'Vision without action is a daydream. Action without vision is a nightmare.'},\n",
       "  {'author': 'Henry David Thoreau',\n",
       "   'quote': 'Live in each season as it passes; breathe the air, drink the drink, taste the fruit, and resign yourself to the influences of each.'},\n",
       "  {'author': 'Wayne Dyer',\n",
       "   'quote': 'Everything you are against weakens you. Everything you are for empowers you.'},\n",
       "  {'author': 'someone',\n",
       "   'quote': 'The real measure of your wealth is how much youd be worth if you lost all your money.'},\n",
       "  {'author': 'Lord Herbert', 'quote': 'The shortest answer is doing.'},\n",
       "  {'author': 'someone',\n",
       "   'quote': 'The day is already blessed, find peace within it.'},\n",
       "  {'author': 'Napoleon Hill',\n",
       "   'quote': 'There are no limitations to the mind except those we acknowledge.'},\n",
       "  {'quote': 'Eighty percent of success is showing up.',\n",
       "   'author': 'Woody Allen'},\n",
       "  {'author': 'Maureen Dowd',\n",
       "   'quote': 'The minute you settle for less than you deserve, you get even less than you settled for.'},\n",
       "  {'author': 'Epictetus',\n",
       "   'quote': 'Men are disturbed not by things, but by the view which they take of them.'},\n",
       "  {'author': 'Pierre Abelard',\n",
       "   'quote': 'The beginning of wisdom is found in doubting; by doubting we come to the question, and by seeking we may come upon the truth.'},\n",
       "  {'author': 'Wayne Dyer',\n",
       "   'quote': 'Real magic in relationships means an absence of judgement of others.'},\n",
       "  {'author': 'Voltaire',\n",
       "   'quote': 'Meditation is the dissolution of thoughts in eternal awareness or Pure consciousness without objectification, knowing without thinking, merging finitude in infinity.'},\n",
       "  {'author': 'Lisa Alther',\n",
       "   'quote': \"Thats the risk you take if you change: that people you've been involved with won't like the new you. But other people who do will come along.\"},\n",
       "  {'author': 'Lou Holtz',\n",
       "   'quote': \"Ability is what you're capable of doing. Motivation determines what you do.Attitude determines how well you do it.\"},\n",
       "  {'author': 'Carl Jung',\n",
       "   'quote': 'Your vision will become clear only when you look into your heart. Who looks outside, dreams. Who looks inside, awakens.'},\n",
       "  {'author': 'Ralph Emerson',\n",
       "   'quote': 'It is one of the blessings of old friends that you can afford to be stupid with them.'},\n",
       "  {'author': 'Confucius',\n",
       "   'quote': 'Reviewing what you have learned and learning anew, you are fit to be a teacher.'},\n",
       "  {'quote': 'Definiteness of purpose is the starting point of all achievement.',\n",
       "   'author': 'W. Clement Stone'},\n",
       "  {'author': 'Dr. Napoleon Hill, author of Think and Grow Rich.',\n",
       "   'quote': 'Whatever the mind can conceive and believe, the mind can achieve.'},\n",
       "  {'author': 'Bernard Shaw',\n",
       "   'quote': \"We don't stop playing because we grow old; we grow old because we stop playing.\"},\n",
       "  {'author': 'Wayne Dyer',\n",
       "   'quote': 'If you change the way you look at things, the things you look at change.'},\n",
       "  {'quote': 'Change your thoughts and you change your world.',\n",
       "   'author': 'Norman Vincent Peale'},\n",
       "  {'author': 'Confucius',\n",
       "   'quote': 'Choose a job you love, and you will never have to work a day in your life.'},\n",
       "  {'author': 'John Marshall',\n",
       "   'quote': 'To listen well is as powerful a means of communication and influence as to talk well.'},\n",
       "  {'author': 'Robert Stevenson',\n",
       "   'quote': \"Don't judge each day by the harvest you reap but by the seeds you plant.\"},\n",
       "  {'author': 'Charles A. Lindbergh',\n",
       "   'quote': 'Life a culmination of the past, an awareness of the present, an indication of the future beyond knowledge, the quality that gives a touch of divinity to matter.'},\n",
       "  {'author': 'Lao Tzu',\n",
       "   'quote': 'The journey of a thousand miles begins with one step.'},\n",
       "  {'author': 'Timothy Ferriss, author of The 4-Hour Work Week',\n",
       "   'quote': 'For all of the most important things, the timing always sucks. Waiting for a good time to quit your job? The stars will never align and the traffic lights of life will never all be green at the same time. The universe doesn’t conspire against you, but it doesn’t go out of its way to line up the pins either. Conditions are never perfect. Someday is a disease that will take your dreams to the grave with you. Pro and con lists are just as bad. If it’s important to you and you want to do it eventually, just do it and correct course along the way.'},\n",
       "  {'author': 'Ralph Emerson',\n",
       "   'quote': 'Self-trust is the first secret of success.'},\n",
       "  {'author': 'C. H. Parkhurst',\n",
       "   'quote': 'Purpose is what gives life a meaning.'},\n",
       "  {'author': 'Elisabeth Kubler-Ross',\n",
       "   'quote': 'I believe that we are solely responsible for our choices, and we have to accept the consequences of every deed, word, and thought throughout our lifetime.'},\n",
       "  {'author': 'Michel de Montaigne',\n",
       "   'quote': 'I care not so much what I am to others as what I am to myself. I will be rich by myself, and not by borrowing.'},\n",
       "  {'author': 'Bruce Lee',\n",
       "   'quote': 'The less effort, the faster and more powerful you will be.'}]}"
      ]
     },
     "execution_count": 47,
     "metadata": {},
     "output_type": "execute_result"
    }
   ],
   "source": [
    "results\n"
   ]
  }
 ],
 "metadata": {
  "interpreter": {
   "hash": "a69dba933c6b8185488e89e7a06f7aca9551140e90f608799b32574f8ad3faa0"
  },
  "kernelspec": {
   "display_name": "Python 3.8.12 64-bit ('FinTech': conda)",
   "language": "python",
   "name": "python3"
  },
  "language_info": {
   "codemirror_mode": {
    "name": "ipython",
    "version": 3
   },
   "file_extension": ".py",
   "mimetype": "text/x-python",
   "name": "python",
   "nbconvert_exporter": "python",
   "pygments_lexer": "ipython3",
   "version": "3.8.12"
  },
  "orig_nbformat": 4
 },
 "nbformat": 4,
 "nbformat_minor": 2
}
