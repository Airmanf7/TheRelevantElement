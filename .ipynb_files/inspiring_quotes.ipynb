{
 "cells": [
  {
   "cell_type": "code",
   "execution_count": 1,
   "metadata": {},
   "outputs": [],
   "source": [
    "import requests\n",
    "import json\n",
    "import pandas as pd"
   ]
  },
  {
   "cell_type": "code",
   "execution_count": 2,
   "metadata": {},
   "outputs": [],
   "source": [
    "\n",
    "url = \"https://inspiring-quotes.p.rapidapi.com/multiple\"\n",
    "\n",
    "querystring = {\"count\":\"50\"}\n",
    "\n",
    "headers = {\n",
    "    'x-rapidapi-host': \"inspiring-quotes.p.rapidapi.com\",\n",
    "    'x-rapidapi-key': \"2075772920msh129b70e8d2ba5a2p1048b0jsn1be03d3f1b6d\"\n",
    "    }\n",
    "\n",
    "response = requests.request(\"GET\", url, headers=headers, params=querystring)\n",
    "\n",
    "results = (response.text)"
   ]
  },
  {
   "cell_type": "code",
   "execution_count": 42,
   "metadata": {},
   "outputs": [],
   "source": []
  },
  {
   "cell_type": "code",
   "execution_count": 3,
   "metadata": {},
   "outputs": [
    {
     "data": {
      "text/plain": [
       "'{\"count\":50,\"data\":[{\"author\":\"Drew Houston, founder of Dropbox\",\"quote\":\"Don’t worry about failure; you only have to be right once.\"},{\"author\":\"Sai Baba\",\"quote\":\"All action results from thought, so it is thoughts that matter.\"},{\"author\":\"Helen Keller\",\"quote\":\"No pessimist ever discovered the secrets of the stars, or sailed to an uncharted land, or opened a new heaven to the human spirit.\"},{\"author\":\"Thomas Jefferson\",\"quote\":\"I\\'m a great believer in luck and I find the harder I work, the more I have of it.\"},{\"author\":\"don’t compete.”\",\"quote\":\"If you don’t have a competitive advantage\"},{\"author\":\"J. Willard Marriott\",\"quote\":\"Good timber does not grow with ease; the stronger the wind, the stronger the trees.\"},{\"author\":\"Madame de Stael\",\"quote\":\"Wit lies in recognizing the resemblance among things which differ and the difference between things which are alike.\"},{\"author\":\"Ralph Waldo Emerson\",\"quote\":\"A hero is no braver than an ordinary man, but he is braver five minutes longer.\"},{\"author\":\"Caroline Myss\",\"quote\":\"You cannot change anything in your life with intention alone, which can become a watered-down, occasional hope that you\\'ll get to tomorrow. Intention without action is useless.\"},{\"author\":\"Richard Bach\",\"quote\":\"Every person, all the events of your life are there because you have drawn them there. What you choose to do with them is up to you.\"},{\"author\":\"Benjamin Spock\",\"quote\":\"Trust yourself. You know more than you think you do.\"},{\"author\":\"Tony Robbins\",\"quote\":\"We can change our lives. We can do, have, and be exactly what we wish.\"},{\"author\":\"Thich Nhat Hanh\",\"quote\":\"If we are not fully ourselves, truly in the present moment, we miss everything.\"},{\"author\":\"Sophocles\",\"quote\":\"A short saying often contains much wisdom.\"},{\"author\":\"Benjamin Disraeli\",\"quote\":\"The greatest good you can do for another is not just to share your riches but to reveal to him his own.\"},{\"author\":\"Kin Hubbard\",\"quote\":\"You won\\'t skid if you stay in a rut.\"},{\"author\":\"Bruce Lee\",\"quote\":\"Always be yourself, express yourself, have faith in yourself, do not go out and look for a successful personality and duplicate it.\"},{\"author\":\"Ralph Emerson\",\"quote\":\"If the stars should appear but one night every thousand years how man would marvel and adore.\"},{\"author\":\"Ralph Emerson\",\"quote\":\"Life is a progress, and not a station.\"},{\"author\":\"Mother Teresa\",\"quote\":\"If you can\\'t feed a hundred people, then feed just one.\"},{\"author\":\"Byron Pulsifer\",\"quote\":\"Everyone can taste success when the going is easy, but few know how to taste victory when times get tough.\"},{\"author\":\"Vaclav Havel\",\"quote\":\"Work for something because it is good, not just because it stands a chance to succeed.\"},{\"author\":\"Michael Vance\",\"quote\":\"Life is not measured by the breaths you take, but by its breathtaking moments.\"},{\"author\":\"John Petit-Senn\",\"quote\":\"Not what we have but what we enjoy constitutes our abundance.\"},{\"author\":\"Confucius\",\"quote\":\"The more you know yourself, the more you forgive yourself.\"},{\"author\":\"Sun Tzu\",\"quote\":\"Can you imagine what I would do if I could do all I can?\"},{\"author\":\"Oliver Holmes\",\"quote\":\"Love is the master key that opens the gates of happiness.\"},{\"author\":\"Zig Ziglar, author and motivational speaker\",\"quote\":\"Statistics suggest that when customers complain, business owners and managers ought to get excited about it. The complaining customer represents a huge opportunity for more business.\"},{\"author\":\"Cher Wang, CEO of HTC\",\"quote\":\"It takes humility to realize that we don’t know everything, not to rest on our laurels and know that we must keep learning and observing. If we don’t, we can be sure some startup will be there to take our place.\"},{\"author\":\"Lao Tzu\",\"quote\":\"Silence is a source of great strength.\"},{\"author\":\"Karl (maybe Groucho) Marx\",\"quote\":\"Catch a man a fish, and you can sell it to him. Teach a man to fish, and you ruin a wonderful business opportunity.\"},{\"author\":\"Jessamyn West\",\"quote\":\"It is very easy to forgive others their mistakes; it takes more grit to forgive them for having witnessed your own.\"},{\"quote\":\"First, have a definite, clear practical ideal; a goal, an objective. Second, have the necessary means to achieve your ends; wisdom, money, materials, and methods. Third, adjust all your means to that end.\",\"author\":\"Aristotle\"},{\"author\":\"Lao Tzu\",\"quote\":\"He who knows, does not speak. He who speaks, does not know.\"},{\"author\":\"Melody Beattie\",\"quote\":\"Gratitude makes sense of our past, brings peace for today, and creates a vision for tomorrow.\"},{\"author\":\"Solon\",\"quote\":\"In all things that you do, consider the end.\"},{\"author\":\"someone\",\"quote\":\"Don\\'t let what you can\\'t do stop you from doing what you can do.\"},{\"author\":\"Elizabeth Kenny\",\"quote\":\"He who angers you conquers you.\"},{\"author\":\"Henry Ford\",\"quote\":\"Quality means doing it right when no one is looking.\"},{\"author\":\"Aristotle\",\"quote\":\"In all things of nature there is something of the marvellous.\"},{\"quote\":\"Happiness is not something readymade.  It comes from your own actions.\",\"author\":\"Dalai Lama\"},{\"author\":\"Albert Einstein\",\"quote\":\"A man should look for what is, and not for what he thinks should be.\"},{\"author\":\"someone\",\"quote\":\"Don\\'t miss all the beautiful colors of the rainbow looking for that pot of gold.\"},{\"author\":\"George Burns\",\"quote\":\"I honestly think it is better to be a failure at something you love than to be a success at something you hate.\"},{\"author\":\"Agatha Christie\",\"quote\":\"The secret of getting ahead is getting started.\"},{\"author\":\"John Lubbock\",\"quote\":\"A day of worry is more exhausting than a day of work.\"},{\"author\":\"John Lennon\",\"quote\":\"You may say Im a dreamer, but Im not the only one, I hope someday you will join us, and the world will live as one.\"},{\"author\":\"General Douglas MacArthur\",\"quote\":\"A general is just as good or just as bad as the troops under his command make him.\"},{\"author\":\"Albert Einstein\",\"quote\":\"Once we accept our limits, we go beyond them.\"},{\"author\":\"Shakti Gawain\",\"quote\":\"The more light you allow within you, the brighter the world you live in will be.\"}]}'"
      ]
     },
     "execution_count": 3,
     "metadata": {},
     "output_type": "execute_result"
    }
   ],
   "source": [
    "results"
   ]
  },
  {
   "cell_type": "code",
   "execution_count": 47,
   "metadata": {},
   "outputs": [
    {
     "data": {
      "text/plain": [
       "{'count': 50,\n",
       " 'data': [{'author': 'Ralph Emerson',\n",
       "   'quote': 'Life is a succession of lessons, which must be lived to be understood.'},\n",
       "  {'author': 'Albert Einstein',\n",
       "   'quote': 'A man should look for what is, and not for what he thinks should be.'},\n",
       "  {'author': 'Rene Descartes',\n",
       "   'quote': 'Divide each difficulty into as many parts as is feasible and necessary to resolve it.'},\n",
       "  {'author': 'African proverb',\n",
       "   'quote': 'When deeds speak, words are nothing.'},\n",
       "  {'author': 'Mary Kay Ash',\n",
       "   'quote': \"For every failure, there's an alternative course of action. You just have to find it. When you come to a roadblock, take a detour.\"},\n",
       "  {'author': 'Billy Wilder',\n",
       "   'quote': 'Trust your own instinct. Your mistakes might as well be your own, instead of someone elses.'},\n",
       "  {'author': 'Dr. David M. Burns',\n",
       "   'quote': 'Aim for success, not perfection. Never give up your right to be wrong, because then you will lose the ability to learn new things and move forward with your life.'},\n",
       "  {'author': 'Jacob Braude',\n",
       "   'quote': \"Consider how hard it is to change yourself and you'll understand what little chance you have in trying to change others.\"},\n",
       "  {'author': 'someone',\n",
       "   'quote': \"Don't wait for people to be friendly. Show them how.\"},\n",
       "  {'author': 'Confucius',\n",
       "   'quote': 'Learning without reflection is a waste, reflection without learning is dangerous.'},\n",
       "  {'author': 'Cher Wang, CEO of HTC',\n",
       "   'quote': 'It takes humility to realize that we don’t know everything, not to rest on our laurels and know that we must keep learning and observing. If we don’t, we can be sure some startup will be there to take our place.'},\n",
       "  {'author': 'Albert Camus',\n",
       "   'quote': 'All men have a sweetness in their life. That is what helps them go on. It is towards that they turn when they feel too worn out.'},\n",
       "  {'author': 'Edwin Chapin',\n",
       "   'quote': 'Every action of our lives touches on some chord that will vibrate in eternity.'},\n",
       "  {'author': 'Bertrand Russell',\n",
       "   'quote': 'The whole problem with the world is that fools and fanatics are always so certain of themselves, but wiser people so full of doubts.'},\n",
       "  {'author': 'Winston Churchill',\n",
       "   'quote': 'Short words are best and the old words when short are best of all.'},\n",
       "  {'author': 'Albert Einstein',\n",
       "   'quote': 'Logic will get you from A to B. Imagination will take you everywhere.'},\n",
       "  {'author': 'Japanese proverb',\n",
       "   'quote': 'Vision without action is a daydream. Action without vision is a nightmare.'},\n",
       "  {'author': 'Henry David Thoreau',\n",
       "   'quote': 'Live in each season as it passes; breathe the air, drink the drink, taste the fruit, and resign yourself to the influences of each.'},\n",
       "  {'author': 'Wayne Dyer',\n",
       "   'quote': 'Everything you are against weakens you. Everything you are for empowers you.'},\n",
       "  {'author': 'someone',\n",
       "   'quote': 'The real measure of your wealth is how much youd be worth if you lost all your money.'},\n",
       "  {'author': 'Lord Herbert', 'quote': 'The shortest answer is doing.'},\n",
       "  {'author': 'someone',\n",
       "   'quote': 'The day is already blessed, find peace within it.'},\n",
       "  {'author': 'Napoleon Hill',\n",
       "   'quote': 'There are no limitations to the mind except those we acknowledge.'},\n",
       "  {'quote': 'Eighty percent of success is showing up.',\n",
       "   'author': 'Woody Allen'},\n",
       "  {'author': 'Maureen Dowd',\n",
       "   'quote': 'The minute you settle for less than you deserve, you get even less than you settled for.'},\n",
       "  {'author': 'Epictetus',\n",
       "   'quote': 'Men are disturbed not by things, but by the view which they take of them.'},\n",
       "  {'author': 'Pierre Abelard',\n",
       "   'quote': 'The beginning of wisdom is found in doubting; by doubting we come to the question, and by seeking we may come upon the truth.'},\n",
       "  {'author': 'Wayne Dyer',\n",
       "   'quote': 'Real magic in relationships means an absence of judgement of others.'},\n",
       "  {'author': 'Voltaire',\n",
       "   'quote': 'Meditation is the dissolution of thoughts in eternal awareness or Pure consciousness without objectification, knowing without thinking, merging finitude in infinity.'},\n",
       "  {'author': 'Lisa Alther',\n",
       "   'quote': \"Thats the risk you take if you change: that people you've been involved with won't like the new you. But other people who do will come along.\"},\n",
       "  {'author': 'Lou Holtz',\n",
       "   'quote': \"Ability is what you're capable of doing. Motivation determines what you do.Attitude determines how well you do it.\"},\n",
       "  {'author': 'Carl Jung',\n",
       "   'quote': 'Your vision will become clear only when you look into your heart. Who looks outside, dreams. Who looks inside, awakens.'},\n",
       "  {'author': 'Ralph Emerson',\n",
       "   'quote': 'It is one of the blessings of old friends that you can afford to be stupid with them.'},\n",
       "  {'author': 'Confucius',\n",
       "   'quote': 'Reviewing what you have learned and learning anew, you are fit to be a teacher.'},\n",
       "  {'quote': 'Definiteness of purpose is the starting point of all achievement.',\n",
       "   'author': 'W. Clement Stone'},\n",
       "  {'author': 'Dr. Napoleon Hill, author of Think and Grow Rich.',\n",
       "   'quote': 'Whatever the mind can conceive and believe, the mind can achieve.'},\n",
       "  {'author': 'Bernard Shaw',\n",
       "   'quote': \"We don't stop playing because we grow old; we grow old because we stop playing.\"},\n",
       "  {'author': 'Wayne Dyer',\n",
       "   'quote': 'If you change the way you look at things, the things you look at change.'},\n",
       "  {'quote': 'Change your thoughts and you change your world.',\n",
       "   'author': 'Norman Vincent Peale'},\n",
       "  {'author': 'Confucius',\n",
       "   'quote': 'Choose a job you love, and you will never have to work a day in your life.'},\n",
       "  {'author': 'John Marshall',\n",
       "   'quote': 'To listen well is as powerful a means of communication and influence as to talk well.'},\n",
       "  {'author': 'Robert Stevenson',\n",
       "   'quote': \"Don't judge each day by the harvest you reap but by the seeds you plant.\"},\n",
       "  {'author': 'Charles A. Lindbergh',\n",
       "   'quote': 'Life a culmination of the past, an awareness of the present, an indication of the future beyond knowledge, the quality that gives a touch of divinity to matter.'},\n",
       "  {'author': 'Lao Tzu',\n",
       "   'quote': 'The journey of a thousand miles begins with one step.'},\n",
       "  {'author': 'Timothy Ferriss, author of The 4-Hour Work Week',\n",
       "   'quote': 'For all of the most important things, the timing always sucks. Waiting for a good time to quit your job? The stars will never align and the traffic lights of life will never all be green at the same time. The universe doesn’t conspire against you, but it doesn’t go out of its way to line up the pins either. Conditions are never perfect. Someday is a disease that will take your dreams to the grave with you. Pro and con lists are just as bad. If it’s important to you and you want to do it eventually, just do it and correct course along the way.'},\n",
       "  {'author': 'Ralph Emerson',\n",
       "   'quote': 'Self-trust is the first secret of success.'},\n",
       "  {'author': 'C. H. Parkhurst',\n",
       "   'quote': 'Purpose is what gives life a meaning.'},\n",
       "  {'author': 'Elisabeth Kubler-Ross',\n",
       "   'quote': 'I believe that we are solely responsible for our choices, and we have to accept the consequences of every deed, word, and thought throughout our lifetime.'},\n",
       "  {'author': 'Michel de Montaigne',\n",
       "   'quote': 'I care not so much what I am to others as what I am to myself. I will be rich by myself, and not by borrowing.'},\n",
       "  {'author': 'Bruce Lee',\n",
       "   'quote': 'The less effort, the faster and more powerful you will be.'}]}"
      ]
     },
     "execution_count": 47,
     "metadata": {},
     "output_type": "execute_result"
    }
   ],
   "source": [
    "results\n"
   ]
  }
 ],
 "metadata": {
  "interpreter": {
   "hash": "a69dba933c6b8185488e89e7a06f7aca9551140e90f608799b32574f8ad3faa0"
  },
  "kernelspec": {
   "display_name": "Python 3.8.12 64-bit ('FinTech': conda)",
   "language": "python",
   "name": "python3"
  },
  "language_info": {
   "codemirror_mode": {
    "name": "ipython",
    "version": 3
   },
   "file_extension": ".py",
   "mimetype": "text/x-python",
   "name": "python",
   "nbconvert_exporter": "python",
   "pygments_lexer": "ipython3",
   "version": "3.8.12"
  },
  "orig_nbformat": 4
 },
 "nbformat": 4,
 "nbformat_minor": 2
}
