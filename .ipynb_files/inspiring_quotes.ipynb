{
 "cells": [
  {
   "cell_type": "code",
   "execution_count": 1,
   "metadata": {},
   "outputs": [],
   "source": [
    "import requests\n",
    "import json\n",
    "import pandas as pd"
   ]
  },
  {
   "cell_type": "code",
   "execution_count": 2,
   "metadata": {},
   "outputs": [],
   "source": [
    "\n",
    "url = \"https://inspiring-quotes.p.rapidapi.com/multiple\"\n",
    "\n",
    "querystring = {\"count\":\"50\"}\n",
    "\n",
    "headers = {\n",
    "    'x-rapidapi-host': \"inspiring-quotes.p.rapidapi.com\",\n",
    "    'x-rapidapi-key': \"2075772920msh129b70e8d2ba5a2p1048b0jsn1be03d3f1b6d\"\n",
    "    }\n",
    "\n",
    "response = requests.request(\"GET\", url, headers=headers, params=querystring)\n",
    "\n",
    "results = (response.text)"
   ]
  },
  {
   "cell_type": "code",
   "execution_count": 42,
   "metadata": {},
   "outputs": [],
   "source": []
  },
  {
   "cell_type": "code",
   "execution_count": 10,
   "metadata": {},
   "outputs": [],
   "source": [
    "results = json.loads(results)"
   ]
  },
  {
   "cell_type": "code",
   "execution_count": 13,
   "metadata": {},
   "outputs": [
    {
     "data": {
      "text/plain": [
       "[{'author': 'Drew Houston, founder of Dropbox',\n",
       "  'quote': 'Don’t worry about failure; you only have to be right once.'},\n",
       " {'author': 'Sai Baba',\n",
       "  'quote': 'All action results from thought, so it is thoughts that matter.'},\n",
       " {'author': 'Helen Keller',\n",
       "  'quote': 'No pessimist ever discovered the secrets of the stars, or sailed to an uncharted land, or opened a new heaven to the human spirit.'},\n",
       " {'author': 'Thomas Jefferson',\n",
       "  'quote': \"I'm a great believer in luck and I find the harder I work, the more I have of it.\"},\n",
       " {'author': 'don’t compete.”',\n",
       "  'quote': 'If you don’t have a competitive advantage'},\n",
       " {'author': 'J. Willard Marriott',\n",
       "  'quote': 'Good timber does not grow with ease; the stronger the wind, the stronger the trees.'},\n",
       " {'author': 'Madame de Stael',\n",
       "  'quote': 'Wit lies in recognizing the resemblance among things which differ and the difference between things which are alike.'},\n",
       " {'author': 'Ralph Waldo Emerson',\n",
       "  'quote': 'A hero is no braver than an ordinary man, but he is braver five minutes longer.'},\n",
       " {'author': 'Caroline Myss',\n",
       "  'quote': \"You cannot change anything in your life with intention alone, which can become a watered-down, occasional hope that you'll get to tomorrow. Intention without action is useless.\"},\n",
       " {'author': 'Richard Bach',\n",
       "  'quote': 'Every person, all the events of your life are there because you have drawn them there. What you choose to do with them is up to you.'},\n",
       " {'author': 'Benjamin Spock',\n",
       "  'quote': 'Trust yourself. You know more than you think you do.'},\n",
       " {'author': 'Tony Robbins',\n",
       "  'quote': 'We can change our lives. We can do, have, and be exactly what we wish.'},\n",
       " {'author': 'Thich Nhat Hanh',\n",
       "  'quote': 'If we are not fully ourselves, truly in the present moment, we miss everything.'},\n",
       " {'author': 'Sophocles',\n",
       "  'quote': 'A short saying often contains much wisdom.'},\n",
       " {'author': 'Benjamin Disraeli',\n",
       "  'quote': 'The greatest good you can do for another is not just to share your riches but to reveal to him his own.'},\n",
       " {'author': 'Kin Hubbard', 'quote': \"You won't skid if you stay in a rut.\"},\n",
       " {'author': 'Bruce Lee',\n",
       "  'quote': 'Always be yourself, express yourself, have faith in yourself, do not go out and look for a successful personality and duplicate it.'},\n",
       " {'author': 'Ralph Emerson',\n",
       "  'quote': 'If the stars should appear but one night every thousand years how man would marvel and adore.'},\n",
       " {'author': 'Ralph Emerson',\n",
       "  'quote': 'Life is a progress, and not a station.'},\n",
       " {'author': 'Mother Teresa',\n",
       "  'quote': \"If you can't feed a hundred people, then feed just one.\"},\n",
       " {'author': 'Byron Pulsifer',\n",
       "  'quote': 'Everyone can taste success when the going is easy, but few know how to taste victory when times get tough.'},\n",
       " {'author': 'Vaclav Havel',\n",
       "  'quote': 'Work for something because it is good, not just because it stands a chance to succeed.'},\n",
       " {'author': 'Michael Vance',\n",
       "  'quote': 'Life is not measured by the breaths you take, but by its breathtaking moments.'},\n",
       " {'author': 'John Petit-Senn',\n",
       "  'quote': 'Not what we have but what we enjoy constitutes our abundance.'},\n",
       " {'author': 'Confucius',\n",
       "  'quote': 'The more you know yourself, the more you forgive yourself.'},\n",
       " {'author': 'Sun Tzu',\n",
       "  'quote': 'Can you imagine what I would do if I could do all I can?'},\n",
       " {'author': 'Oliver Holmes',\n",
       "  'quote': 'Love is the master key that opens the gates of happiness.'},\n",
       " {'author': 'Zig Ziglar, author and motivational speaker',\n",
       "  'quote': 'Statistics suggest that when customers complain, business owners and managers ought to get excited about it. The complaining customer represents a huge opportunity for more business.'},\n",
       " {'author': 'Cher Wang, CEO of HTC',\n",
       "  'quote': 'It takes humility to realize that we don’t know everything, not to rest on our laurels and know that we must keep learning and observing. If we don’t, we can be sure some startup will be there to take our place.'},\n",
       " {'author': 'Lao Tzu', 'quote': 'Silence is a source of great strength.'},\n",
       " {'author': 'Karl (maybe Groucho) Marx',\n",
       "  'quote': 'Catch a man a fish, and you can sell it to him. Teach a man to fish, and you ruin a wonderful business opportunity.'},\n",
       " {'author': 'Jessamyn West',\n",
       "  'quote': 'It is very easy to forgive others their mistakes; it takes more grit to forgive them for having witnessed your own.'},\n",
       " {'quote': 'First, have a definite, clear practical ideal; a goal, an objective. Second, have the necessary means to achieve your ends; wisdom, money, materials, and methods. Third, adjust all your means to that end.',\n",
       "  'author': 'Aristotle'},\n",
       " {'author': 'Lao Tzu',\n",
       "  'quote': 'He who knows, does not speak. He who speaks, does not know.'},\n",
       " {'author': 'Melody Beattie',\n",
       "  'quote': 'Gratitude makes sense of our past, brings peace for today, and creates a vision for tomorrow.'},\n",
       " {'author': 'Solon', 'quote': 'In all things that you do, consider the end.'},\n",
       " {'author': 'someone',\n",
       "  'quote': \"Don't let what you can't do stop you from doing what you can do.\"},\n",
       " {'author': 'Elizabeth Kenny', 'quote': 'He who angers you conquers you.'},\n",
       " {'author': 'Henry Ford',\n",
       "  'quote': 'Quality means doing it right when no one is looking.'},\n",
       " {'author': 'Aristotle',\n",
       "  'quote': 'In all things of nature there is something of the marvellous.'},\n",
       " {'quote': 'Happiness is not something readymade.  It comes from your own actions.',\n",
       "  'author': 'Dalai Lama'},\n",
       " {'author': 'Albert Einstein',\n",
       "  'quote': 'A man should look for what is, and not for what he thinks should be.'},\n",
       " {'author': 'someone',\n",
       "  'quote': \"Don't miss all the beautiful colors of the rainbow looking for that pot of gold.\"},\n",
       " {'author': 'George Burns',\n",
       "  'quote': 'I honestly think it is better to be a failure at something you love than to be a success at something you hate.'},\n",
       " {'author': 'Agatha Christie',\n",
       "  'quote': 'The secret of getting ahead is getting started.'},\n",
       " {'author': 'John Lubbock',\n",
       "  'quote': 'A day of worry is more exhausting than a day of work.'},\n",
       " {'author': 'John Lennon',\n",
       "  'quote': 'You may say Im a dreamer, but Im not the only one, I hope someday you will join us, and the world will live as one.'},\n",
       " {'author': 'General Douglas MacArthur',\n",
       "  'quote': 'A general is just as good or just as bad as the troops under his command make him.'},\n",
       " {'author': 'Albert Einstein',\n",
       "  'quote': 'Once we accept our limits, we go beyond them.'},\n",
       " {'author': 'Shakti Gawain',\n",
       "  'quote': 'The more light you allow within you, the brighter the world you live in will be.'}]"
      ]
     },
     "execution_count": 13,
     "metadata": {},
     "output_type": "execute_result"
    }
   ],
   "source": [
    "results['data'][0:]\n"
   ]
  }
 ],
 "metadata": {
  "interpreter": {
   "hash": "a69dba933c6b8185488e89e7a06f7aca9551140e90f608799b32574f8ad3faa0"
  },
  "kernelspec": {
   "display_name": "Python 3.8.12 64-bit ('FinTech': conda)",
   "language": "python",
   "name": "python3"
  },
  "language_info": {
   "codemirror_mode": {
    "name": "ipython",
    "version": 3
   },
   "file_extension": ".py",
   "mimetype": "text/x-python",
   "name": "python",
   "nbconvert_exporter": "python",
   "pygments_lexer": "ipython3",
   "version": "3.8.12"
  },
  "orig_nbformat": 4
 },
 "nbformat": 4,
 "nbformat_minor": 2
}
